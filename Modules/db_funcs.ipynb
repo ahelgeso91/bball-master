{
 "cells": [
  {
   "cell_type": "code",
   "execution_count": 1,
   "metadata": {},
   "outputs": [],
   "source": [
    "import numpy as np\n",
    "import pandas as pd\n",
    "import os, sys\n",
    "import pickle\n",
    "import requests, bs4\n",
    "from datetime import datetime, date, timedelta"
   ]
  },
  {
   "cell_type": "code",
   "execution_count": 2,
   "metadata": {},
   "outputs": [],
   "source": [
    "os.chdir('/Users/ahelgeso/Documents/GitHub/bball')\n",
    "os.getcwd()\n",
    "db = pd.read_csv('2018stats.csv')"
   ]
  },
  {
   "cell_type": "code",
   "execution_count": 3,
   "metadata": {},
   "outputs": [
    {
     "ename": "NameError",
     "evalue": "name 'year' is not defined",
     "output_type": "error",
     "traceback": [
      "\u001b[0;31m---------------------------------------------------------------------------\u001b[0m",
      "\u001b[0;31mNameError\u001b[0m                                 Traceback (most recent call last)",
      "\u001b[0;32m<ipython-input-3-18b70fe177f6>\u001b[0m in \u001b[0;36m<module>\u001b[0;34m()\u001b[0m\n\u001b[0;32m----> 1\u001b[0;31m \u001b[0murl\u001b[0m \u001b[0;34m=\u001b[0m \u001b[0;34mf'https://www.basketball-reference.com/leagues/NBA_{year}_games-{month}.html'\u001b[0m\u001b[0;34m\u001b[0m\u001b[0m\n\u001b[0m\u001b[1;32m      2\u001b[0m \u001b[0mres\u001b[0m \u001b[0;34m=\u001b[0m \u001b[0mrequests\u001b[0m\u001b[0;34m.\u001b[0m\u001b[0mget\u001b[0m\u001b[0;34m(\u001b[0m\u001b[0murl\u001b[0m\u001b[0;34m,\u001b[0m \u001b[0;34m'html_parser'\u001b[0m\u001b[0;34m)\u001b[0m\u001b[0;34m\u001b[0m\u001b[0m\n\u001b[1;32m      3\u001b[0m \u001b[0mres\u001b[0m\u001b[0;34m.\u001b[0m\u001b[0mraise_for_status\u001b[0m\u001b[0;34m(\u001b[0m\u001b[0;34m)\u001b[0m\u001b[0;34m\u001b[0m\u001b[0m\n\u001b[1;32m      4\u001b[0m \u001b[0msoup\u001b[0m \u001b[0;34m=\u001b[0m \u001b[0mbs4\u001b[0m\u001b[0;34m.\u001b[0m\u001b[0mBeautifulSoup\u001b[0m\u001b[0;34m(\u001b[0m\u001b[0mres\u001b[0m\u001b[0;34m.\u001b[0m\u001b[0mtext\u001b[0m\u001b[0;34m,\u001b[0m \u001b[0;34m'html.parser'\u001b[0m\u001b[0;34m)\u001b[0m\u001b[0;34m\u001b[0m\u001b[0m\n\u001b[1;32m      5\u001b[0m \u001b[0mgame_soup\u001b[0m \u001b[0;34m=\u001b[0m \u001b[0msoup\u001b[0m\u001b[0;34m.\u001b[0m\u001b[0mfind\u001b[0m\u001b[0;34m(\u001b[0m\u001b[0;34m'table'\u001b[0m\u001b[0;34m,\u001b[0m\u001b[0;34m{\u001b[0m\u001b[0;34m'id'\u001b[0m\u001b[0;34m:\u001b[0m\u001b[0;34m'schedule'\u001b[0m\u001b[0;34m}\u001b[0m\u001b[0;34m)\u001b[0m\u001b[0;34m\u001b[0m\u001b[0m\n",
      "\u001b[0;31mNameError\u001b[0m: name 'year' is not defined"
     ]
    }
   ],
   "source": [
    "url = f'https://www.basketball-reference.com/leagues/NBA_{year}_games-{month}.html'\n",
    "res = requests.get(url, 'html_parser')\n",
    "res.raise_for_status()\n",
    "soup = bs4.BeautifulSoup(res.text, 'html.parser')\n",
    "game_soup = soup.find('table',{'id':'schedule'})"
   ]
  },
  {
   "cell_type": "code",
   "execution_count": 29,
   "metadata": {},
   "outputs": [],
   "source": [
    "db['Date'] = db['Date'].apply(str)\n",
    "db['Date'] = pd.to_datetime(db.Date, format= \"%Y%m%d\")\n",
    "db = db.sort_values(by = ['Date']).reset_index(drop = True)"
   ]
  },
  {
   "cell_type": "code",
   "execution_count": 79,
   "metadata": {},
   "outputs": [],
   "source": [
    "def date_formatter(date):\n",
    "\n",
    "        if len(str(date.month)) != 2:\n",
    "            month = '0'+ str(date.month)\n",
    "        else:\n",
    "            month = str(date.month)\n",
    "        \n",
    "        if len(str(date.day)) != 2:\n",
    "            day = '0' + str(date.day)\n",
    "        else:\n",
    "            day = str(date.day)\n",
    "        \n",
    "        newdate = str(date.year) + month + day\n",
    "        return newdate"
   ]
  },
  {
   "cell_type": "code",
   "execution_count": 119,
   "metadata": {},
   "outputs": [],
   "source": [
    "a = pd.Timedelta(datetime(2019, 4, 20) - datetime(2019, 3, 30))\n",
    "s = pd.Series(pd.date_range(datetime(2019, 3, 30), periods = a.days, freq = 'D'))\n",
    "months = list(set([datetime.strftime(date, '%B').lower() for date in s]))\n",
    "\n"
   ]
  },
  {
   "cell_type": "code",
   "execution_count": 120,
   "metadata": {},
   "outputs": [
    {
     "data": {
      "text/plain": [
       "['march', 'april']"
      ]
     },
     "execution_count": 120,
     "metadata": {},
     "output_type": "execute_result"
    }
   ],
   "source": [
    "months"
   ]
  },
  {
   "cell_type": "code",
   "execution_count": 124,
   "metadata": {},
   "outputs": [
    {
     "data": {
      "text/plain": [
       "2019"
      ]
     },
     "execution_count": 124,
     "metadata": {},
     "output_type": "execute_result"
    }
   ],
   "source": [
    "offseason = [5, 6, 7, 8, 9]\n",
    "today = datetime.today()\n",
    "year = today.year + 1 if today.month >=10 else today.year\n",
    "year"
   ]
  },
  {
   "cell_type": "code",
   "execution_count": null,
   "metadata": {},
   "outputs": [],
   "source": [
    "def update(db, today = datetime.today()):\n",
    "    \n",
    "    '''\n",
    "    1. Order the current db by date\n",
    "    2. Check the last date that data was scraped, find time-delta\n",
    "        - If last scraped date was after current season, exception to make new db\n",
    "    3. Create a day-by-day timedelta (string?) list \n",
    "    4. Scrape raw stats data from bball-reference by date\n",
    "        - for date in daterange:\n",
    "            if month of date is in offseason, pass\n",
    "            scrape nba games schedule for given month\n",
    "                store game dates in a list\n",
    "                store team names in a list\n",
    "                get scores on this pass\n",
    "            scrape individual game pages from gamedate/home teams \n",
    "        - Get team and opponent stats at same time, faster than indexing\n",
    "    5. Change data types to correct type\n",
    "        - String date to datetime\n",
    "        - Points to int\n",
    "        - four factors to float \n",
    "        - ORB, TOV / 100.0\n",
    "        - Location 1/0\n",
    "    6. Do math for running averages\n",
    "    7. Scrape line data from sportsbookreview by date\n",
    "        - Odds to int, line to float\n",
    "    '''\n",
    "    \n",
    "    if db[db['Game Number'] == 82].sum() == 30:\n",
    "        return \"Season ended; Create new database.\"\n",
    "    \n",
    "    ### 1 ### Sort db by dates\n",
    "    \n",
    "    # Formats webscraped dates to match bball reference URLs for later scraping\n",
    "    def date_formatter(date):\n",
    "\n",
    "        if len(str(date.month)) != 2:\n",
    "            month = '0'+ str(date.month)\n",
    "        else:\n",
    "            month = str(date.month)\n",
    "        \n",
    "        if len(str(date.day)) != 2:\n",
    "            day = '0' + str(date.day)\n",
    "        else:\n",
    "            day = str(date.day)\n",
    "        \n",
    "        newdate = str(date.year) + month + day\n",
    "        return newdate\n",
    "    \n",
    "    # Check if dates are already datetime objects\n",
    "    fixdates = False\n",
    "    for date in db['Date']:\n",
    "        if type(date) != pd._libs.tslib.Timestamp:\n",
    "            fixdates = True\n",
    "            break\n",
    "            \n",
    "    # Turn dates into datetime objects\n",
    "    if fixdates:\n",
    "        db['Date'] = db['Date'].apply(str)\n",
    "        db['Date'] = pd.to_datetime(db.Date, format= \"%Y%m%d\")\n",
    "        \n",
    "    # Sort db every time, i don't see why not\n",
    "    db = db.sort_values(by = ['Date']).reset_index(drop = True)\n",
    "    \n",
    "    # Data is now ordered by date\n",
    "    \n",
    "    ### 2 ### Get timedelta of days between last update\n",
    "    \n",
    "    # Find difference between date last updated and current date, get range of dates\n",
    "    last_date = db['Date'].iloc[-1]\n",
    "    d = pd.Timedelta(today - db['Date'].iloc[-1])\n",
    "    daterange = pd.Series(pd.date_range(db['Date'].iloc[-1], periods = d.days, freq = 'D'))\n",
    "    \n",
    "    # Define offseason months so don't search those; year accounts for updating between seasons\n",
    "    offseason = ['may', 'june', 'july', 'august', 'september']\n",
    "    months = list(set([datetime.strftime(date, '%B').lower() for date in daterange if datetime.strftime(date, '%B').lower() not in offseason]))\n",
    "    years = [today.year + 1 if month in ['october', 'november', 'december'] else today.year for month in months]\n",
    "\n",
    "    \n",
    "    ### 3 ### Get all games played in delta months, then compare list to last entry in db\n",
    "          ### Also compile teams and opponents at this time to make scrape urls easier to build\n",
    "    \n",
    "    for month in months:\n",
    "        if month not in offseason:\n",
    "            url = f'https://www.basketball-reference.com/leagues/NBA_{year}_games-{month}.html'\n",
    "            res = requests.get(url, 'html_parser')\n",
    "            res.raise_for_status()\n",
    "            soup = bs4.BeautifulSoup(res.text, 'html.parser')\n",
    "            game_soup = soup.find('table',{'id':'schedule'})\n",
    "        \n",
    "            # Pull regular season game dates, generate list, turn it into datetime objects\n",
    "            datesoup = game_soup.find_all(attrs = {'data-stat':'date_game'})\n",
    "            gamedates = [entry.get_text() for entry in datesoup if entry.get_text() != 'Date' ]\n",
    "            game_dates = [datetime.strptime(date, '%a, %b %d, %Y') for date in gamedates]\n",
    "            game_dates = [date for date in game_d]\n",
    "            \n",
    "    points = []\n",
    "    location = []\n",
    "    efgs = []\n",
    "    tovpct = []\n",
    "    orbpct = []\n",
    "    ftr = []\n",
    "    \n",
    "#    for date in daterange:\n",
    "        \n",
    "\n",
    "    # Get just regular season stats\n",
    "    reg_season = soup.find('table',{'id':'games'})\n",
    "        \n",
    "    # Pull regular season game dates, generate list, turn it into datetime objects\n",
    "    datesoup = reg_season.find_all(attrs = {'data-stat':'date_game'})\n",
    "    gamedates = [entry.get_text() for entry in datesoup if entry.get_text() != 'Date' ]\n",
    "    game_dates = [datetime.strptime(date, '%a, %b %d, %Y') for date in gamedates]\n",
    "        \n",
    "        \n",
    "    # Find regular season game locations, translate to 1 = home, 0 = away\n",
    "    souplocs = reg_season.find_all(attrs = {'data-stat':'game_location'})\n",
    "    locs = [entry.get_text() for entry in souplocs if entry.get_text() == '' or entry.get_text() == '@']\n",
    "    game_locs = list(map(lambda x: 1 if x =='' else 0, locs))\n",
    "    \n",
    "    # Find opponent team names\n",
    "    oppts = reg_season.find_all(attrs = {'data-stat':'opp_name'})\n",
    "    opps = [entry.get_text() for entry in oppts if entry.get_text() != \"Opponent\"]\n",
    "    opp_abbrev = [team_abbrevs[opp] for opp in opps]\n",
    "        \n",
    "    # Get Results\n",
    "    soupresults = reg_season.find_all(attrs = {'data-stat':'game_result'})\n",
    "    results = [entry.get_text() for entry in soupresults if entry.get_text() == 'W' or entry.get_text() == 'L']\n",
    "    rslts = list(map(lambda x: 1 if x =='W' else 0, results))\n",
    "\n",
    "    # Get game stats\n",
    "    for i, gamedate in enumerate(game_dates):\n",
    "            \n",
    "        date = date_formatter(gamedate)\n",
    "        dates.append(date)\n",
    "            \n",
    "        if game_locs[i] == 1:\n",
    "            url = f'https://www.basketball-reference.com/boxscores/{date}0{team}.html'\n",
    "            res = requests.get(url)\n",
    "            res.raise_for_status()\n",
    "            soup = bs4.BeautifulSoup(re.sub(\"<!--|-->\", \"\", res.text), 'html.parser')\n",
    "            fourfac = soup.find('div',{'id':'all_four_factors'})\n",
    "            efgs.append(fourfac.find_all('td',{'data-stat':'efg_pct'})[1].get_text())\n",
    "            tovpct.append(fourfac.find_all('td',{'data-stat':'tov_pct'})[1].get_text())\n",
    "            orbpct.append(fourfac.find_all('td',{'data-stat':'orb_pct'})[1].get_text())\n",
    "            ftr.append(fourfac.find_all('td',{'data-stat':'ft_rate'})[1].get_text())\n",
    "        else:\n",
    "            url = f'https://www.basketball-reference.com/boxscores/{date}0{team_abbrevs[opps[i]]}.html'\n",
    "            res = requests.get(url)\n",
    "            res.raise_for_status()\n",
    "            soup = bs4.BeautifulSoup(re.sub(\"<!--|-->\", \"\", res.text), 'html.parser')\n",
    "            fourfac = soup.find('div',{'id':'all_four_factors'})\n",
    "            efgs.append(fourfac.find_all('td',{'data-stat':'efg_pct'})[0].get_text())\n",
    "            tovpct.append(fourfac.find_all('td',{'data-stat':'tov_pct'})[0].get_text())\n",
    "            orbpct.append(fourfac.find_all('td',{'data-stat':'orb_pct'})[0].get_text())\n",
    "            ftr.append(fourfac.find_all('td',{'data-stat':'ft_rate'})[0].get_text())\n",
    "\n",
    "        print(\"Date: \" + date + \" Opponent: \" + team_abbrevs[opps[i]] + \" Result: \" + str(rslts[i]) + \" EFG%: \" + efgs[i] + \" TOV%: \" + tovpct[i] + \" ORB%: \" + orbpct[i] + \" FTR: \" + ftr[i])\n",
    "    \n",
    "    teamlist= [team] * 82\n",
    "    data = {'Team': teamlist, \"Game Number\":list(range(1,83)), \"Result\":rslts, \"Date\": dates, \"Opponent\": opp_abbrev, \"EFG%\": efgs, \"TOV%\" : tovpct, \"ORB%\":orbpct, \"FTR\":ftr}\n",
    "    df = pd.DataFrame.from_dict(data)\n",
    "    df['EFG%'] = df['EFG%'].apply(lambda x: float(x))\n",
    "    df['TOV%'] = df['TOV%'].apply(lambda x: float(x))\n",
    "    df['ORB%'] = df['ORB%'].apply(lambda x: float(x))\n",
    "    df['FTR'] = df['FTR'].apply(lambda x: float(x))\n",
    "    df['TOV%'] = df['TOV%']/100.0\n",
    "    df['ORB%'] = df['ORB%']/100.0\n",
    "\n",
    "    \n",
    "    return df\n",
    "    "
   ]
  },
  {
   "cell_type": "code",
   "execution_count": null,
   "metadata": {},
   "outputs": [],
   "source": []
  },
  {
   "cell_type": "code",
   "execution_count": null,
   "metadata": {},
   "outputs": [],
   "source": []
  }
 ],
 "metadata": {
  "kernelspec": {
   "display_name": "Python 3",
   "language": "python",
   "name": "python3"
  },
  "language_info": {
   "codemirror_mode": {
    "name": "ipython",
    "version": 3
   },
   "file_extension": ".py",
   "mimetype": "text/x-python",
   "name": "python",
   "nbconvert_exporter": "python",
   "pygments_lexer": "ipython3",
   "version": "3.6.4"
  }
 },
 "nbformat": 4,
 "nbformat_minor": 2
}
