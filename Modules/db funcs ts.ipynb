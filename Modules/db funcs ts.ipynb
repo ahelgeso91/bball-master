{
 "cells": [
  {
   "cell_type": "code",
   "execution_count": 1,
   "metadata": {},
   "outputs": [],
   "source": [
    "import numpy as np\n",
    "import pandas as pd\n",
    "import os, sys\n",
    "import pickle\n",
    "import requests, bs4\n",
    "from datetime import datetime, date, timedelta"
   ]
  },
  {
   "cell_type": "code",
   "execution_count": 2,
   "metadata": {},
   "outputs": [
    {
     "data": {
      "text/plain": [
       "'/Users/ahelgeso/Documents/GitHub/bball'"
      ]
     },
     "execution_count": 2,
     "metadata": {},
     "output_type": "execute_result"
    }
   ],
   "source": [
    "os.chdir('/Users/ahelgeso/Documents/GitHub/bball')\n",
    "os.getcwd()"
   ]
  },
  {
   "cell_type": "code",
   "execution_count": 3,
   "metadata": {},
   "outputs": [],
   "source": [
    "db = pd.read_csv('2018stats.csv')\n",
    "today = datetime(2018, 10, 25)"
   ]
  },
  {
   "cell_type": "code",
   "execution_count": 4,
   "metadata": {},
   "outputs": [
    {
     "data": {
      "text/plain": [
       "True"
      ]
     },
     "execution_count": 4,
     "metadata": {},
     "output_type": "execute_result"
    }
   ],
   "source": [
    "# Check if dates are already datetime objects\n",
    "fixdates = False\n",
    "for date in db['Date']:\n",
    "    if type(date) != pd._libs.tslib.Timestamp:\n",
    "        fixdates = True\n",
    "fixdates"
   ]
  },
  {
   "cell_type": "code",
   "execution_count": 5,
   "metadata": {},
   "outputs": [
    {
     "data": {
      "text/plain": [
       "2430   2018-04-10\n",
       "2431   2018-04-10\n",
       "2432   2018-04-10\n",
       "2433   2018-04-10\n",
       "2434   2018-04-10\n",
       "2435   2018-04-10\n",
       "2436   2018-04-11\n",
       "2437   2018-04-11\n",
       "2438   2018-04-11\n",
       "2439   2018-04-11\n",
       "2440   2018-04-11\n",
       "2441   2018-04-11\n",
       "2442   2018-04-11\n",
       "2443   2018-04-11\n",
       "2444   2018-04-11\n",
       "2445   2018-04-11\n",
       "2446   2018-04-11\n",
       "2447   2018-04-11\n",
       "2448   2018-04-11\n",
       "2449   2018-04-11\n",
       "2450   2018-04-11\n",
       "2451   2018-04-11\n",
       "2452   2018-04-11\n",
       "2453   2018-04-11\n",
       "2454   2018-04-11\n",
       "2455   2018-04-11\n",
       "2456   2018-04-11\n",
       "2457   2018-04-11\n",
       "2458   2018-04-11\n",
       "Name: Date, dtype: datetime64[ns]"
      ]
     },
     "execution_count": 5,
     "metadata": {},
     "output_type": "execute_result"
    }
   ],
   "source": [
    "# Turn dates into datetime objects\n",
    "if fixdates:\n",
    "    db['Date'] = db['Date'].apply(str)\n",
    "    db['Date'] = pd.to_datetime(db.Date, format= \"%Y%m%d\")\n",
    "        \n",
    "# Sort db every time, i don't see why not\n",
    "db = db.sort_values(by = ['Date']).reset_index(drop = True)\n",
    "# Data is now ordered by date\n",
    "db['Date'][-30:-1]"
   ]
  },
  {
   "cell_type": "code",
   "execution_count": 7,
   "metadata": {},
   "outputs": [
    {
     "name": "stdout",
     "output_type": "stream",
     "text": [
      "0     2018-04-11\n",
      "1     2018-04-12\n",
      "2     2018-04-13\n",
      "3     2018-04-14\n",
      "4     2018-04-15\n",
      "5     2018-04-16\n",
      "6     2018-04-17\n",
      "7     2018-04-18\n",
      "8     2018-04-19\n",
      "9     2018-04-20\n",
      "10    2018-04-21\n",
      "11    2018-04-22\n",
      "12    2018-04-23\n",
      "13    2018-04-24\n",
      "14    2018-04-25\n",
      "15    2018-04-26\n",
      "16    2018-04-27\n",
      "17    2018-04-28\n",
      "18    2018-04-29\n",
      "19    2018-04-30\n",
      "20    2018-05-01\n",
      "21    2018-05-02\n",
      "22    2018-05-03\n",
      "23    2018-05-04\n",
      "24    2018-05-05\n",
      "25    2018-05-06\n",
      "26    2018-05-07\n",
      "27    2018-05-08\n",
      "28    2018-05-09\n",
      "29    2018-05-10\n",
      "         ...    \n",
      "167   2018-09-25\n",
      "168   2018-09-26\n",
      "169   2018-09-27\n",
      "170   2018-09-28\n",
      "171   2018-09-29\n",
      "172   2018-09-30\n",
      "173   2018-10-01\n",
      "174   2018-10-02\n",
      "175   2018-10-03\n",
      "176   2018-10-04\n",
      "177   2018-10-05\n",
      "178   2018-10-06\n",
      "179   2018-10-07\n",
      "180   2018-10-08\n",
      "181   2018-10-09\n",
      "182   2018-10-10\n",
      "183   2018-10-11\n",
      "184   2018-10-12\n",
      "185   2018-10-13\n",
      "186   2018-10-14\n",
      "187   2018-10-15\n",
      "188   2018-10-16\n",
      "189   2018-10-17\n",
      "190   2018-10-18\n",
      "191   2018-10-19\n",
      "192   2018-10-20\n",
      "193   2018-10-21\n",
      "194   2018-10-22\n",
      "195   2018-10-23\n",
      "196   2018-10-24\n",
      "Length: 197, dtype: datetime64[ns]\n"
     ]
    }
   ],
   "source": [
    "### 2 ###\n",
    "    \n",
    "# Find difference between date last updated and current date, get range of dates\n",
    "last_date = db['Date'].iloc[-1]\n",
    "d = pd.Timedelta(today - db['Date'].iloc[-1])\n",
    "daterange = pd.Series(pd.date_range(db['Date'].iloc[-1], periods = d.days, freq = 'D'))\n",
    "print(daterange)"
   ]
  },
  {
   "cell_type": "code",
   "execution_count": 8,
   "metadata": {},
   "outputs": [
    {
     "name": "stdout",
     "output_type": "stream",
     "text": [
      "[('april', 2018), ('october', 2019)]\n"
     ]
    }
   ],
   "source": [
    "# Define offseason months so don't search those; year accounts for updating between seasons\n",
    "offseason = ['may', 'june', 'july', 'august', 'september']\n",
    "months = list(set([datetime.strftime(date, '%B').lower() for date in daterange if datetime.strftime(date, '%B').lower() not in offseason]))\n",
    "years = [today.year + 1 if month in ['october', 'november', 'december'] else today.year for month in months]\n",
    "print(list(zip(months, years)))\n",
    "\n",
    "\n"
   ]
  },
  {
   "cell_type": "code",
   "execution_count": 10,
   "metadata": {},
   "outputs": [
    {
     "name": "stdout",
     "output_type": "stream",
     "text": [
      "https://www.basketball-reference.com/leagues/NBA_2018_games-april.html\n",
      "[datetime.datetime(2018, 4, 25, 0, 0), datetime.datetime(2018, 4, 11, 0, 0), datetime.datetime(2018, 4, 1, 0, 0), datetime.datetime(2018, 4, 18, 0, 0), datetime.datetime(2018, 4, 21, 0, 0), datetime.datetime(2018, 4, 9, 0, 0), datetime.datetime(2018, 4, 14, 0, 0), datetime.datetime(2018, 4, 7, 0, 0), datetime.datetime(2018, 4, 16, 0, 0), datetime.datetime(2018, 4, 19, 0, 0), datetime.datetime(2018, 4, 28, 0, 0), datetime.datetime(2018, 4, 29, 0, 0), datetime.datetime(2018, 4, 23, 0, 0), datetime.datetime(2018, 4, 6, 0, 0), datetime.datetime(2018, 4, 17, 0, 0), datetime.datetime(2018, 4, 3, 0, 0), datetime.datetime(2018, 4, 20, 0, 0), datetime.datetime(2018, 4, 4, 0, 0), datetime.datetime(2018, 4, 8, 0, 0), datetime.datetime(2018, 4, 27, 0, 0), datetime.datetime(2018, 4, 22, 0, 0), datetime.datetime(2018, 4, 15, 0, 0), datetime.datetime(2018, 4, 24, 0, 0), datetime.datetime(2018, 4, 26, 0, 0), datetime.datetime(2018, 4, 30, 0, 0), datetime.datetime(2018, 4, 5, 0, 0), datetime.datetime(2018, 4, 10, 0, 0)]\n",
      "https://www.basketball-reference.com/leagues/NBA_2019_games-october.html\n",
      "[datetime.datetime(2018, 10, 28, 0, 0), datetime.datetime(2018, 10, 19, 0, 0), datetime.datetime(2018, 10, 20, 0, 0), datetime.datetime(2018, 10, 24, 0, 0), datetime.datetime(2018, 10, 22, 0, 0), datetime.datetime(2018, 10, 21, 0, 0), datetime.datetime(2018, 10, 17, 0, 0), datetime.datetime(2018, 10, 25, 0, 0), datetime.datetime(2018, 10, 29, 0, 0), datetime.datetime(2018, 10, 27, 0, 0), datetime.datetime(2018, 10, 23, 0, 0), datetime.datetime(2018, 10, 18, 0, 0), datetime.datetime(2018, 10, 31, 0, 0), datetime.datetime(2018, 10, 26, 0, 0), datetime.datetime(2018, 10, 16, 0, 0), datetime.datetime(2018, 10, 30, 0, 0)]\n"
     ]
    }
   ],
   "source": [
    "for month, year in list(zip(months,years)):\n",
    "    url = f'https://www.basketball-reference.com/leagues/NBA_{year}_games-{month}.html'\n",
    "    print(url)\n",
    "    res = requests.get(url, 'html_parser')\n",
    "    res.raise_for_status()\n",
    "    soup = bs4.BeautifulSoup(res.text, 'html.parser')\n",
    "    game_soup = soup.find('table',{'id':'schedule'})\n",
    "    \n",
    "    datesoup = game_soup.find_all(attrs = {'data-stat':'date_game'})\n",
    "    gamedates = [entry.get_text() for entry in datesoup if entry.get_text() != 'Date' ]\n",
    "    game_dates = list(set([datetime.strptime(date, '%a, %b %d, %Y') for date in gamedates]))\n",
    "    print(game_dates)"
   ]
  },
  {
   "cell_type": "code",
   "execution_count": 60,
   "metadata": {},
   "outputs": [],
   "source": [
    "for date in game_dates:\n",
    "    if date.month == 4:\n",
    "        game_dates = [date for date in game_dates if date.day < 14]\n",
    "    else:\n",
    "        game_dates = [date for date in game_dates]\n",
    "# Pull game dates, generate list, turn it into datetime objects\n",
    "#game_dates = [date for date in game_dates if date in db['Date']]\n"
   ]
  },
  {
   "cell_type": "code",
   "execution_count": 69,
   "metadata": {},
   "outputs": [],
   "source": [
    "game_dates = pd.to_datetime([date for date in game_dates if date not in db.Date])"
   ]
  },
  {
   "cell_type": "code",
   "execution_count": 70,
   "metadata": {},
   "outputs": [
    {
     "data": {
      "text/plain": [
       "DatetimeIndex(['2018-04-03', '2018-04-09', '2018-04-04', '2018-04-07',\n",
       "               '2018-04-11', '2018-04-10', '2018-04-05', '2018-04-01',\n",
       "               '2018-04-06', '2018-04-08'],\n",
       "              dtype='datetime64[ns]', freq=None)"
      ]
     },
     "execution_count": 70,
     "metadata": {},
     "output_type": "execute_result"
    }
   ],
   "source": [
    "game_dates"
   ]
  },
  {
   "cell_type": "code",
   "execution_count": 80,
   "metadata": {},
   "outputs": [
    {
     "data": {
      "text/plain": [
       "0      2017-10-17\n",
       "1      2017-10-17\n",
       "2      2017-10-17\n",
       "3      2017-10-17\n",
       "4      2017-10-18\n",
       "5      2017-10-18\n",
       "6      2017-10-18\n",
       "7      2017-10-18\n",
       "8      2017-10-18\n",
       "9      2017-10-18\n",
       "10     2017-10-18\n",
       "11     2017-10-18\n",
       "12     2017-10-18\n",
       "13     2017-10-18\n",
       "14     2017-10-18\n",
       "15     2017-10-18\n",
       "16     2017-10-18\n",
       "17     2017-10-18\n",
       "18     2017-10-18\n",
       "19     2017-10-18\n",
       "20     2017-10-18\n",
       "21     2017-10-18\n",
       "22     2017-10-18\n",
       "23     2017-10-18\n",
       "24     2017-10-18\n",
       "25     2017-10-18\n",
       "26     2017-10-19\n",
       "27     2017-10-19\n",
       "28     2017-10-19\n",
       "29     2017-10-19\n",
       "          ...    \n",
       "2430   2018-04-10\n",
       "2431   2018-04-10\n",
       "2432   2018-04-10\n",
       "2433   2018-04-10\n",
       "2434   2018-04-10\n",
       "2435   2018-04-10\n",
       "2436   2018-04-11\n",
       "2437   2018-04-11\n",
       "2438   2018-04-11\n",
       "2439   2018-04-11\n",
       "2440   2018-04-11\n",
       "2441   2018-04-11\n",
       "2442   2018-04-11\n",
       "2443   2018-04-11\n",
       "2444   2018-04-11\n",
       "2445   2018-04-11\n",
       "2446   2018-04-11\n",
       "2447   2018-04-11\n",
       "2448   2018-04-11\n",
       "2449   2018-04-11\n",
       "2450   2018-04-11\n",
       "2451   2018-04-11\n",
       "2452   2018-04-11\n",
       "2453   2018-04-11\n",
       "2454   2018-04-11\n",
       "2455   2018-04-11\n",
       "2456   2018-04-11\n",
       "2457   2018-04-11\n",
       "2458   2018-04-11\n",
       "2459   2018-04-11\n",
       "Name: Date, Length: 2460, dtype: datetime64[ns]"
      ]
     },
     "execution_count": 80,
     "metadata": {},
     "output_type": "execute_result"
    }
   ],
   "source": [
    "db[db['Date']= pd."
   ]
  },
  {
   "cell_type": "code",
   "execution_count": null,
   "metadata": {},
   "outputs": [],
   "source": []
  },
  {
   "cell_type": "code",
   "execution_count": null,
   "metadata": {},
   "outputs": [],
   "source": []
  }
 ],
 "metadata": {
  "kernelspec": {
   "display_name": "Python 3",
   "language": "python",
   "name": "python3"
  },
  "language_info": {
   "codemirror_mode": {
    "name": "ipython",
    "version": 3
   },
   "file_extension": ".py",
   "mimetype": "text/x-python",
   "name": "python",
   "nbconvert_exporter": "python",
   "pygments_lexer": "ipython3",
   "version": "3.6.4"
  }
 },
 "nbformat": 4,
 "nbformat_minor": 2
}
