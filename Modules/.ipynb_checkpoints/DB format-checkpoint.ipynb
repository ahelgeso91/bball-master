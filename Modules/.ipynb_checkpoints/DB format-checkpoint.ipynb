{
 "cells": [
  {
   "cell_type": "code",
   "execution_count": 16,
   "metadata": {},
   "outputs": [],
   "source": [
    "import numpy as np\n",
    "import pandas as pd\n",
    "import os\n",
    "pd.options.mode.chained_assignment = None  # default='warn'\n",
    "path = '/Users/ahelgeso/Documents/GitHub/bball-master/Stat Sheets'\n",
    "os.chdir(path)"
   ]
  },
  {
   "cell_type": "code",
   "execution_count": 17,
   "metadata": {},
   "outputs": [],
   "source": [
    "names = ['2015stats','2016stats','2017stats','2018stats','2019stats']"
   ]
  },
  {
   "cell_type": "code",
   "execution_count": 8,
   "metadata": {},
   "outputs": [],
   "source": [
    "def opp_stats(db):\n",
    "    \n",
    "    db['Opp TSP'] = np.zeros(len(db['Team']))\n",
    "    db['Opp TOV'] = np.zeros(len(db['Team']))\n",
    "    db['Opp ORB'] = np.zeros(len(db['Team']))\n",
    "    db['Opp FTR'] = np.zeros(len(db['Team']))\n",
    "    db['Opp Poss'] = np.zeros(len(db['Team']))\n",
    "    db['Opp OEff'] = np.zeros(len(db['Team']))\n",
    "    db['Opp DEff'] = np.zeros(len(db['Team']))\n",
    "\n",
    "    for i, team in enumerate(db['Team']):\n",
    "        mask = (db['Date'] == db['Date'][i]) & (db['Opponent'] == team)\n",
    "        db['Opp TSP'][i] = db[mask]['EFG%']\n",
    "        db['Opp TOV'][i] = db[mask]['TOV%']\n",
    "        db['Opp ORB'][i] = db[mask]['ORB%']\n",
    "        db['Opp FTR'][i] = db[mask]['FTR']\n",
    "        db['Opp Poss'][i] = db[mask]['Pace']\n",
    "        db['Opp OEff'][i] = db[mask]['OEff']\n",
    "        db['Opp DEff'][i] = db[mask]['DEff']\n",
    "        \n",
    "    return db"
   ]
  },
  {
   "cell_type": "code",
   "execution_count": 11,
   "metadata": {},
   "outputs": [],
   "source": [
    "### X game rolling averages\n",
    "\n",
    "def rolling_averages(num, db):\n",
    "    name = 'Rolling{}EFG'.format(num)\n",
    "    EFGDB = pd.DataFrame()\n",
    "    rollingEFG = []\n",
    "    for team in db['Team'].unique():\n",
    "        teamRollingEFG = db[db['Team'] == team]['EFG%'].rolling(num).mean()\n",
    "        rollingEFG.append(teamRollingEFG)\n",
    "        EFG = {name:teamRollingEFG}\n",
    "        EFGdf = pd.DataFrame.from_dict(EFG)\n",
    "        EFGdf = EFGdf.shift(1)\n",
    "        EFGDB = pd.concat([EFGDB, EFGdf])\n",
    "    \n",
    "    name = 'Rolling{}TOV'.format(num)\n",
    "    TOVDB = pd.DataFrame()\n",
    "    rollingTOV = []\n",
    "    for team in db['Team'].unique():\n",
    "        teamRollingTOV = db[db['Team'] == team]['TOV%'].rolling(num).mean()\n",
    "        rollingTOV.append(teamRollingTOV)\n",
    "        TOV = {name:teamRollingTOV}\n",
    "        TOVdf = pd.DataFrame.from_dict(TOV)\n",
    "        TOVdf = TOVdf.shift(1)\n",
    "        TOVDB = pd.concat([TOVDB, TOVdf])\n",
    "\n",
    "    name = 'Rolling{}ORB'.format(num)\n",
    "    ORBDB = pd.DataFrame()\n",
    "    rollingORB = []\n",
    "    for team in db['Team'].unique():\n",
    "        teamRollingORB = db[db['Team'] == team]['ORB%'].rolling(num).mean()\n",
    "        rollingORB.append(teamRollingORB)\n",
    "        ORB = {name:teamRollingORB}\n",
    "        ORBdf = pd.DataFrame.from_dict(ORB)\n",
    "        ORBdf = ORBdf.shift(1)\n",
    "        ORBDB = pd.concat([ORBDB, ORBdf])\n",
    "\n",
    "    name = 'Rolling{}FTR'.format(num)\n",
    "    FTRDB = pd.DataFrame()\n",
    "    rollingFTR = []\n",
    "    for team in db['Team'].unique():\n",
    "        teamRollingFTR = db[db['Team'] == team]['FTR'].rolling(num).mean()\n",
    "        rollingFTR.append(teamRollingFTR)\n",
    "        FTR = {name:teamRollingFTR}\n",
    "        FTRdf = pd.DataFrame.from_dict(FTR)\n",
    "        FTRdf = FTRdf.shift(1)\n",
    "        FTRDB = pd.concat([FTRDB, FTRdf])\n",
    "\n",
    "    name = 'Rolling{}Pace'.format(num)\n",
    "    PaceDB = pd.DataFrame()\n",
    "    rollingPoss = []\n",
    "    for team in db['Team'].unique():\n",
    "        teamRollingPoss = db[db['Team'] == team]['Pace'].rolling(num).mean()\n",
    "        rollingPoss.append(teamRollingPoss)\n",
    "        Pace = {name:teamRollingPoss}\n",
    "        PACEdf = pd.DataFrame.from_dict(Pace)\n",
    "        PACEdf = PACEdf.shift(1)\n",
    "        PaceDB = pd.concat([PaceDB, PACEdf])\n",
    "\n",
    "    name = 'Rolling{}OEff'.format(num)\n",
    "    OEffDB = pd.DataFrame()\n",
    "    rollingOEff = []\n",
    "    for team in db['Team'].unique():\n",
    "        teamRollingOEff = db[db['Team'] == team]['OEff'].rolling(num).mean()\n",
    "        rollingOEff.append(teamRollingOEff)\n",
    "        OEff = {name:teamRollingOEff}\n",
    "        OEffdf = pd.DataFrame.from_dict(OEff)\n",
    "        OEffdf = OEffdf.shift(1)\n",
    "        OEffDB = pd.concat([OEffDB, OEffdf])\n",
    "\n",
    "    name = 'Rolling{}DEff'.format(num)\n",
    "    DEffDB = pd.DataFrame()\n",
    "    rollingDEff = []\n",
    "    for team in db['Team'].unique():\n",
    "        teamRollingDEff = db[db['Team'] == team]['DEff'].rolling(num).mean()\n",
    "        rollingDEff.append(teamRollingDEff)\n",
    "        DEff = {name:teamRollingDEff}\n",
    "        DEffdf = pd.DataFrame.from_dict(DEff)\n",
    "        DEffdf = DEffdf.shift(1)\n",
    "        DEffDB = pd.concat([DEffDB, DEffdf])\n",
    "\n",
    "    db = pd.concat([db, EFGDB, TOVDB, ORBDB, FTRDB, PaceDB, OEffDB, DEffDB], axis =1)\n",
    "    return db"
   ]
  },
  {
   "cell_type": "code",
   "execution_count": 10,
   "metadata": {},
   "outputs": [],
   "source": [
    "def opp_rolling_averages(num, db):\n",
    "\n",
    "    db['Opp R{}EFG'.format(num)] = np.zeros(len(db['Team']))\n",
    "    db['Opp R{}TOV'.format(num)] = np.zeros(len(db['Team']))\n",
    "    db['Opp R{}ORB'.format(num)] = np.zeros(len(db['Team']))\n",
    "    db['Opp R{}FTR'.format(num)] = np.zeros(len(db['Team']))\n",
    "    db['Opp R{}Pace'.format(num)] = np.zeros(len(db['Team']))\n",
    "    db['Opp R{} OEff'.format(num)] = np.zeros(len(db['Team']))\n",
    "    db['Opp R{} DEff'.format(num)] = np.zeros(len(db['Team']))\n",
    "    \n",
    "    for i, opp in enumerate(db['Opponent']):\n",
    "\n",
    "        db['Opp R{}EFG'.format(num)][i] = db[(db['Date'] == db['Date'][i]) & (db['Team'] == opp)]['Rolling{}EFG'.format(num)]\n",
    "        db['Opp R{}TOV'.format(num)][i] = db[(db['Date'] == db['Date'][i]) & (db['Team'] == opp)]['Rolling{}TOV'.format(num)]\n",
    "        db['Opp R{}ORB'.format(num)][i] = db[(db['Date'] == db['Date'][i]) & (db['Team'] == opp)]['Rolling{}ORB'.format(num)]\n",
    "        db['Opp R{}FTR'.format(num)][i] = db[(db['Date'] == db['Date'][i]) & (db['Team'] == opp)]['Rolling{}FTR'.format(num)]\n",
    "        db['Opp R{}Pace'.format(num)][i] = db[(db['Date'] == db['Date'][i]) & (db['Team'] == opp)]['Rolling{}Pace'.format(num)]\n",
    "        db['Opp R{} OEff'.format(num)][i] = db[(db['Date'] == db['Date'][i]) & (db['Team'] == opp)]['Rolling{}OEff'.format(num)]\n",
    "        db['Opp R{} DEff'.format(num)][i] = db[(db['Date'] == db['Date'][i]) & (db['Team'] == opp)]['Rolling{}DEff'.format(num)]\n",
    "        \n",
    "    return db"
   ]
  },
  {
   "cell_type": "code",
   "execution_count": 14,
   "metadata": {},
   "outputs": [],
   "source": [
    "rolling = 7\n",
    "\n",
    "for name in names:\n",
    "    db = pd.read_csv(f'{name}.csv')\n",
    "    db = opp_stats(db)\n",
    "    db = rolling_averages(rolling, db)\n",
    "    db = opp_rolling_averages(rolling, db)\n",
    "    db.to_csv(f'{name}.csv', index = False)"
   ]
  },
  {
   "cell_type": "code",
   "execution_count": null,
   "metadata": {},
   "outputs": [],
   "source": []
  },
  {
   "cell_type": "code",
   "execution_count": null,
   "metadata": {},
   "outputs": [],
   "source": []
  },
  {
   "cell_type": "code",
   "execution_count": 59,
   "metadata": {},
   "outputs": [],
   "source": []
  },
  {
   "cell_type": "code",
   "execution_count": 82,
   "metadata": {},
   "outputs": [],
   "source": []
  },
  {
   "cell_type": "code",
   "execution_count": 83,
   "metadata": {},
   "outputs": [],
   "source": []
  },
  {
   "cell_type": "code",
   "execution_count": null,
   "metadata": {},
   "outputs": [],
   "source": []
  },
  {
   "cell_type": "code",
   "execution_count": 86,
   "metadata": {},
   "outputs": [],
   "source": []
  },
  {
   "cell_type": "code",
   "execution_count": null,
   "metadata": {},
   "outputs": [],
   "source": []
  },
  {
   "cell_type": "code",
   "execution_count": null,
   "metadata": {},
   "outputs": [],
   "source": []
  },
  {
   "cell_type": "code",
   "execution_count": 3,
   "metadata": {},
   "outputs": [],
   "source": []
  },
  {
   "cell_type": "code",
   "execution_count": null,
   "metadata": {},
   "outputs": [],
   "source": []
  },
  {
   "cell_type": "code",
   "execution_count": 11,
   "metadata": {},
   "outputs": [],
   "source": []
  },
  {
   "cell_type": "code",
   "execution_count": null,
   "metadata": {},
   "outputs": [],
   "source": []
  },
  {
   "cell_type": "code",
   "execution_count": 15,
   "metadata": {},
   "outputs": [],
   "source": []
  },
  {
   "cell_type": "code",
   "execution_count": 25,
   "metadata": {},
   "outputs": [],
   "source": []
  },
  {
   "cell_type": "code",
   "execution_count": 28,
   "metadata": {},
   "outputs": [],
   "source": []
  },
  {
   "cell_type": "code",
   "execution_count": null,
   "metadata": {},
   "outputs": [],
   "source": []
  },
  {
   "cell_type": "code",
   "execution_count": null,
   "metadata": {},
   "outputs": [],
   "source": []
  },
  {
   "cell_type": "code",
   "execution_count": null,
   "metadata": {},
   "outputs": [],
   "source": []
  },
  {
   "cell_type": "code",
   "execution_count": null,
   "metadata": {},
   "outputs": [],
   "source": []
  }
 ],
 "metadata": {
  "kernelspec": {
   "display_name": "Python 3",
   "language": "python",
   "name": "python3"
  },
  "language_info": {
   "codemirror_mode": {
    "name": "ipython",
    "version": 3
   },
   "file_extension": ".py",
   "mimetype": "text/x-python",
   "name": "python",
   "nbconvert_exporter": "python",
   "pygments_lexer": "ipython3",
   "version": "3.6.8"
  }
 },
 "nbformat": 4,
 "nbformat_minor": 2
}
