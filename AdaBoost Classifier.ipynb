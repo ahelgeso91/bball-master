{
 "cells": [
  {
   "cell_type": "code",
   "execution_count": 31,
   "metadata": {},
   "outputs": [],
   "source": [
    "import numpy as np\n",
    "import pandas as pd\n",
    "import matplotlib.pyplot as plt\n",
    "import seaborn as sns\n",
    "%matplotlib inline\n",
    "from sklearn.svm import SVC\n",
    "from sklearn.model_selection import train_test_split\n",
    "from sklearn import metrics\n",
    "from sklearn.model_selection import cross_val_score\n",
    "from sklearn import preprocessing\n",
    "from sklearn.feature_selection import RFE\n",
    "from sklearn.ensemble import RandomForestClassifier\n",
    "from sklearn.ensemble import AdaBoostClassifier\n",
    "import os\n",
    "import pickle\n",
    "from sklearn.metrics import confusion_matrix\n",
    "import requests, bs4\n",
    "from sklearn.metrics import roc_curve, auc"
   ]
  },
  {
   "cell_type": "code",
   "execution_count": 32,
   "metadata": {},
   "outputs": [],
   "source": [
    "db19 = pd.read_csv('2019stats.csv')"
   ]
  },
  {
   "cell_type": "markdown",
   "metadata": {},
   "source": [
    "### Check results using 2016-2018 data on 2019 games "
   ]
  },
  {
   "cell_type": "code",
   "execution_count": 33,
   "metadata": {},
   "outputs": [],
   "source": [
    "db18 = pd.read_csv('2018stats.csv')\n",
    "db17 = pd.read_csv('2017stats.csv')\n",
    "db16 = pd.read_csv('2016stats.csv')\n",
    "db15 = pd.read_csv('2015stats.csv')"
   ]
  },
  {
   "cell_type": "code",
   "execution_count": 4,
   "metadata": {},
   "outputs": [],
   "source": [
    "feature3Cols = ['Location','Rolling3EFG','Rolling3TOV','Rolling3ORB','Rolling3FTR','Rolling3Pace','Opp R3Pace','Opp R3EFG','Opp R3TOV','Opp R3ORB','Opp R3FTR', 'Rolling3DEff', 'Opp R3 Deff', 'Rolling3OEff','Opp R3 Oeff']\n",
    "feature9Cols = ['Location','Rolling9EFG','Rolling9TOV','Rolling9ORB','Rolling9FTR','Rolling9Pace','Opp R9Pace','Opp R9EFG','Opp R9TOV','Opp R9ORB','Opp R9FTR', 'Rolling9DEff', 'Opp R9 Deff', 'Rolling3OEff','Opp R3 Oeff']\n",
    "\n",
    "target = ['Result']\n",
    "X3 = db.dropna()[feature3Cols]\n",
    "X9 = db.dropna()[feature9Cols]\n",
    "y = np.array(db.dropna()[target]).flatten()\n",
    "#svc=SVC(probability=True, gamma = 'scale')\n",
    "\n",
    "x9_train, x9_test, y9_train, y9_test = train_test_split(X9, y, test_size=0.3)\n",
    "x3_train, x3_test, y3_train, y3_test = train_test_split(X3, y, test_size=0.3)\n"
   ]
  },
  {
   "cell_type": "markdown",
   "metadata": {},
   "source": [
    "### Training models"
   ]
  },
  {
   "cell_type": "code",
   "execution_count": 5,
   "metadata": {},
   "outputs": [
    {
     "name": "stdout",
     "output_type": "stream",
     "text": [
      "All picks (R9): 0.6712328767123288\n",
      "All picks (R9) matrix:\n",
      " [[223 108]\n",
      " [108 218]]\n",
      " \n",
      "0.6712138342631551\n",
      "All picks (R3): 0.6270928462709284\n",
      "All picks (R3) matrix:\n",
      " [[198 125]\n",
      " [120 214]]\n",
      "0.6268608294247419\n",
      " \n"
     ]
    }
   ],
   "source": [
    "ada9 = AdaBoostClassifier(n_estimators=50, learning_rate=0.1, random_state=1).fit(x9_train, y9_train)\n",
    "pred = ada9.predict(x9_test)\n",
    "print('All picks (R9):',ada9.score(x9_test, y9_test))\n",
    "print('All picks (R9) matrix:\\n',confusion_matrix(y9_test, pred))\n",
    "print(' ')\n",
    "false_positive_rate, true_positive_rate, thresholds = roc_curve(y9_test, pred)\n",
    "roc_auc = auc(false_positive_rate, true_positive_rate)\n",
    "print(roc_auc)\n",
    "\n",
    "ada3 = AdaBoostClassifier(n_estimators=50, learning_rate=0.1, random_state=1).fit(x3_train, y3_train)\n",
    "pred = ada3.predict(x3_test)\n",
    "print('All picks (R3):',ada3.score(x3_test, y3_test))\n",
    "print('All picks (R3) matrix:\\n',confusion_matrix(y3_test, pred))\n",
    "false_positive_rate, true_positive_rate, thresholds = roc_curve(y3_test, pred)\n",
    "roc_auc = auc(false_positive_rate, true_positive_rate)\n",
    "print(roc_auc)\n",
    "print(' ')\n"
   ]
  },
  {
   "cell_type": "markdown",
   "metadata": {},
   "source": [
    "### 2019 test data"
   ]
  },
  {
   "cell_type": "code",
   "execution_count": 6,
   "metadata": {},
   "outputs": [],
   "source": [
    "dogs2019 = db19[(db19['Line'] > 0)].dropna().reset_index()\n",
    "Ydogs2019 = db19[(db19['Line'] > 0)].dropna()['Result']"
   ]
  },
  {
   "cell_type": "code",
   "execution_count": 7,
   "metadata": {},
   "outputs": [
    {
     "name": "stdout",
     "output_type": "stream",
     "text": [
      "Using dog data[rolling 9 averages]: \n",
      "\n",
      "Using 9 game standard predictor: \n",
      "Dog picks: 0.6225535880708295\n",
      "Dog picks matrix:\n",
      " [[527 189]\n",
      " [216 141]]\n",
      "\n",
      "Using 3 game standard predictor: \n",
      "Dog picks: 0.6234855545200373\n",
      "Dog picks matrix:\n",
      " [[523 193]\n",
      " [211 146]]\n",
      "\n"
     ]
    }
   ],
   "source": [
    "print(\"Using dog data[rolling 9 averages]: \\n\")\n",
    "\n",
    "print(\"Using 9 game standard predictor: \")\n",
    "pred1 = ada9.predict(dogs2019[feature9Cols])\n",
    "print('Dog picks:',ada9.score(dogs2019[feature9Cols], Ydogs2019))\n",
    "print('Dog picks matrix:\\n',confusion_matrix(Ydogs2019, pred1))\n",
    "print('')\n",
    "\n",
    "print(\"Using 3 game standard predictor: \")\n",
    "pred2 = ada3.predict(dogs2019[feature9Cols])\n",
    "print('Dog picks:',ada3.score(dogs2019[feature9Cols], Ydogs2019))\n",
    "print('Dog picks matrix:\\n',confusion_matrix(Ydogs2019, pred2))\n",
    "print('')\n"
   ]
  },
  {
   "cell_type": "code",
   "execution_count": 8,
   "metadata": {},
   "outputs": [
    {
     "data": {
      "text/plain": [
       "184"
      ]
     },
     "execution_count": 8,
     "metadata": {},
     "output_type": "execute_result"
    }
   ],
   "source": [
    "odds = []\n",
    "for i, n in enumerate(pred2):\n",
    "    if n == 1:\n",
    "        odds.append(dogs2019['Odds'][i])\n",
    "import statistics\n",
    "statistics.mean(odds)"
   ]
  },
  {
   "cell_type": "markdown",
   "metadata": {},
   "source": []
  },
  {
   "cell_type": "code",
   "execution_count": 9,
   "metadata": {},
   "outputs": [
    {
     "name": "stdout",
     "output_type": "stream",
     "text": [
      "Using rolling 3 averages: \n",
      "\n",
      "Using 9 game standard predictor: \n",
      "Dog picks: 0.6309412861136999\n",
      "Dog picks matrix:\n",
      " [[509 207]\n",
      " [189 168]]\n",
      "\n",
      "Using 3 game standard predictor: \n",
      "Dog picks: 0.6225535880708295\n",
      "Dog picks matrix:\n",
      " [[501 215]\n",
      " [190 167]]\n",
      "\n"
     ]
    }
   ],
   "source": [
    "print(\"Using rolling 3 averages: \\n\")\n",
    "\n",
    "print(\"Using 9 game standard predictor: \")\n",
    "pred1 = ada9.predict(dogs2019[feature3Cols])\n",
    "print('Dog picks:',ada9.score(dogs2019[feature3Cols], Ydogs2019))\n",
    "print('Dog picks matrix:\\n',confusion_matrix(Ydogs2019, pred1))\n",
    "print('')\n",
    "\n",
    "print(\"Using 3 game standard predictor: \")\n",
    "pred2 = ada3.predict(dogs2019[feature3Cols])\n",
    "print('Dog picks:',ada3.score(dogs2019[feature3Cols], Ydogs2019))\n",
    "print('Dog picks matrix:\\n',confusion_matrix(Ydogs2019, pred2))\n",
    "print('')\n"
   ]
  },
  {
   "cell_type": "code",
   "execution_count": 10,
   "metadata": {},
   "outputs": [
    {
     "name": "stdout",
     "output_type": "stream",
     "text": [
      "185\n",
      "160\n",
      "197\n",
      "165.0\n"
     ]
    }
   ],
   "source": [
    "odds = []\n",
    "for i, n in enumerate(pred1):\n",
    "    if n == 1:\n",
    "        odds.append(dogs2019['Odds'][i])\n",
    "        \n",
    "print(statistics.mean(odds))\n",
    "print(statistics.median(odds))\n",
    "\n",
    "odds = []\n",
    "for i, n in enumerate(pred2):\n",
    "    if n == 1:\n",
    "        odds.append(dogs2019['Odds'][i])\n",
    "        \n",
    "print(statistics.mean(odds))\n",
    "print(statistics.median(odds))"
   ]
  },
  {
   "cell_type": "markdown",
   "metadata": {},
   "source": [
    "### Now I'm gonna try and do the 50-predictor iterator like I did for WNBA and see if I can get a consensus "
   ]
  },
  {
   "cell_type": "code",
   "execution_count": 25,
   "metadata": {},
   "outputs": [],
   "source": [
    "dogs2019 = db19[(db19['Line'] > 0)].dropna().reset_index(drop = True)\n",
    "Ydogs2019 = db19[(db19['Line'] > 0)].dropna()['Result']\n",
    "\n",
    "feature3Cols = ['Rolling3EFG','Rolling3TOV','Rolling3ORB','Rolling3FTR','Rolling3Pace','Opp R3Pace','Opp R3EFG','Opp R3TOV','Opp R3ORB','Opp R3FTR', 'Rolling3DEff', 'Opp R3 Deff', 'Rolling3OEff','Opp R3 Oeff']\n",
    "feature9Cols = ['Rolling9EFG','Rolling9TOV','Rolling9ORB','Rolling9FTR','Rolling9Pace','Opp R9Pace','Opp R9EFG','Opp R9TOV','Opp R9ORB','Opp R9FTR', 'Rolling9DEff', 'Opp R9 Deff', 'Rolling9OEff','Opp R9 Oeff']\n",
    "\n",
    "target = ['Result']\n",
    "X3 = db.dropna()[feature3Cols]\n",
    "X9 = db.dropna()[feature9Cols]\n",
    "y = np.array(db.dropna()[target]).flatten()\n",
    "#svc=SVC(probability=True, gamma = 'scale')\n",
    "\n",
    "pred_avg99 = []\n",
    "pred_avg93 = []\n",
    "pred_avg39 = []\n",
    "pred_avg33 = []\n",
    "\n",
    "for i in range(100):\n",
    "\n",
    "    x9_train, x9_test, y9_train, y9_test = train_test_split(X9, y, test_size=0.3)\n",
    "    x3_train, x3_test, y3_train, y3_test = train_test_split(X3, y, test_size=0.3)\n",
    "    \n",
    "    ada3 = AdaBoostClassifier(n_estimators=50, learning_rate=0.1).fit(x3_train, y3_train)\n",
    "    \n",
    "    preds9_9 = ada9.predict(dogs2019[feature9Cols])\n",
    "    preds9_3 = ada9.predict(dogs2019[feature3Cols])\n",
    "    preds3_9 = ada3.predict(dogs2019[feature9Cols])\n",
    "    preds3_3 = ada3.predict(dogs2019[feature3Cols])\n",
    "    \n",
    "    pred_avg99.append(preds9_9)\n",
    "    pred_avg93.append(preds9_3)\n",
    "    pred_avg39.append(preds3_9)\n",
    "    pred_avg33.append(preds3_3)\n",
    "    \n",
    "    "
   ]
  },
  {
   "cell_type": "code",
   "execution_count": 26,
   "metadata": {},
   "outputs": [],
   "source": [
    "preds99 = [sum(i) for i in zip(*pred_avg99)]\n",
    "preds93 = [sum(i) for i in zip(*pred_avg93)]\n",
    "preds39 = [sum(i) for i in zip(*pred_avg39)]\n",
    "preds33 = [sum(i) for i in zip(*pred_avg33)]"
   ]
  },
  {
   "cell_type": "code",
   "execution_count": 27,
   "metadata": {},
   "outputs": [
    {
     "name": "stdout",
     "output_type": "stream",
     "text": [
      "3 game predictor, 3 game samples: Avg Odds: 190 wins: 157  losses: 217 profit: 4811 total risk: 37400 ROI: 0.12863636363636363\n",
      "3 game predictor, 9 game samples: Avg Odds: 176 wins: 154  losses: 199 profit: 3952 total risk: 35300 ROI: 0.11195467422096317\n",
      "9 game predictor, 3 game samples: Avg Odds: 185 wins: 168  losses: 207 profit: 6317 total risk: 37500 ROI: 0.16845333333333334\n",
      "9 game predictor, 9 game samples: Avg Odds: 171 wins: 141  losses: 189 profit: 709 total risk: 33000 ROI: 0.021484848484848485\n"
     ]
    }
   ],
   "source": [
    "odds = []\n",
    "wins = []\n",
    "losses = []\n",
    "profit = []\n",
    "threshold = 50\n",
    "\n",
    "for i, n in enumerate(preds33):\n",
    "    if n >= threshold and dogs2019['Result'][i] == 1:\n",
    "        wins.append(1)\n",
    "        profit.append(dogs2019['Odds'][i])\n",
    "        odds.append(dogs2019['Odds'][i])\n",
    "    elif n >= threshold and dogs2019['Result'][i] == 0:\n",
    "        losses.append(1)\n",
    "        profit.append(-100)\n",
    "        odds.append(dogs2019['Odds'][i])\n",
    "    else:\n",
    "        profit.append(0)\n",
    "        \n",
    "avg_odds = statistics.mean(odds)\n",
    "profits = sum(profit)\n",
    "total_bet = 100 * (len(wins) + len(losses))\n",
    "ROI = profits/total_bet\n",
    "    \n",
    "print('3 game predictor, 3 game samples: Avg Odds:', avg_odds, 'wins:', len(wins), ' losses:', len(losses), \n",
    "      'profit:', profits, 'total risk:', total_bet, 'ROI:', ROI)\n",
    "\n",
    "odds = []\n",
    "wins = []\n",
    "losses = []\n",
    "profit = []\n",
    "\n",
    "for i, n in enumerate(preds39):\n",
    "    if n >= threshold and dogs2019['Result'][i] == 1:\n",
    "        wins.append(1)\n",
    "        profit.append(dogs2019['Odds'][i])\n",
    "        odds.append(dogs2019['Odds'][i])\n",
    "    elif n >= threshold and dogs2019['Result'][i] == 0:\n",
    "        losses.append(1)\n",
    "        profit.append(-100)\n",
    "        odds.append(dogs2019['Odds'][i])\n",
    "    else:\n",
    "        profit.append(0)\n",
    "        \n",
    "avg_odds = statistics.mean(odds)\n",
    "profits = sum(profit)\n",
    "total_bet = 100 * (len(wins) + len(losses))\n",
    "ROI = profits/total_bet\n",
    "    \n",
    "print('3 game predictor, 9 game samples: Avg Odds:', avg_odds, 'wins:', len(wins), ' losses:', len(losses), \n",
    "      'profit:', profits, 'total risk:', total_bet, 'ROI:', ROI)\n",
    "\n",
    "odds = []\n",
    "wins = []\n",
    "losses = []\n",
    "profit = []\n",
    "\n",
    "for i, n in enumerate(preds93):\n",
    "    if n >= threshold and dogs2019['Result'][i] == 1:\n",
    "        wins.append(1)\n",
    "        profit.append(dogs2019['Odds'][i])\n",
    "        odds.append(dogs2019['Odds'][i])\n",
    "    elif n >= threshold and dogs2019['Result'][i] == 0:\n",
    "        losses.append(1)\n",
    "        profit.append(-100)\n",
    "        odds.append(dogs2019['Odds'][i])\n",
    "    else:\n",
    "        profit.append(0)\n",
    "        \n",
    "avg_odds = statistics.mean(odds)\n",
    "profits = sum(profit)\n",
    "total_bet = 100 * (len(wins) + len(losses))\n",
    "ROI = profits/total_bet\n",
    "    \n",
    "print('9 game predictor, 3 game samples: Avg Odds:', avg_odds, 'wins:', len(wins), ' losses:', len(losses), \n",
    "      'profit:', profits, 'total risk:', total_bet, 'ROI:', ROI)\n",
    "\n",
    "odds = []\n",
    "wins = []\n",
    "losses = []\n",
    "profit = []\n",
    "\n",
    "for i, n in enumerate(preds99):\n",
    "    if n >= threshold and dogs2019['Result'][i] == 1:\n",
    "        wins.append(1)\n",
    "        profit.append(dogs2019['Odds'][i])\n",
    "        odds.append(dogs2019['Odds'][i])\n",
    "    elif n >= threshold and dogs2019['Result'][i] == 0:\n",
    "        losses.append(1)\n",
    "        profit.append(-100)\n",
    "        odds.append(dogs2019['Odds'][i])\n",
    "    else:\n",
    "        profit.append(0)\n",
    "        \n",
    "avg_odds = statistics.mean(odds)\n",
    "profits = sum(profit)\n",
    "total_bet = 100 * (len(wins) + len(losses))\n",
    "ROI = profits/total_bet\n",
    "    \n",
    "print('9 game predictor, 9 game samples: Avg Odds:', avg_odds, 'wins:', len(wins), ' losses:', len(losses), \n",
    "      'profit:', profits, 'total risk:', total_bet, 'ROI:', ROI)"
   ]
  },
  {
   "cell_type": "code",
   "execution_count": null,
   "metadata": {},
   "outputs": [],
   "source": []
  },
  {
   "cell_type": "code",
   "execution_count": null,
   "metadata": {},
   "outputs": [],
   "source": []
  },
  {
   "cell_type": "code",
   "execution_count": 17,
   "metadata": {},
   "outputs": [],
   "source": [
    "#feature3Cols = ['Location','Rolling3EFG','Rolling3TOV','Rolling3ORB','Rolling3FTR','Rolling3Pace','Opp R3Pace','Opp R3EFG','Opp R3TOV','Opp R3ORB','Opp R3FTR']\n",
    "#feature9Cols = ['Location','Rolling9EFG','Rolling9TOV','Rolling9ORB','Rolling9FTR','Rolling9Pace','Opp R9Pace','Opp R9EFG','Opp R9TOV','Opp R9ORB','Opp R9FTR']\n",
    "\n",
    "#target = ['Result']\n",
    "X3 = db.dropna()[feature3Cols]\n",
    "X9 = db.dropna()[feature9Cols]\n",
    "y = np.array(db.dropna()[target]).flatten()\n",
    "svc=SVC(probability=True, gamma = 'scale')\n",
    "\n",
    "x9_train, x9_test, y9_train, y9_test = train_test_split(X9, y, test_size=0.3, random_state=8)\n",
    "x3_train, x3_test, y3_train, y3_test = train_test_split(X3, y, test_size=0.3, random_state=8)\n"
   ]
  },
  {
   "cell_type": "code",
   "execution_count": 18,
   "metadata": {},
   "outputs": [
    {
     "name": "stdout",
     "output_type": "stream",
     "text": [
      "All picks (R9): 0.634703196347032\n",
      "All picks (R9) matrix:\n",
      " [[415 252]\n",
      " [228 419]]\n",
      " \n",
      "0.634896616606689\n",
      "All picks (R3): 0.6286149162861492\n",
      "All picks (R3) matrix:\n",
      " [[442 225]\n",
      " [263 384]]\n",
      "0.6280885832199818\n",
      " \n"
     ]
    }
   ],
   "source": [
    "ada9 = AdaBoostClassifier(base_estimator = svc, n_estimators=50, learning_rate=0.1, random_state=1).fit(x9_train, y9_train)\n",
    "pred = ada9.predict(x9_test)\n",
    "print('All picks (R9):',ada9.score(x9_test, y9_test))\n",
    "print('All picks (R9) matrix:\\n',confusion_matrix(y9_test, pred))\n",
    "print(' ')\n",
    "false_positive_rate, true_positive_rate, thresholds = roc_curve(y9_test, pred)\n",
    "roc_auc = auc(false_positive_rate, true_positive_rate)\n",
    "print(roc_auc)\n",
    "\n",
    "ada3 = AdaBoostClassifier(base_estimator = svc, n_estimators=50, learning_rate=0.1, random_state=1).fit(x3_train, y3_train)\n",
    "pred = ada3.predict(x3_test)\n",
    "print('All picks (R3):',ada3.score(x3_test, y3_test))\n",
    "print('All picks (R3) matrix:\\n',confusion_matrix(y3_test, pred))\n",
    "false_positive_rate, true_positive_rate, thresholds = roc_curve(y3_test, pred)\n",
    "roc_auc = auc(false_positive_rate, true_positive_rate)\n",
    "print(roc_auc)\n",
    "print(' ')"
   ]
  },
  {
   "cell_type": "code",
   "execution_count": 19,
   "metadata": {},
   "outputs": [],
   "source": [
    "dogs2019 = db19[db19['Line'] > 0].dropna().reset_index()\n",
    "Ydogs2019 = db19[db19['Line'] > 0].dropna()['Result']"
   ]
  },
  {
   "cell_type": "code",
   "execution_count": 20,
   "metadata": {},
   "outputs": [
    {
     "name": "stdout",
     "output_type": "stream",
     "text": [
      "Using dog data[rolling 9 averages]: \n",
      "\n",
      "Using 9 game standard predictor: \n",
      "Dog picks: 0.625349487418453\n",
      "Dog picks matrix:\n",
      " [[545 171]\n",
      " [231 126]]\n",
      "\n",
      "Using 3 game standard predictor: \n",
      "Dog picks: 0.6178937558247903\n",
      "Dog picks matrix:\n",
      " [[534 182]\n",
      " [228 129]]\n",
      "\n"
     ]
    }
   ],
   "source": [
    "print(\"Using dog data[rolling 9 averages]: \\n\")\n",
    "\n",
    "print(\"Using 9 game standard predictor: \")\n",
    "pred1 = ada9.predict(dogs2019[feature9Cols])\n",
    "print('Dog picks:',ada9.score(dogs2019[feature9Cols], Ydogs2019))\n",
    "print('Dog picks matrix:\\n',confusion_matrix(Ydogs2019, pred1))\n",
    "print('')\n",
    "\n",
    "print(\"Using 3 game standard predictor: \")\n",
    "pred2 = ada3.predict(dogs2019[feature9Cols])\n",
    "print('Dog picks:',ada3.score(dogs2019[feature9Cols], Ydogs2019))\n",
    "print('Dog picks matrix:\\n',confusion_matrix(Ydogs2019, pred2))\n",
    "print('')"
   ]
  },
  {
   "cell_type": "markdown",
   "metadata": {},
   "source": [
    "Second model is the best one"
   ]
  },
  {
   "cell_type": "code",
   "execution_count": 21,
   "metadata": {},
   "outputs": [
    {
     "name": "stdout",
     "output_type": "stream",
     "text": [
      "Average odds 1: 168\n",
      "Median odds 1: 150\n",
      "Average odds 2: 191\n",
      "Median odds 2: 155\n"
     ]
    }
   ],
   "source": [
    "odds = []\n",
    "for i, n in enumerate(pred1):\n",
    "    if n == 1:\n",
    "        odds.append(dogs2019['Odds'][i])\n",
    "        \n",
    "print(\"Average odds 1:\", statistics.mean(odds))\n",
    "print(\"Median odds 1:\", statistics.median(odds))\n",
    "\n",
    "odds = []\n",
    "for i, n in enumerate(pred2):\n",
    "    if n == 1:\n",
    "        odds.append(dogs2019['Odds'][i])\n",
    "        \n",
    "print(\"Average odds 2:\", statistics.mean(odds))\n",
    "print(\"Median odds 2:\", statistics.median(odds))\n"
   ]
  },
  {
   "cell_type": "code",
   "execution_count": 22,
   "metadata": {},
   "outputs": [
    {
     "name": "stdout",
     "output_type": "stream",
     "text": [
      "Using rolling 3 averages: \n",
      "\n",
      "Using 9 game standard predictor: \n",
      "Dog picks: 0.6393289841565704\n",
      "Dog picks matrix:\n",
      " [[541 175]\n",
      " [212 145]]\n",
      "\n",
      "Using 3 game standard predictor: \n",
      "Dog picks: 0.6393289841565704\n",
      "Dog picks matrix:\n",
      " [[543 173]\n",
      " [214 143]]\n",
      "\n"
     ]
    }
   ],
   "source": [
    "print(\"Using rolling 3 averages: \\n\")\n",
    "\n",
    "print(\"Using 9 game standard predictor: \")\n",
    "pred1 = ada9.predict(dogs2019[feature3Cols])\n",
    "print('Dog picks:',ada9.score(dogs2019[feature3Cols], Ydogs2019))\n",
    "print('Dog picks matrix:\\n',confusion_matrix(Ydogs2019, pred1))\n",
    "print('')\n",
    "\n",
    "print(\"Using 3 game standard predictor: \")\n",
    "pred2 = ada3.predict(dogs2019[feature3Cols])\n",
    "print('Dog picks:',ada3.score(dogs2019[feature3Cols], Ydogs2019))\n",
    "print('Dog picks matrix:\\n',confusion_matrix(Ydogs2019, pred2))\n",
    "print('')\n"
   ]
  },
  {
   "cell_type": "code",
   "execution_count": 23,
   "metadata": {},
   "outputs": [
    {
     "name": "stdout",
     "output_type": "stream",
     "text": [
      "Average odds 1: 185\n",
      "Median odds 1: 160.0\n",
      "Average odds 2: 192\n",
      "Median odds 2: 160.0\n"
     ]
    }
   ],
   "source": [
    "odds = []\n",
    "for i, n in enumerate(pred1):\n",
    "    if n == 1:\n",
    "        odds.append(dogs2019['Odds'][i])\n",
    "        \n",
    "print(\"Average odds 1:\", statistics.mean(odds))\n",
    "print(\"Median odds 1:\", statistics.median(odds))\n",
    "\n",
    "odds = []\n",
    "for i, n in enumerate(pred2):\n",
    "    if n == 1:\n",
    "        odds.append(dogs2019['Odds'][i])\n",
    "        \n",
    "print(\"Average odds 2:\", statistics.mean(odds))\n",
    "print(\"Median odds 2:\", statistics.median(odds))"
   ]
  },
  {
   "cell_type": "markdown",
   "metadata": {},
   "source": [
    "Above: model 1 goes 163-191 with average betting odds of 182; this is profitable\n"
   ]
  },
  {
   "cell_type": "code",
   "execution_count": 63,
   "metadata": {},
   "outputs": [],
   "source": [
    "db19 = pd.read_csv('2019stats.csv')\n",
    "#db = pd.read_csv('2018stats.csv')"
   ]
  },
  {
   "cell_type": "code",
   "execution_count": 24,
   "metadata": {},
   "outputs": [],
   "source": [
    "#db19.drop(['Unnamed: 0', 'Unnamed: 0.1'], axis = 1, inplace = True)\n",
    "db19['Date'] = db19['Date'].apply(str)\n",
    "db19['Date'] = pd.to_datetime(db19.Date, format = \"%Y%m%d\")\n",
    "db19 = db19.sort_values(by = ['Date']).reset_index(drop = True)"
   ]
  },
  {
   "cell_type": "code",
   "execution_count": 25,
   "metadata": {},
   "outputs": [
    {
     "name": "stderr",
     "output_type": "stream",
     "text": [
      "C:\\Users\\helgeson\\AppData\\Local\\Continuum\\anaconda3\\lib\\site-packages\\ipykernel_launcher.py:4: FutureWarning: Sorting because non-concatenation axis is not aligned. A future version\n",
      "of pandas will change to not sort by default.\n",
      "\n",
      "To accept the future behavior, pass 'sort=False'.\n",
      "\n",
      "To retain the current behavior and silence the warning, pass 'sort=True'.\n",
      "\n",
      "  after removing the cwd from sys.path.\n"
     ]
    }
   ],
   "source": [
    "db['Date'] = db['Date'].apply(str)\n",
    "db['Date'] = pd.to_datetime(db.Date, format= \"%Y%m%d\")\n",
    "db = db.sort_values(by = ['Date']).reset_index(drop = True)\n",
    "test = pd.concat([db, db19[:int(len(db19)/2)]], ignore_index = True)"
   ]
  },
  {
   "cell_type": "code",
   "execution_count": 26,
   "metadata": {},
   "outputs": [],
   "source": [
    "# Leave in first half of prev season or cut it out?\n",
    "\n",
    "test = test.drop(test.index[:int(len(db19)/2)]) "
   ]
  },
  {
   "cell_type": "code",
   "execution_count": 27,
   "metadata": {},
   "outputs": [],
   "source": [
    "db = test.reset_index(drop = True) ### for simplicity"
   ]
  },
  {
   "cell_type": "code",
   "execution_count": 30,
   "metadata": {},
   "outputs": [],
   "source": [
    "db = db.drop(['Implied Prob','Implied Proba'], axis = 1)"
   ]
  },
  {
   "cell_type": "markdown",
   "metadata": {},
   "source": [
    "### Here is a realistic expectation of what a running database may look like. I added half the season's worth of 2019 onto the 2018 db, and dropped the first half of 2018. The model now looks at the second half of 2018 and the first half of 2019."
   ]
  },
  {
   "cell_type": "code",
   "execution_count": 31,
   "metadata": {},
   "outputs": [],
   "source": [
    "#feature3Cols = ['Location','Rolling3EFG','Rolling3TOV','Rolling3ORB','Rolling3FTR','Rolling3Pace','Opp R3Pace','Opp R3EFG','Opp R3TOV','Opp R3ORB','Opp R3FTR']\n",
    "#feature9Cols = ['Location','Rolling9EFG','Rolling9TOV','Rolling9ORB','Rolling9FTR','Rolling9Pace','Opp R9Pace','Opp R9EFG','Opp R9TOV','Opp R9ORB','Opp R9FTR']\n",
    "\n",
    "target = ['Result']\n",
    "X3 = db.dropna()[feature3Cols]\n",
    "X9 = db.dropna()[feature9Cols]\n",
    "y = np.array(db.dropna()[target]).flatten()\n",
    "svc = SVC(probability=True, gamma = 'scale')\n",
    "\n",
    "x9_train, x9_test, y9_train, y9_test = train_test_split(X9, y, test_size=0.3, random_state=3)\n",
    "x3_train, x3_test, y3_train, y3_test = train_test_split(X3, y, test_size=0.3, random_state=3)\n"
   ]
  },
  {
   "cell_type": "code",
   "execution_count": 32,
   "metadata": {},
   "outputs": [
    {
     "name": "stdout",
     "output_type": "stream",
     "text": [
      "All picks (R9): 0.6286149162861492\n",
      "All picks (R9) matrix:\n",
      " [[376 276]\n",
      " [212 450]]\n",
      "0.6282227123607584\n",
      " \n",
      "All picks (R3): 0.6354642313546424\n",
      "All picks (R3) matrix:\n",
      " [[417 235]\n",
      " [244 418]]\n",
      "0.6354952458621391\n",
      " \n"
     ]
    }
   ],
   "source": [
    "ada9 = AdaBoostClassifier(base_estimator = svc, n_estimators=50, learning_rate=0.1, random_state=3).fit(x9_train, y9_train)\n",
    "pred = ada9.predict(x9_test)\n",
    "print('All picks (R9):',ada9.score(x9_test, y9_test))\n",
    "print('All picks (R9) matrix:\\n',confusion_matrix(y9_test, pred))\n",
    "false_positive_rate, true_positive_rate, thresholds = roc_curve(y9_test, pred)\n",
    "roc_auc = auc(false_positive_rate, true_positive_rate)\n",
    "print(roc_auc)\n",
    "print(' ')\n",
    "\n",
    "ada3 = AdaBoostClassifier(base_estimator = svc, n_estimators=50, learning_rate=0.1, random_state=3).fit(x3_train, y3_train)\n",
    "pred = ada3.predict(x3_test)\n",
    "print('All picks (R3):',ada3.score(x3_test, y3_test))\n",
    "print('All picks (R3) matrix:\\n',confusion_matrix(y3_test, pred))\n",
    "false_positive_rate, true_positive_rate, thresholds = roc_curve(y3_test, pred)\n",
    "roc_auc = auc(false_positive_rate, true_positive_rate)\n",
    "print(roc_auc)\n",
    "print(' ')\n"
   ]
  },
  {
   "cell_type": "code",
   "execution_count": 33,
   "metadata": {},
   "outputs": [
    {
     "name": "stderr",
     "output_type": "stream",
     "text": [
      "C:\\Users\\helgeson\\AppData\\Local\\Continuum\\anaconda3\\lib\\site-packages\\ipykernel_launcher.py:1: UserWarning: Boolean Series key will be reindexed to match DataFrame index.\n",
      "  \"\"\"Entry point for launching an IPython kernel.\n",
      "C:\\Users\\helgeson\\AppData\\Local\\Continuum\\anaconda3\\lib\\site-packages\\ipykernel_launcher.py:2: UserWarning: Boolean Series key will be reindexed to match DataFrame index.\n",
      "  \n"
     ]
    }
   ],
   "source": [
    "dogs2019 = db19[int(len(db19)/2):][db19['Line'] > 0].dropna().reset_index()\n",
    "Ydogs2019 = db19[int(len(db19)/2):][db19['Line'] > 0].dropna()['Result']"
   ]
  },
  {
   "cell_type": "markdown",
   "metadata": {},
   "source": [
    "### This is now predicting all underdog games for last half of season"
   ]
  },
  {
   "cell_type": "code",
   "execution_count": 34,
   "metadata": {},
   "outputs": [
    {
     "name": "stdout",
     "output_type": "stream",
     "text": [
      "Using dog data[rolling 9 averages]: \n",
      "\n",
      "Using 9 game standard predictor: \n",
      "Dog picks: 0.6264462809917355\n",
      "Dog picks matrix:\n",
      " [[291 121]\n",
      " [105  88]]\n",
      "\n",
      "Using 3 game standard predictor: \n",
      "Dog picks: 0.6396694214876033\n",
      "Dog picks matrix:\n",
      " [[305 107]\n",
      " [111  82]]\n",
      "\n"
     ]
    }
   ],
   "source": [
    "print(\"Using dog data[rolling 9 averages]: \\n\")\n",
    "\n",
    "print(\"Using 9 game standard predictor: \")\n",
    "pred1 = ada9.predict(dogs2019[feature9Cols])\n",
    "print('Dog picks:',ada9.score(dogs2019[feature9Cols], Ydogs2019))\n",
    "print('Dog picks matrix:\\n',confusion_matrix(Ydogs2019, pred1))\n",
    "print('')\n",
    "\n",
    "print(\"Using 3 game standard predictor: \")\n",
    "pred2 = ada3.predict(dogs2019[feature9Cols])\n",
    "print('Dog picks:',ada3.score(dogs2019[feature9Cols], Ydogs2019))\n",
    "print('Dog picks matrix:\\n',confusion_matrix(Ydogs2019, pred2))\n",
    "print('')"
   ]
  },
  {
   "cell_type": "code",
   "execution_count": 35,
   "metadata": {},
   "outputs": [
    {
     "name": "stdout",
     "output_type": "stream",
     "text": [
      "Average odds: 184\n",
      "Median odds: 160\n",
      "Average odds: 191\n",
      "Median odds: 160\n"
     ]
    }
   ],
   "source": [
    "odds = []\n",
    "for i, n in enumerate(pred1):\n",
    "    if n == 1:\n",
    "        odds.append(dogs2019['Odds'][i])\n",
    "\n",
    "print(\"Average odds:\", statistics.mean(odds))\n",
    "print(\"Median odds:\", statistics.median(odds))\n",
    "\n",
    "odds = []\n",
    "for i, n in enumerate(pred2):\n",
    "    if n == 1:\n",
    "        odds.append(dogs2019['Odds'][i])\n",
    "\n",
    "print(\"Average odds:\", statistics.mean(odds))\n",
    "print(\"Median odds:\", statistics.median(odds))"
   ]
  },
  {
   "cell_type": "code",
   "execution_count": 36,
   "metadata": {},
   "outputs": [
    {
     "name": "stdout",
     "output_type": "stream",
     "text": [
      "Using rolling 3 averages: \n",
      "\n",
      "Using 9 game standard predictor: \n",
      "Dog picks: 0.6694214876033058\n",
      "Dog picks matrix:\n",
      " [[309 103]\n",
      " [ 97  96]]\n",
      "\n",
      "Using 3 game standard predictor: \n",
      "Dog picks: 0.6677685950413224\n",
      "Dog picks matrix:\n",
      " [[314  98]\n",
      " [103  90]]\n",
      "\n"
     ]
    }
   ],
   "source": [
    "print(\"Using rolling 3 averages: \\n\")\n",
    "\n",
    "print(\"Using 9 game standard predictor: \")\n",
    "pred1 = ada9.predict(dogs2019[feature3Cols])\n",
    "print('Dog picks:',ada9.score(dogs2019[feature3Cols], Ydogs2019))\n",
    "print('Dog picks matrix:\\n',confusion_matrix(Ydogs2019, pred1))\n",
    "print('')\n",
    "\n",
    "print(\"Using 3 game standard predictor: \")\n",
    "pred2 = ada3.predict(dogs2019[feature3Cols])\n",
    "print('Dog picks:',ada3.score(dogs2019[feature3Cols], Ydogs2019))\n",
    "print('Dog picks matrix:\\n',confusion_matrix(Ydogs2019, pred2))\n",
    "print('')\n"
   ]
  },
  {
   "cell_type": "code",
   "execution_count": 37,
   "metadata": {},
   "outputs": [
    {
     "name": "stdout",
     "output_type": "stream",
     "text": [
      "Average odds: 181\n",
      "Median odds: 170\n",
      "Average odds: 198\n",
      "Median odds: 167.5\n"
     ]
    }
   ],
   "source": [
    "odds = []\n",
    "for i, n in enumerate(pred1):\n",
    "    if n == 1:\n",
    "        odds.append(dogs2019['Odds'][i])\n",
    "\n",
    "print(\"Average odds:\", statistics.mean(odds))\n",
    "print(\"Median odds:\", statistics.median(odds))\n",
    "\n",
    "odds = []\n",
    "for i, n in enumerate(pred2):\n",
    "    if n == 1:\n",
    "        odds.append(dogs2019['Odds'][i])\n",
    "\n",
    "print(\"Average odds:\", statistics.mean(odds))\n",
    "print(\"Median odds:\", statistics.median(odds))"
   ]
  },
  {
   "cell_type": "markdown",
   "metadata": {},
   "source": [
    "This model drops 2018 data when adding first half of 2019.\n",
    "\n",
    "The 9-game predictor goes 85-141 using 3-game average data, with average odds of 229.\n",
    "\n",
    "The 3-game predictor goes 70-116 using 3-game average data, with average odds of 220."
   ]
  },
  {
   "cell_type": "code",
   "execution_count": 38,
   "metadata": {},
   "outputs": [],
   "source": [
    "pkl_filename = \"ADA9model.pkl\"  \n",
    "with open(pkl_filename, 'wb') as file:  \n",
    "    pickle.dump(ada9, file)\n",
    "    \n",
    "pkl_filename = \"ADA3model.pkl\"  \n",
    "with open(pkl_filename, 'wb') as file:  \n",
    "    pickle.dump(ada3, file)"
   ]
  },
  {
   "cell_type": "code",
   "execution_count": 58,
   "metadata": {},
   "outputs": [
    {
     "name": "stderr",
     "output_type": "stream",
     "text": [
      "/Users/ahelgeso/anaconda3/lib/python3.6/site-packages/sklearn/base.py:311: UserWarning: Trying to unpickle estimator DecisionTreeRegressor from version 0.20.3 when using version 0.19.1. This might lead to breaking code or invalid results. Use at your own risk.\n",
      "  UserWarning)\n",
      "/Users/ahelgeso/anaconda3/lib/python3.6/site-packages/sklearn/base.py:311: UserWarning: Trying to unpickle estimator GradientBoostingClassifier from version 0.20.3 when using version 0.19.1. This might lead to breaking code or invalid results. Use at your own risk.\n",
      "  UserWarning)\n"
     ]
    }
   ],
   "source": [
    "model3 = pickle.load(open('GBC3Model.pkl', 'rb'))\n",
    "model9 = pickle.load(open('GBC9Model.pkl','rb'))"
   ]
  },
  {
   "cell_type": "code",
   "execution_count": 59,
   "metadata": {},
   "outputs": [
    {
     "name": "stdout",
     "output_type": "stream",
     "text": [
      "Using dog data[rolling 9 averages]: \n",
      "\n",
      "Using 9 game standard predictor: \n",
      "Dog picks: 0.6264462809917355\n",
      "Dog picks matrix:\n",
      " [[309 103]\n",
      " [123  70]]\n",
      "\n",
      "Using 3 game standard predictor: \n",
      "Dog picks: 0.6264462809917355\n",
      "Dog picks matrix:\n",
      " [[316  96]\n",
      " [130  63]]\n",
      "\n",
      "Average odds: 191.9364161849711\n",
      "Median odds: 165.0\n",
      "Average odds: 192.0251572327044\n",
      "Median odds: 160.0\n",
      "\n",
      "Using rolling 3 averages: \n",
      "\n",
      "Using 9 game standard predictor: \n",
      "Dog picks: 0.6082644628099173\n",
      "Dog picks matrix:\n",
      " [[281 131]\n",
      " [106  87]]\n",
      "\n",
      "Using 3 game standard predictor: \n",
      "Dog picks: 0.6099173553719008\n",
      "Dog picks matrix:\n",
      " [[288 124]\n",
      " [112  81]]\n",
      "\n",
      "Average odds: 232.90825688073394\n",
      "Median odds: 175.0\n",
      "Average odds: 227.15121951219513\n",
      "Median odds: 175.0\n"
     ]
    }
   ],
   "source": [
    "print(\"Using dog data[rolling 9 averages]: \\n\")\n",
    "\n",
    "print(\"Using 9 game standard predictor: \")\n",
    "pred1 = model9.predict(dogs2019[feature9Cols])\n",
    "print('Dog picks:',model9.score(dogs2019[feature9Cols], Ydogs2019))\n",
    "print('Dog picks matrix:\\n',confusion_matrix(Ydogs2019, pred1))\n",
    "print('')\n",
    "\n",
    "print(\"Using 3 game standard predictor: \")\n",
    "pred2 = model3.predict(dogs2019[feature9Cols])\n",
    "print('Dog picks:',model3.score(dogs2019[feature9Cols], Ydogs2019))\n",
    "print('Dog picks matrix:\\n',confusion_matrix(Ydogs2019, pred2))\n",
    "print('')\n",
    "\n",
    "odds = []\n",
    "for i, n in enumerate(pred1):\n",
    "    if n == 1:\n",
    "        odds.append(dogs2019['Odds'][i])\n",
    "\n",
    "print(\"Average odds:\", statistics.mean(odds))\n",
    "print(\"Median odds:\", statistics.median(odds))\n",
    "\n",
    "odds = []\n",
    "for i, n in enumerate(pred2):\n",
    "    if n == 1:\n",
    "        odds.append(dogs2019['Odds'][i])\n",
    "\n",
    "print(\"Average odds:\", statistics.mean(odds))\n",
    "print(\"Median odds:\", statistics.median(odds))\n",
    "\n",
    "\n",
    "print(\"\\nUsing rolling 3 averages: \\n\")\n",
    "\n",
    "print(\"Using 9 game standard predictor: \")\n",
    "pred1 = model9.predict(dogs2019[feature3Cols])\n",
    "print('Dog picks:',model9.score(dogs2019[feature3Cols], Ydogs2019))\n",
    "print('Dog picks matrix:\\n',confusion_matrix(Ydogs2019, pred1))\n",
    "print('')\n",
    "\n",
    "print(\"Using 3 game standard predictor: \")\n",
    "pred2 = model3.predict(dogs2019[feature3Cols])\n",
    "print('Dog picks:',model3.score(dogs2019[feature3Cols], Ydogs2019))\n",
    "print('Dog picks matrix:\\n',confusion_matrix(Ydogs2019, pred2))\n",
    "print('')\n",
    "\n",
    "odds = []\n",
    "for i, n in enumerate(pred1):\n",
    "    if n == 1:\n",
    "        odds.append(dogs2019['Odds'][i])\n",
    "\n",
    "print(\"Average odds:\", statistics.mean(odds))\n",
    "print(\"Median odds:\", statistics.median(odds))\n",
    "\n",
    "odds = []\n",
    "for i, n in enumerate(pred2):\n",
    "    if n == 1:\n",
    "        odds.append(dogs2019['Odds'][i])\n",
    "\n",
    "print(\"Average odds:\", statistics.mean(odds))\n",
    "print(\"Median odds:\", statistics.median(odds))\n",
    "\n"
   ]
  },
  {
   "cell_type": "code",
   "execution_count": null,
   "metadata": {},
   "outputs": [],
   "source": []
  }
 ],
 "metadata": {
  "kernelspec": {
   "display_name": "Python 3",
   "language": "python",
   "name": "python3"
  },
  "language_info": {
   "codemirror_mode": {
    "name": "ipython",
    "version": 3
   },
   "file_extension": ".py",
   "mimetype": "text/x-python",
   "name": "python",
   "nbconvert_exporter": "python",
   "pygments_lexer": "ipython3",
   "version": "3.6.8"
  }
 },
 "nbformat": 4,
 "nbformat_minor": 2
}
