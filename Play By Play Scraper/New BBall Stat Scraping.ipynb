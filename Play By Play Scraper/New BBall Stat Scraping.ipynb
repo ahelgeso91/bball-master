{
 "cells": [
  {
   "cell_type": "code",
   "execution_count": 84,
   "metadata": {},
   "outputs": [],
   "source": [
    "from datetime import datetime\n",
    "import csv\n",
    "import requests, bs4\n",
    "import re\n",
    "import pandas as pd\n",
    "import os\n",
    "from datetime import datetime"
   ]
  },
  {
   "cell_type": "code",
   "execution_count": null,
   "metadata": {},
   "outputs": [],
   "source": [
    "def get_pbp(teams = [], year):\n",
    "    \n",
    "    # team will be a list\n",
    "    # year will be an int\n",
    "    \n",
    "    # If no team is input, scrape for all teams\n",
    "    # Need to have a switch for if scraping current season or not\n",
    "    # First: Generate list of Game Log URLs\n",
    "    \n",
    "    for team in teams:\n",
    "        team_games = get_urls(team, year)\n",
    "    \n",
    "    for url in team_games:\n",
    "        "
   ]
  },
  {
   "cell_type": "code",
   "execution_count": 58,
   "metadata": {},
   "outputs": [],
   "source": [
    "def get_urls(team, year):\n",
    "    \n",
    "    # Team is a string, year is an int\n",
    "    # Need a switch for current season\n",
    "    \n",
    "    # First page to start looking for games\n",
    "    try:\n",
    "        team_page = f'https://www.basketball-reference.com/teams/{team}/{year}_games.html'\n",
    "        res = requests.get(team_page, 'html_parser')\n",
    "        res.raise_for_status()\n",
    "        soup = bs4.BeautifulSoup(res.text, 'html.parser')\n",
    "    except:\n",
    "        'Page does not exist!'\n",
    "        \n",
    "    # Get just regular season games\n",
    "    reg_season = soup.find('table',{'id':'games'})\n",
    "    \n",
    "    # Initialize list\n",
    "    links = []\n",
    "    \n",
    "    # Compile URLs and add to list\n",
    "    for entry in reg_season.find_all(attrs={'data-stat':'box_score_text'}):\n",
    "        for link in entry.find_all('a'):\n",
    "            links.append(link.get('href'))\n",
    "            \n",
    "    return {team: links}"
   ]
  },
  {
   "cell_type": "code",
   "execution_count": 88,
   "metadata": {},
   "outputs": [],
   "source": [
    "def get_dates(links):\n",
    "    \n",
    "    dates = []\n",
    "    for lst in links.values():\n",
    "        for entry in lst:\n",
    "            \n",
    "            date = datetime.strptime(entry[11:19], '%Y%m%d').strftime('%m/%d/%Y')\n",
    "            dates.append(date)\n",
    "\n",
    "    return dates"
   ]
  },
  {
   "cell_type": "code",
   "execution_count": 89,
   "metadata": {},
   "outputs": [],
   "source": [
    "links = get_urls('PHI',2019)"
   ]
  },
  {
   "cell_type": "code",
   "execution_count": 90,
   "metadata": {},
   "outputs": [
    {
     "data": {
      "text/plain": [
       "['10/16/2018',\n",
       " '10/18/2018',\n",
       " '10/20/2018',\n",
       " '10/23/2018',\n",
       " '10/24/2018',\n",
       " '10/27/2018',\n",
       " '10/29/2018',\n",
       " '10/30/2018',\n",
       " '11/01/2018',\n",
       " '11/03/2018',\n",
       " '11/04/2018',\n",
       " '11/07/2018',\n",
       " '11/09/2018',\n",
       " '11/10/2018',\n",
       " '11/12/2018',\n",
       " '11/14/2018',\n",
       " '11/16/2018',\n",
       " '11/17/2018',\n",
       " '11/19/2018',\n",
       " '11/21/2018',\n",
       " '11/23/2018',\n",
       " '11/25/2018',\n",
       " '11/28/2018',\n",
       " '11/30/2018',\n",
       " '12/02/2018',\n",
       " '12/05/2018',\n",
       " '12/07/2018',\n",
       " '12/10/2018',\n",
       " '12/12/2018',\n",
       " '12/14/2018',\n",
       " '12/16/2018',\n",
       " '12/17/2018',\n",
       " '12/19/2018',\n",
       " '12/22/2018',\n",
       " '12/25/2018',\n",
       " '12/27/2018',\n",
       " '12/30/2018',\n",
       " '01/01/2019',\n",
       " '01/02/2019',\n",
       " '01/05/2019',\n",
       " '01/08/2019',\n",
       " '01/09/2019',\n",
       " '01/11/2019',\n",
       " '01/13/2019',\n",
       " '01/15/2019',\n",
       " '01/17/2019',\n",
       " '01/19/2019',\n",
       " '01/21/2019',\n",
       " '01/23/2019',\n",
       " '01/26/2019',\n",
       " '01/29/2019',\n",
       " '01/31/2019',\n",
       " '02/02/2019',\n",
       " '02/05/2019',\n",
       " '02/08/2019',\n",
       " '02/10/2019',\n",
       " '02/12/2019',\n",
       " '02/13/2019',\n",
       " '02/21/2019',\n",
       " '02/23/2019',\n",
       " '02/25/2019',\n",
       " '02/28/2019',\n",
       " '03/02/2019',\n",
       " '03/05/2019',\n",
       " '03/06/2019',\n",
       " '03/08/2019',\n",
       " '03/10/2019',\n",
       " '03/12/2019',\n",
       " '03/15/2019',\n",
       " '03/17/2019',\n",
       " '03/19/2019',\n",
       " '03/20/2019',\n",
       " '03/23/2019',\n",
       " '03/25/2019',\n",
       " '03/28/2019',\n",
       " '03/30/2019',\n",
       " '04/01/2019',\n",
       " '04/03/2019',\n",
       " '04/04/2019',\n",
       " '04/06/2019',\n",
       " '04/09/2019',\n",
       " '04/10/2019']"
      ]
     },
     "execution_count": 90,
     "metadata": {},
     "output_type": "execute_result"
    }
   ],
   "source": [
    "get_dates(links)"
   ]
  },
  {
   "cell_type": "code",
   "execution_count": 54,
   "metadata": {},
   "outputs": [],
   "source": [
    "def get_box_scores(url):\n",
    "    \n",
    "    # This will be called immediately after the team URLs were scraped, so team input should be unnecessary\n",
    "    \n",
    "    current_game = f'https://www.basketball-reference.com{url}'\n",
    "    res = requests.get(current_game, 'html_parser')\n",
    "    res.raise_for_status()\n",
    "    soup = bs4.BeautifulSoup(re.sub(\"<!--|-->\", \"\", res.text), 'lxml')\n",
    "    \n",
    "    line_score = soup.find('table',{'id':'line_score'})\n",
    "    print(line_score.find_all('td'))\n",
    "    \n",
    "        "
   ]
  },
  {
   "cell_type": "code",
   "execution_count": 55,
   "metadata": {},
   "outputs": [
    {
     "name": "stdout",
     "output_type": "stream",
     "text": [
      "[<td><a href=\"/teams/PHI/2019.html\">PHI</a></td>, <td class=\"center\">21</td>, <td class=\"center\">21</td>, <td class=\"center\">24</td>, <td class=\"center\">21</td>, <td class=\"center\"><strong>87</strong></td>, <td><a href=\"/teams/BOS/2019.html\">BOS</a></td>, <td class=\"center\">21</td>, <td class=\"center\">26</td>, <td class=\"center\">30</td>, <td class=\"center\">28</td>, <td class=\"center\"><strong>105</strong></td>]\n"
     ]
    }
   ],
   "source": [
    "get_box_scores('/boxscores/201810160BOS.html')"
   ]
  },
  {
   "cell_type": "code",
   "execution_count": null,
   "metadata": {},
   "outputs": [],
   "source": [
    "url = f'https://www.basketball-reference.com/boxscores/pbp/201410290IND.html'\n",
    "res = requests.get(url)\n",
    "res.raise_for_status()\n",
    "soup = bs4.BeautifulSoup(re.sub(\"<!--|-->\", \"\", res.text), 'lxml')\n",
    "pbp = soup.find('table',{'id':'pbp'})\n",
    "PHI = pd.read_html(str(pbp), flavor='bs4')[0]"
   ]
  }
 ],
 "metadata": {
  "kernelspec": {
   "display_name": "Python 3",
   "language": "python",
   "name": "python3"
  },
  "language_info": {
   "codemirror_mode": {
    "name": "ipython",
    "version": 3
   },
   "file_extension": ".py",
   "mimetype": "text/x-python",
   "name": "python",
   "nbconvert_exporter": "python",
   "pygments_lexer": "ipython3",
   "version": "3.6.8"
  }
 },
 "nbformat": 4,
 "nbformat_minor": 2
}
