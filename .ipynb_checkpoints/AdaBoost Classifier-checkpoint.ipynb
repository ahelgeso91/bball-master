{
 "cells": [
  {
   "cell_type": "code",
   "execution_count": 1,
   "metadata": {},
   "outputs": [],
   "source": [
    "import numpy as np\n",
    "import pandas as pd\n",
    "import matplotlib.pyplot as plt\n",
    "import seaborn as sns\n",
    "%matplotlib inline\n",
    "from sklearn.svm import SVC\n",
    "from sklearn.linear_model import LogisticRegression\n",
    "from sklearn.svm import LinearSVC\n",
    "from sklearn.neighbors import KNeighborsClassifier\n",
    "from sklearn.model_selection import train_test_split\n",
    "from sklearn import metrics\n",
    "from sklearn.model_selection import cross_val_score\n",
    "from sklearn import preprocessing\n",
    "from sklearn.feature_selection import RFE\n",
    "from sklearn.ensemble import RandomForestClassifier\n",
    "from sklearn.ensemble import AdaBoostClassifier\n",
    "from sklearn.feature_selection import SelectKBest\n",
    "from sklearn.feature_selection import chi2\n",
    "import os\n",
    "import pickle\n",
    "from sklearn.metrics import confusion_matrix\n",
    "import requests, bs4\n",
    "from sklearn.metrics import roc_curve, auc"
   ]
  },
  {
   "cell_type": "code",
   "execution_count": 2,
   "metadata": {},
   "outputs": [],
   "source": [
    "db19 = pd.read_csv('2019stats.csv')"
   ]
  },
  {
   "cell_type": "markdown",
   "metadata": {},
   "source": [
    "### Check results using 2016-2018 data on 2019 games "
   ]
  },
  {
   "cell_type": "code",
   "execution_count": 3,
   "metadata": {},
   "outputs": [],
   "source": [
    "db = pd.read_csv('2017_2018stats.csv')"
   ]
  },
  {
   "cell_type": "code",
   "execution_count": 4,
   "metadata": {},
   "outputs": [],
   "source": [
    "feature3Cols = ['Location','Rolling3EFG','Rolling3TOV','Rolling3ORB','Rolling3FTR','Rolling3Pace','Opp R3Pace','Opp R3EFG','Opp R3TOV','Opp R3ORB','Opp R3FTR', 'Rolling3DEff', 'Opp R3 Deff', 'Rolling3OEff','Opp R3 Oeff']\n",
    "feature9Cols = ['Location','Rolling9EFG','Rolling9TOV','Rolling9ORB','Rolling9FTR','Rolling9Pace','Opp R9Pace','Opp R9EFG','Opp R9TOV','Opp R9ORB','Opp R9FTR', 'Rolling9DEff', 'Opp R9 Deff', 'Rolling3OEff','Opp R3 Oeff']\n",
    "\n",
    "target = ['Result']\n",
    "X3 = db.dropna()[feature3Cols]\n",
    "X9 = db.dropna()[feature9Cols]\n",
    "y = np.array(db.dropna()[target]).flatten()\n",
    "svc=SVC(probability=True, gamma = 'scale')\n",
    "\n",
    "x9_train, x9_test, y9_train, y9_test = train_test_split(X9, y, test_size=0.3, random_state=2)\n",
    "x3_train, x3_test, y3_train, y3_test = train_test_split(X3, y, test_size=0.3, random_state=2)\n"
   ]
  },
  {
   "cell_type": "markdown",
   "metadata": {},
   "source": [
    "### Training models"
   ]
  },
  {
   "cell_type": "code",
   "execution_count": 5,
   "metadata": {},
   "outputs": [
    {
     "name": "stdout",
     "output_type": "stream",
     "text": [
      "All picks (R9): 0.5951293759512938\n",
      "All picks (R9) matrix:\n",
      " [[249 400]\n",
      " [132 533]]\n",
      " \n",
      "0.592585469837923\n",
      "All picks (R3): 0.5745814307458144\n",
      "All picks (R3) matrix:\n",
      " [[196 453]\n",
      " [106 559]]\n",
      "0.5713022927117486\n",
      " \n"
     ]
    }
   ],
   "source": [
    "ada9 = AdaBoostClassifier(base_estimator = svc, n_estimators=50, learning_rate=0.1, random_state=1).fit(x9_train, y9_train)\n",
    "pred = ada9.predict(x9_test)\n",
    "print('All picks (R9):',ada9.score(x9_test, y9_test))\n",
    "print('All picks (R9) matrix:\\n',confusion_matrix(y9_test, pred))\n",
    "print(' ')\n",
    "false_positive_rate, true_positive_rate, thresholds = roc_curve(y9_test, pred)\n",
    "roc_auc = auc(false_positive_rate, true_positive_rate)\n",
    "print(roc_auc)\n",
    "\n",
    "ada3 = AdaBoostClassifier(base_estimator = svc, n_estimators=50, learning_rate=0.1, random_state=1).fit(x3_train, y3_train)\n",
    "pred = ada3.predict(x3_test)\n",
    "print('All picks (R3):',ada3.score(x3_test, y3_test))\n",
    "print('All picks (R3) matrix:\\n',confusion_matrix(y3_test, pred))\n",
    "false_positive_rate, true_positive_rate, thresholds = roc_curve(y3_test, pred)\n",
    "roc_auc = auc(false_positive_rate, true_positive_rate)\n",
    "print(roc_auc)\n",
    "print(' ')\n"
   ]
  },
  {
   "cell_type": "markdown",
   "metadata": {},
   "source": [
    "### 2019 test data"
   ]
  },
  {
   "cell_type": "code",
   "execution_count": 6,
   "metadata": {},
   "outputs": [],
   "source": [
    "dogs2019 = db19[(db19['Line'] > 0)].dropna().reset_index()\n",
    "Ydogs2019 = db19[(db19['Line'] > 0)].dropna()['Result']"
   ]
  },
  {
   "cell_type": "code",
   "execution_count": 10,
   "metadata": {},
   "outputs": [
    {
     "name": "stdout",
     "output_type": "stream",
     "text": [
      "Using dog data[rolling 9 averages]: \n",
      "\n",
      "Using 9 game standard predictor: \n",
      "Dog picks: 0.4575955265610438\n",
      "Dog picks matrix:\n",
      " [[224 492]\n",
      " [ 90 267]]\n",
      "\n",
      "Using 3 game standard predictor: \n",
      "Dog picks: 0.45293569431500463\n",
      "Dog picks matrix:\n",
      " [[220 496]\n",
      " [ 91 266]]\n",
      "\n"
     ]
    }
   ],
   "source": [
    "print(\"Using dog data[rolling 9 averages]: \\n\")\n",
    "\n",
    "print(\"Using 9 game standard predictor: \")\n",
    "pred1 = ada9.predict(dogs2019[feature9Cols])\n",
    "print('Dog picks:',ada9.score(dogs2019[feature9Cols], Ydogs2019))\n",
    "print('Dog picks matrix:\\n',confusion_matrix(Ydogs2019, pred1))\n",
    "print('')\n",
    "\n",
    "print(\"Using 3 game standard predictor: \")\n",
    "pred2 = ada3.predict(dogs2019[feature9Cols])\n",
    "print('Dog picks:',ada3.score(dogs2019[feature9Cols], Ydogs2019))\n",
    "print('Dog picks matrix:\\n',confusion_matrix(Ydogs2019, pred2))\n",
    "print('')\n"
   ]
  },
  {
   "cell_type": "code",
   "execution_count": 11,
   "metadata": {},
   "outputs": [
    {
     "data": {
      "text/plain": [
       "251"
      ]
     },
     "execution_count": 11,
     "metadata": {},
     "output_type": "execute_result"
    }
   ],
   "source": [
    "odds = []\n",
    "for i, n in enumerate(pred1):\n",
    "    if n == 1:\n",
    "        odds.append(dogs2019['Odds'][i])\n",
    "import statistics\n",
    "statistics.mean(odds)"
   ]
  },
  {
   "cell_type": "markdown",
   "metadata": {},
   "source": [
    "204-180 with +198 odds picking dogs wow"
   ]
  },
  {
   "cell_type": "code",
   "execution_count": 12,
   "metadata": {},
   "outputs": [
    {
     "name": "stdout",
     "output_type": "stream",
     "text": [
      "Using rolling 3 averages: \n",
      "\n",
      "Using 9 game standard predictor: \n",
      "Dog picks: 0.4296365330848089\n",
      "Dog picks matrix:\n",
      " [[159 557]\n",
      " [ 55 302]]\n",
      "\n",
      "Using 3 game standard predictor: \n",
      "Dog picks: 0.4193849021435228\n",
      "Dog picks matrix:\n",
      " [[165 551]\n",
      " [ 72 285]]\n",
      "\n"
     ]
    }
   ],
   "source": [
    "print(\"Using rolling 3 averages: \\n\")\n",
    "\n",
    "print(\"Using 9 game standard predictor: \")\n",
    "pred1 = ada9.predict(dogs2019[feature3Cols])\n",
    "print('Dog picks:',ada9.score(dogs2019[feature3Cols], Ydogs2019))\n",
    "print('Dog picks matrix:\\n',confusion_matrix(Ydogs2019, pred1))\n",
    "print('')\n",
    "\n",
    "print(\"Using 3 game standard predictor: \")\n",
    "pred2 = ada3.predict(dogs2019[feature3Cols])\n",
    "print('Dog picks:',ada3.score(dogs2019[feature3Cols], Ydogs2019))\n",
    "print('Dog picks matrix:\\n',confusion_matrix(Ydogs2019, pred2))\n",
    "print('')\n"
   ]
  },
  {
   "cell_type": "code",
   "execution_count": 13,
   "metadata": {},
   "outputs": [
    {
     "name": "stdout",
     "output_type": "stream",
     "text": [
      "256\n",
      "185\n",
      "257\n",
      "185.0\n"
     ]
    }
   ],
   "source": [
    "odds = []\n",
    "for i, n in enumerate(pred1):\n",
    "    if n == 1:\n",
    "        odds.append(dogs2019['Odds'][i])\n",
    "        \n",
    "print(statistics.mean(odds))\n",
    "print(statistics.median(odds))\n",
    "\n",
    "odds = []\n",
    "for i, n in enumerate(pred2):\n",
    "    if n == 1:\n",
    "        odds.append(dogs2019['Odds'][i])\n",
    "        \n",
    "print(statistics.mean(odds))\n",
    "print(statistics.median(odds))"
   ]
  },
  {
   "cell_type": "markdown",
   "metadata": {},
   "source": [
    "#### Predictor 2 above goes 246-233 with an average odds of 210!"
   ]
  },
  {
   "cell_type": "markdown",
   "metadata": {},
   "source": [
    "##### Now what I wanna do is build a model off 2018 data while continuously rolling in 2019 data as if the season was ongoing"
   ]
  },
  {
   "cell_type": "code",
   "execution_count": 14,
   "metadata": {},
   "outputs": [],
   "source": [
    "#db = pd.read_csv('2018stats.csv')"
   ]
  },
  {
   "cell_type": "code",
   "execution_count": 17,
   "metadata": {},
   "outputs": [],
   "source": [
    "#feature3Cols = ['Location','Rolling3EFG','Rolling3TOV','Rolling3ORB','Rolling3FTR','Rolling3Pace','Opp R3Pace','Opp R3EFG','Opp R3TOV','Opp R3ORB','Opp R3FTR']\n",
    "#feature9Cols = ['Location','Rolling9EFG','Rolling9TOV','Rolling9ORB','Rolling9FTR','Rolling9Pace','Opp R9Pace','Opp R9EFG','Opp R9TOV','Opp R9ORB','Opp R9FTR']\n",
    "\n",
    "#target = ['Result']\n",
    "X3 = db.dropna()[feature3Cols]\n",
    "X9 = db.dropna()[feature9Cols]\n",
    "y = np.array(db.dropna()[target]).flatten()\n",
    "svc=SVC(probability=True, gamma = 'scale')\n",
    "\n",
    "x9_train, x9_test, y9_train, y9_test = train_test_split(X9, y, test_size=0.3, random_state=8)\n",
    "x3_train, x3_test, y3_train, y3_test = train_test_split(X3, y, test_size=0.3, random_state=8)\n"
   ]
  },
  {
   "cell_type": "code",
   "execution_count": 18,
   "metadata": {},
   "outputs": [
    {
     "name": "stdout",
     "output_type": "stream",
     "text": [
      "All picks (R9): 0.634703196347032\n",
      "All picks (R9) matrix:\n",
      " [[415 252]\n",
      " [228 419]]\n",
      " \n",
      "0.634896616606689\n",
      "All picks (R3): 0.6286149162861492\n",
      "All picks (R3) matrix:\n",
      " [[442 225]\n",
      " [263 384]]\n",
      "0.6280885832199818\n",
      " \n"
     ]
    }
   ],
   "source": [
    "ada9 = AdaBoostClassifier(base_estimator = svc, n_estimators=50, learning_rate=0.1, random_state=1).fit(x9_train, y9_train)\n",
    "pred = ada9.predict(x9_test)\n",
    "print('All picks (R9):',ada9.score(x9_test, y9_test))\n",
    "print('All picks (R9) matrix:\\n',confusion_matrix(y9_test, pred))\n",
    "print(' ')\n",
    "false_positive_rate, true_positive_rate, thresholds = roc_curve(y9_test, pred)\n",
    "roc_auc = auc(false_positive_rate, true_positive_rate)\n",
    "print(roc_auc)\n",
    "\n",
    "ada3 = AdaBoostClassifier(base_estimator = svc, n_estimators=50, learning_rate=0.1, random_state=1).fit(x3_train, y3_train)\n",
    "pred = ada3.predict(x3_test)\n",
    "print('All picks (R3):',ada3.score(x3_test, y3_test))\n",
    "print('All picks (R3) matrix:\\n',confusion_matrix(y3_test, pred))\n",
    "false_positive_rate, true_positive_rate, thresholds = roc_curve(y3_test, pred)\n",
    "roc_auc = auc(false_positive_rate, true_positive_rate)\n",
    "print(roc_auc)\n",
    "print(' ')"
   ]
  },
  {
   "cell_type": "code",
   "execution_count": 19,
   "metadata": {},
   "outputs": [],
   "source": [
    "dogs2019 = db19[db19['Line'] > 0].dropna().reset_index()\n",
    "Ydogs2019 = db19[db19['Line'] > 0].dropna()['Result']"
   ]
  },
  {
   "cell_type": "code",
   "execution_count": 20,
   "metadata": {},
   "outputs": [
    {
     "name": "stdout",
     "output_type": "stream",
     "text": [
      "Using dog data[rolling 9 averages]: \n",
      "\n",
      "Using 9 game standard predictor: \n",
      "Dog picks: 0.625349487418453\n",
      "Dog picks matrix:\n",
      " [[545 171]\n",
      " [231 126]]\n",
      "\n",
      "Using 3 game standard predictor: \n",
      "Dog picks: 0.6178937558247903\n",
      "Dog picks matrix:\n",
      " [[534 182]\n",
      " [228 129]]\n",
      "\n"
     ]
    }
   ],
   "source": [
    "print(\"Using dog data[rolling 9 averages]: \\n\")\n",
    "\n",
    "print(\"Using 9 game standard predictor: \")\n",
    "pred1 = ada9.predict(dogs2019[feature9Cols])\n",
    "print('Dog picks:',ada9.score(dogs2019[feature9Cols], Ydogs2019))\n",
    "print('Dog picks matrix:\\n',confusion_matrix(Ydogs2019, pred1))\n",
    "print('')\n",
    "\n",
    "print(\"Using 3 game standard predictor: \")\n",
    "pred2 = ada3.predict(dogs2019[feature9Cols])\n",
    "print('Dog picks:',ada3.score(dogs2019[feature9Cols], Ydogs2019))\n",
    "print('Dog picks matrix:\\n',confusion_matrix(Ydogs2019, pred2))\n",
    "print('')"
   ]
  },
  {
   "cell_type": "markdown",
   "metadata": {},
   "source": [
    "Second model is the best one"
   ]
  },
  {
   "cell_type": "code",
   "execution_count": 21,
   "metadata": {},
   "outputs": [
    {
     "name": "stdout",
     "output_type": "stream",
     "text": [
      "Average odds 1: 168\n",
      "Median odds 1: 150\n",
      "Average odds 2: 191\n",
      "Median odds 2: 155\n"
     ]
    }
   ],
   "source": [
    "odds = []\n",
    "for i, n in enumerate(pred1):\n",
    "    if n == 1:\n",
    "        odds.append(dogs2019['Odds'][i])\n",
    "        \n",
    "print(\"Average odds 1:\", statistics.mean(odds))\n",
    "print(\"Median odds 1:\", statistics.median(odds))\n",
    "\n",
    "odds = []\n",
    "for i, n in enumerate(pred2):\n",
    "    if n == 1:\n",
    "        odds.append(dogs2019['Odds'][i])\n",
    "        \n",
    "print(\"Average odds 2:\", statistics.mean(odds))\n",
    "print(\"Median odds 2:\", statistics.median(odds))\n"
   ]
  },
  {
   "cell_type": "code",
   "execution_count": 22,
   "metadata": {},
   "outputs": [
    {
     "name": "stdout",
     "output_type": "stream",
     "text": [
      "Using rolling 3 averages: \n",
      "\n",
      "Using 9 game standard predictor: \n",
      "Dog picks: 0.6393289841565704\n",
      "Dog picks matrix:\n",
      " [[541 175]\n",
      " [212 145]]\n",
      "\n",
      "Using 3 game standard predictor: \n",
      "Dog picks: 0.6393289841565704\n",
      "Dog picks matrix:\n",
      " [[543 173]\n",
      " [214 143]]\n",
      "\n"
     ]
    }
   ],
   "source": [
    "print(\"Using rolling 3 averages: \\n\")\n",
    "\n",
    "print(\"Using 9 game standard predictor: \")\n",
    "pred1 = ada9.predict(dogs2019[feature3Cols])\n",
    "print('Dog picks:',ada9.score(dogs2019[feature3Cols], Ydogs2019))\n",
    "print('Dog picks matrix:\\n',confusion_matrix(Ydogs2019, pred1))\n",
    "print('')\n",
    "\n",
    "print(\"Using 3 game standard predictor: \")\n",
    "pred2 = ada3.predict(dogs2019[feature3Cols])\n",
    "print('Dog picks:',ada3.score(dogs2019[feature3Cols], Ydogs2019))\n",
    "print('Dog picks matrix:\\n',confusion_matrix(Ydogs2019, pred2))\n",
    "print('')\n"
   ]
  },
  {
   "cell_type": "code",
   "execution_count": 23,
   "metadata": {},
   "outputs": [
    {
     "name": "stdout",
     "output_type": "stream",
     "text": [
      "Average odds 1: 185\n",
      "Median odds 1: 160.0\n",
      "Average odds 2: 192\n",
      "Median odds 2: 160.0\n"
     ]
    }
   ],
   "source": [
    "odds = []\n",
    "for i, n in enumerate(pred1):\n",
    "    if n == 1:\n",
    "        odds.append(dogs2019['Odds'][i])\n",
    "        \n",
    "print(\"Average odds 1:\", statistics.mean(odds))\n",
    "print(\"Median odds 1:\", statistics.median(odds))\n",
    "\n",
    "odds = []\n",
    "for i, n in enumerate(pred2):\n",
    "    if n == 1:\n",
    "        odds.append(dogs2019['Odds'][i])\n",
    "        \n",
    "print(\"Average odds 2:\", statistics.mean(odds))\n",
    "print(\"Median odds 2:\", statistics.median(odds))"
   ]
  },
  {
   "cell_type": "markdown",
   "metadata": {},
   "source": [
    "Above: model 1 goes 163-191 with average betting odds of 182; this is profitable\n"
   ]
  },
  {
   "cell_type": "code",
   "execution_count": 63,
   "metadata": {},
   "outputs": [],
   "source": [
    "db19 = pd.read_csv('2019stats.csv')\n",
    "#db = pd.read_csv('2018stats.csv')"
   ]
  },
  {
   "cell_type": "code",
   "execution_count": 24,
   "metadata": {},
   "outputs": [],
   "source": [
    "#db19.drop(['Unnamed: 0', 'Unnamed: 0.1'], axis = 1, inplace = True)\n",
    "db19['Date'] = db19['Date'].apply(str)\n",
    "db19['Date'] = pd.to_datetime(db19.Date, format = \"%Y%m%d\")\n",
    "db19 = db19.sort_values(by = ['Date']).reset_index(drop = True)"
   ]
  },
  {
   "cell_type": "code",
   "execution_count": 25,
   "metadata": {},
   "outputs": [
    {
     "name": "stderr",
     "output_type": "stream",
     "text": [
      "C:\\Users\\helgeson\\AppData\\Local\\Continuum\\anaconda3\\lib\\site-packages\\ipykernel_launcher.py:4: FutureWarning: Sorting because non-concatenation axis is not aligned. A future version\n",
      "of pandas will change to not sort by default.\n",
      "\n",
      "To accept the future behavior, pass 'sort=False'.\n",
      "\n",
      "To retain the current behavior and silence the warning, pass 'sort=True'.\n",
      "\n",
      "  after removing the cwd from sys.path.\n"
     ]
    }
   ],
   "source": [
    "db['Date'] = db['Date'].apply(str)\n",
    "db['Date'] = pd.to_datetime(db.Date, format= \"%Y%m%d\")\n",
    "db = db.sort_values(by = ['Date']).reset_index(drop = True)\n",
    "test = pd.concat([db, db19[:int(len(db19)/2)]], ignore_index = True)"
   ]
  },
  {
   "cell_type": "code",
   "execution_count": 26,
   "metadata": {},
   "outputs": [],
   "source": [
    "# Leave in first half of prev season or cut it out?\n",
    "\n",
    "test = test.drop(test.index[:int(len(db19)/2)]) "
   ]
  },
  {
   "cell_type": "code",
   "execution_count": 27,
   "metadata": {},
   "outputs": [],
   "source": [
    "db = test.reset_index(drop = True) ### for simplicity"
   ]
  },
  {
   "cell_type": "code",
   "execution_count": 30,
   "metadata": {},
   "outputs": [],
   "source": [
    "db = db.drop(['Implied Prob','Implied Proba'], axis = 1)"
   ]
  },
  {
   "cell_type": "markdown",
   "metadata": {},
   "source": [
    "### Here is a realistic expectation of what a running database may look like. I added half the season's worth of 2019 onto the 2018 db, and dropped the first half of 2018. The model now looks at the second half of 2018 and the first half of 2019."
   ]
  },
  {
   "cell_type": "code",
   "execution_count": 31,
   "metadata": {},
   "outputs": [],
   "source": [
    "#feature3Cols = ['Location','Rolling3EFG','Rolling3TOV','Rolling3ORB','Rolling3FTR','Rolling3Pace','Opp R3Pace','Opp R3EFG','Opp R3TOV','Opp R3ORB','Opp R3FTR']\n",
    "#feature9Cols = ['Location','Rolling9EFG','Rolling9TOV','Rolling9ORB','Rolling9FTR','Rolling9Pace','Opp R9Pace','Opp R9EFG','Opp R9TOV','Opp R9ORB','Opp R9FTR']\n",
    "\n",
    "target = ['Result']\n",
    "X3 = db.dropna()[feature3Cols]\n",
    "X9 = db.dropna()[feature9Cols]\n",
    "y = np.array(db.dropna()[target]).flatten()\n",
    "svc = SVC(probability=True, gamma = 'scale')\n",
    "\n",
    "x9_train, x9_test, y9_train, y9_test = train_test_split(X9, y, test_size=0.3, random_state=3)\n",
    "x3_train, x3_test, y3_train, y3_test = train_test_split(X3, y, test_size=0.3, random_state=3)\n"
   ]
  },
  {
   "cell_type": "code",
   "execution_count": 32,
   "metadata": {},
   "outputs": [
    {
     "name": "stdout",
     "output_type": "stream",
     "text": [
      "All picks (R9): 0.6286149162861492\n",
      "All picks (R9) matrix:\n",
      " [[376 276]\n",
      " [212 450]]\n",
      "0.6282227123607584\n",
      " \n",
      "All picks (R3): 0.6354642313546424\n",
      "All picks (R3) matrix:\n",
      " [[417 235]\n",
      " [244 418]]\n",
      "0.6354952458621391\n",
      " \n"
     ]
    }
   ],
   "source": [
    "ada9 = AdaBoostClassifier(base_estimator = svc, n_estimators=50, learning_rate=0.1, random_state=3).fit(x9_train, y9_train)\n",
    "pred = ada9.predict(x9_test)\n",
    "print('All picks (R9):',ada9.score(x9_test, y9_test))\n",
    "print('All picks (R9) matrix:\\n',confusion_matrix(y9_test, pred))\n",
    "false_positive_rate, true_positive_rate, thresholds = roc_curve(y9_test, pred)\n",
    "roc_auc = auc(false_positive_rate, true_positive_rate)\n",
    "print(roc_auc)\n",
    "print(' ')\n",
    "\n",
    "ada3 = AdaBoostClassifier(base_estimator = svc, n_estimators=50, learning_rate=0.1, random_state=3).fit(x3_train, y3_train)\n",
    "pred = ada3.predict(x3_test)\n",
    "print('All picks (R3):',ada3.score(x3_test, y3_test))\n",
    "print('All picks (R3) matrix:\\n',confusion_matrix(y3_test, pred))\n",
    "false_positive_rate, true_positive_rate, thresholds = roc_curve(y3_test, pred)\n",
    "roc_auc = auc(false_positive_rate, true_positive_rate)\n",
    "print(roc_auc)\n",
    "print(' ')\n"
   ]
  },
  {
   "cell_type": "code",
   "execution_count": 33,
   "metadata": {},
   "outputs": [
    {
     "name": "stderr",
     "output_type": "stream",
     "text": [
      "C:\\Users\\helgeson\\AppData\\Local\\Continuum\\anaconda3\\lib\\site-packages\\ipykernel_launcher.py:1: UserWarning: Boolean Series key will be reindexed to match DataFrame index.\n",
      "  \"\"\"Entry point for launching an IPython kernel.\n",
      "C:\\Users\\helgeson\\AppData\\Local\\Continuum\\anaconda3\\lib\\site-packages\\ipykernel_launcher.py:2: UserWarning: Boolean Series key will be reindexed to match DataFrame index.\n",
      "  \n"
     ]
    }
   ],
   "source": [
    "dogs2019 = db19[int(len(db19)/2):][db19['Line'] > 0].dropna().reset_index()\n",
    "Ydogs2019 = db19[int(len(db19)/2):][db19['Line'] > 0].dropna()['Result']"
   ]
  },
  {
   "cell_type": "markdown",
   "metadata": {},
   "source": [
    "### This is now predicting all underdog games for last half of season"
   ]
  },
  {
   "cell_type": "code",
   "execution_count": 34,
   "metadata": {},
   "outputs": [
    {
     "name": "stdout",
     "output_type": "stream",
     "text": [
      "Using dog data[rolling 9 averages]: \n",
      "\n",
      "Using 9 game standard predictor: \n",
      "Dog picks: 0.6264462809917355\n",
      "Dog picks matrix:\n",
      " [[291 121]\n",
      " [105  88]]\n",
      "\n",
      "Using 3 game standard predictor: \n",
      "Dog picks: 0.6396694214876033\n",
      "Dog picks matrix:\n",
      " [[305 107]\n",
      " [111  82]]\n",
      "\n"
     ]
    }
   ],
   "source": [
    "print(\"Using dog data[rolling 9 averages]: \\n\")\n",
    "\n",
    "print(\"Using 9 game standard predictor: \")\n",
    "pred1 = ada9.predict(dogs2019[feature9Cols])\n",
    "print('Dog picks:',ada9.score(dogs2019[feature9Cols], Ydogs2019))\n",
    "print('Dog picks matrix:\\n',confusion_matrix(Ydogs2019, pred1))\n",
    "print('')\n",
    "\n",
    "print(\"Using 3 game standard predictor: \")\n",
    "pred2 = ada3.predict(dogs2019[feature9Cols])\n",
    "print('Dog picks:',ada3.score(dogs2019[feature9Cols], Ydogs2019))\n",
    "print('Dog picks matrix:\\n',confusion_matrix(Ydogs2019, pred2))\n",
    "print('')"
   ]
  },
  {
   "cell_type": "code",
   "execution_count": 35,
   "metadata": {},
   "outputs": [
    {
     "name": "stdout",
     "output_type": "stream",
     "text": [
      "Average odds: 184\n",
      "Median odds: 160\n",
      "Average odds: 191\n",
      "Median odds: 160\n"
     ]
    }
   ],
   "source": [
    "odds = []\n",
    "for i, n in enumerate(pred1):\n",
    "    if n == 1:\n",
    "        odds.append(dogs2019['Odds'][i])\n",
    "\n",
    "print(\"Average odds:\", statistics.mean(odds))\n",
    "print(\"Median odds:\", statistics.median(odds))\n",
    "\n",
    "odds = []\n",
    "for i, n in enumerate(pred2):\n",
    "    if n == 1:\n",
    "        odds.append(dogs2019['Odds'][i])\n",
    "\n",
    "print(\"Average odds:\", statistics.mean(odds))\n",
    "print(\"Median odds:\", statistics.median(odds))"
   ]
  },
  {
   "cell_type": "code",
   "execution_count": 36,
   "metadata": {},
   "outputs": [
    {
     "name": "stdout",
     "output_type": "stream",
     "text": [
      "Using rolling 3 averages: \n",
      "\n",
      "Using 9 game standard predictor: \n",
      "Dog picks: 0.6694214876033058\n",
      "Dog picks matrix:\n",
      " [[309 103]\n",
      " [ 97  96]]\n",
      "\n",
      "Using 3 game standard predictor: \n",
      "Dog picks: 0.6677685950413224\n",
      "Dog picks matrix:\n",
      " [[314  98]\n",
      " [103  90]]\n",
      "\n"
     ]
    }
   ],
   "source": [
    "print(\"Using rolling 3 averages: \\n\")\n",
    "\n",
    "print(\"Using 9 game standard predictor: \")\n",
    "pred1 = ada9.predict(dogs2019[feature3Cols])\n",
    "print('Dog picks:',ada9.score(dogs2019[feature3Cols], Ydogs2019))\n",
    "print('Dog picks matrix:\\n',confusion_matrix(Ydogs2019, pred1))\n",
    "print('')\n",
    "\n",
    "print(\"Using 3 game standard predictor: \")\n",
    "pred2 = ada3.predict(dogs2019[feature3Cols])\n",
    "print('Dog picks:',ada3.score(dogs2019[feature3Cols], Ydogs2019))\n",
    "print('Dog picks matrix:\\n',confusion_matrix(Ydogs2019, pred2))\n",
    "print('')\n"
   ]
  },
  {
   "cell_type": "code",
   "execution_count": 37,
   "metadata": {},
   "outputs": [
    {
     "name": "stdout",
     "output_type": "stream",
     "text": [
      "Average odds: 181\n",
      "Median odds: 170\n",
      "Average odds: 198\n",
      "Median odds: 167.5\n"
     ]
    }
   ],
   "source": [
    "odds = []\n",
    "for i, n in enumerate(pred1):\n",
    "    if n == 1:\n",
    "        odds.append(dogs2019['Odds'][i])\n",
    "\n",
    "print(\"Average odds:\", statistics.mean(odds))\n",
    "print(\"Median odds:\", statistics.median(odds))\n",
    "\n",
    "odds = []\n",
    "for i, n in enumerate(pred2):\n",
    "    if n == 1:\n",
    "        odds.append(dogs2019['Odds'][i])\n",
    "\n",
    "print(\"Average odds:\", statistics.mean(odds))\n",
    "print(\"Median odds:\", statistics.median(odds))"
   ]
  },
  {
   "cell_type": "markdown",
   "metadata": {},
   "source": [
    "This model drops 2018 data when adding first half of 2019.\n",
    "\n",
    "The 9-game predictor goes 85-141 using 3-game average data, with average odds of 229.\n",
    "\n",
    "The 3-game predictor goes 70-116 using 3-game average data, with average odds of 220."
   ]
  },
  {
   "cell_type": "code",
   "execution_count": 38,
   "metadata": {},
   "outputs": [],
   "source": [
    "pkl_filename = \"ADA9model.pkl\"  \n",
    "with open(pkl_filename, 'wb') as file:  \n",
    "    pickle.dump(ada9, file)\n",
    "    \n",
    "pkl_filename = \"ADA3model.pkl\"  \n",
    "with open(pkl_filename, 'wb') as file:  \n",
    "    pickle.dump(ada3, file)"
   ]
  },
  {
   "cell_type": "code",
   "execution_count": 58,
   "metadata": {},
   "outputs": [
    {
     "name": "stderr",
     "output_type": "stream",
     "text": [
      "/Users/ahelgeso/anaconda3/lib/python3.6/site-packages/sklearn/base.py:311: UserWarning: Trying to unpickle estimator DecisionTreeRegressor from version 0.20.3 when using version 0.19.1. This might lead to breaking code or invalid results. Use at your own risk.\n",
      "  UserWarning)\n",
      "/Users/ahelgeso/anaconda3/lib/python3.6/site-packages/sklearn/base.py:311: UserWarning: Trying to unpickle estimator GradientBoostingClassifier from version 0.20.3 when using version 0.19.1. This might lead to breaking code or invalid results. Use at your own risk.\n",
      "  UserWarning)\n"
     ]
    }
   ],
   "source": [
    "model3 = pickle.load(open('GBC3Model.pkl', 'rb'))\n",
    "model9 = pickle.load(open('GBC9Model.pkl','rb'))"
   ]
  },
  {
   "cell_type": "code",
   "execution_count": 59,
   "metadata": {},
   "outputs": [
    {
     "name": "stdout",
     "output_type": "stream",
     "text": [
      "Using dog data[rolling 9 averages]: \n",
      "\n",
      "Using 9 game standard predictor: \n",
      "Dog picks: 0.6264462809917355\n",
      "Dog picks matrix:\n",
      " [[309 103]\n",
      " [123  70]]\n",
      "\n",
      "Using 3 game standard predictor: \n",
      "Dog picks: 0.6264462809917355\n",
      "Dog picks matrix:\n",
      " [[316  96]\n",
      " [130  63]]\n",
      "\n",
      "Average odds: 191.9364161849711\n",
      "Median odds: 165.0\n",
      "Average odds: 192.0251572327044\n",
      "Median odds: 160.0\n",
      "\n",
      "Using rolling 3 averages: \n",
      "\n",
      "Using 9 game standard predictor: \n",
      "Dog picks: 0.6082644628099173\n",
      "Dog picks matrix:\n",
      " [[281 131]\n",
      " [106  87]]\n",
      "\n",
      "Using 3 game standard predictor: \n",
      "Dog picks: 0.6099173553719008\n",
      "Dog picks matrix:\n",
      " [[288 124]\n",
      " [112  81]]\n",
      "\n",
      "Average odds: 232.90825688073394\n",
      "Median odds: 175.0\n",
      "Average odds: 227.15121951219513\n",
      "Median odds: 175.0\n"
     ]
    }
   ],
   "source": [
    "print(\"Using dog data[rolling 9 averages]: \\n\")\n",
    "\n",
    "print(\"Using 9 game standard predictor: \")\n",
    "pred1 = model9.predict(dogs2019[feature9Cols])\n",
    "print('Dog picks:',model9.score(dogs2019[feature9Cols], Ydogs2019))\n",
    "print('Dog picks matrix:\\n',confusion_matrix(Ydogs2019, pred1))\n",
    "print('')\n",
    "\n",
    "print(\"Using 3 game standard predictor: \")\n",
    "pred2 = model3.predict(dogs2019[feature9Cols])\n",
    "print('Dog picks:',model3.score(dogs2019[feature9Cols], Ydogs2019))\n",
    "print('Dog picks matrix:\\n',confusion_matrix(Ydogs2019, pred2))\n",
    "print('')\n",
    "\n",
    "odds = []\n",
    "for i, n in enumerate(pred1):\n",
    "    if n == 1:\n",
    "        odds.append(dogs2019['Odds'][i])\n",
    "\n",
    "print(\"Average odds:\", statistics.mean(odds))\n",
    "print(\"Median odds:\", statistics.median(odds))\n",
    "\n",
    "odds = []\n",
    "for i, n in enumerate(pred2):\n",
    "    if n == 1:\n",
    "        odds.append(dogs2019['Odds'][i])\n",
    "\n",
    "print(\"Average odds:\", statistics.mean(odds))\n",
    "print(\"Median odds:\", statistics.median(odds))\n",
    "\n",
    "\n",
    "print(\"\\nUsing rolling 3 averages: \\n\")\n",
    "\n",
    "print(\"Using 9 game standard predictor: \")\n",
    "pred1 = model9.predict(dogs2019[feature3Cols])\n",
    "print('Dog picks:',model9.score(dogs2019[feature3Cols], Ydogs2019))\n",
    "print('Dog picks matrix:\\n',confusion_matrix(Ydogs2019, pred1))\n",
    "print('')\n",
    "\n",
    "print(\"Using 3 game standard predictor: \")\n",
    "pred2 = model3.predict(dogs2019[feature3Cols])\n",
    "print('Dog picks:',model3.score(dogs2019[feature3Cols], Ydogs2019))\n",
    "print('Dog picks matrix:\\n',confusion_matrix(Ydogs2019, pred2))\n",
    "print('')\n",
    "\n",
    "odds = []\n",
    "for i, n in enumerate(pred1):\n",
    "    if n == 1:\n",
    "        odds.append(dogs2019['Odds'][i])\n",
    "\n",
    "print(\"Average odds:\", statistics.mean(odds))\n",
    "print(\"Median odds:\", statistics.median(odds))\n",
    "\n",
    "odds = []\n",
    "for i, n in enumerate(pred2):\n",
    "    if n == 1:\n",
    "        odds.append(dogs2019['Odds'][i])\n",
    "\n",
    "print(\"Average odds:\", statistics.mean(odds))\n",
    "print(\"Median odds:\", statistics.median(odds))\n",
    "\n"
   ]
  },
  {
   "cell_type": "code",
   "execution_count": null,
   "metadata": {},
   "outputs": [],
   "source": []
  }
 ],
 "metadata": {
  "kernelspec": {
   "display_name": "Python 3",
   "language": "python",
   "name": "python3"
  },
  "language_info": {
   "codemirror_mode": {
    "name": "ipython",
    "version": 3
   },
   "file_extension": ".py",
   "mimetype": "text/x-python",
   "name": "python",
   "nbconvert_exporter": "python",
   "pygments_lexer": "ipython3",
   "version": "3.6.8"
  }
 },
 "nbformat": 4,
 "nbformat_minor": 2
}
