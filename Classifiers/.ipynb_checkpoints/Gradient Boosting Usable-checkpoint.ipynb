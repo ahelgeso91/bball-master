{
 "cells": [
  {
   "cell_type": "code",
   "execution_count": 1,
   "metadata": {},
   "outputs": [],
   "source": [
    "import numpy as np\n",
    "import pandas as pd\n",
    "import matplotlib.pyplot as plt\n",
    "import seaborn as sns\n",
    "%matplotlib inline\n",
    "from sklearn import svm\n",
    "from sklearn.linear_model import LogisticRegression\n",
    "from sklearn.svm import LinearSVC\n",
    "from sklearn.neighbors import KNeighborsClassifier\n",
    "from sklearn.model_selection import train_test_split\n",
    "from sklearn import metrics\n",
    "from sklearn.model_selection import cross_val_score\n",
    "from sklearn import preprocessing\n",
    "from sklearn.feature_selection import RFE\n",
    "from sklearn.ensemble import RandomForestClassifier\n",
    "from sklearn.ensemble import GradientBoostingClassifier\n",
    "from sklearn.feature_selection import SelectKBest\n",
    "from sklearn.feature_selection import chi2\n",
    "import os\n",
    "import pickle\n",
    "from sklearn.metrics import confusion_matrix\n",
    "import requests, bs4\n",
    "from sklearn.metrics import roc_curve, auc"
   ]
  },
  {
   "cell_type": "code",
   "execution_count": 2,
   "metadata": {},
   "outputs": [],
   "source": [
    "os.chdir('/Users/ahelgeso/Documents/GitHub/bball')"
   ]
  },
  {
   "cell_type": "code",
   "execution_count": 3,
   "metadata": {},
   "outputs": [],
   "source": [
    "db19 = pd.read_csv('2019stats.csv')"
   ]
  },
  {
   "cell_type": "markdown",
   "metadata": {},
   "source": [
    "### Check results using 2016-2018 data on 2019 games "
   ]
  },
  {
   "cell_type": "code",
   "execution_count": 4,
   "metadata": {},
   "outputs": [],
   "source": [
    "db = pd.read_csv('2017_2018stats.csv')"
   ]
  },
  {
   "cell_type": "code",
   "execution_count": 11,
   "metadata": {},
   "outputs": [],
   "source": [
    "feature3Cols = ['Location','Rolling3EFG','Rolling3TOV','Rolling3ORB','Rolling3FTR','Rolling3Pace','Opp R3Pace','Opp R3EFG','Opp R3TOV','Opp R3ORB','Opp R3FTR', 'Rolling3DEff', 'Opp R3 Deff', 'Rolling3OEff','Opp R3 Oeff']\n",
    "feature9Cols = ['Location','Rolling9EFG','Rolling9TOV','Rolling9ORB','Rolling9FTR','Rolling9Pace','Opp R9Pace','Opp R9EFG','Opp R9TOV','Opp R9ORB','Opp R9FTR', 'Rolling9DEff', 'Opp R9 Deff', 'Rolling3OEff','Opp R3 Oeff']\n",
    "\n",
    "target = ['Result']\n",
    "X3 = db.dropna()[feature3Cols]\n",
    "X9 = db.dropna()[feature9Cols]\n",
    "y = np.array(db.dropna()[target]).flatten()\n",
    "\n",
    "x9_train, x9_test, y9_train, y9_test = train_test_split(X9, y, test_size=0.3)\n",
    "x3_train, x3_test, y3_train, y3_test = train_test_split(X3, y, test_size=0.3)\n"
   ]
  },
  {
   "cell_type": "markdown",
   "metadata": {},
   "source": [
    "### Training models"
   ]
  },
  {
   "cell_type": "code",
   "execution_count": 14,
   "metadata": {},
   "outputs": [
    {
     "name": "stdout",
     "output_type": "stream",
     "text": [
      "All picks (R9): 0.6506849315068494\n",
      "All picks (R9) matrix:\n",
      " [[418 229]\n",
      " [230 437]]\n",
      " \n",
      "0.6506155732025796\n",
      "All picks (R3): 0.6248097412480974\n",
      "All picks (R3) matrix:\n",
      " [[415 263]\n",
      " [230 406]]\n",
      "0.6252295875772249\n",
      " \n"
     ]
    }
   ],
   "source": [
    "clfgtb9 = GradientBoostingClassifier(n_estimators=500, learning_rate=0.1, max_depth=1).fit(x9_train, y9_train)\n",
    "pred1 = clfgtb9.predict(x9_test)\n",
    "print('All picks (R9):',clfgtb9.score(x9_test, y9_test))\n",
    "print('All picks (R9) matrix:\\n',confusion_matrix(y9_test, pred1))\n",
    "print(' ')\n",
    "false_positive_rate, true_positive_rate, thresholds = roc_curve(y9_test, pred1)\n",
    "roc_auc = auc(false_positive_rate, true_positive_rate)\n",
    "print(roc_auc)\n",
    "\n",
    "clfgtb3 = GradientBoostingClassifier(n_estimators=500, learning_rate=0.1, max_depth=1).fit(x3_train, y3_train)\n",
    "pred2 = clfgtb3.predict(x3_test)\n",
    "print('All picks (R3):',clfgtb3.score(x3_test, y3_test))\n",
    "print('All picks (R3) matrix:\\n',confusion_matrix(y3_test, pred2))\n",
    "false_positive_rate, true_positive_rate, thresholds = roc_curve(y3_test, pred2)\n",
    "roc_auc = auc(false_positive_rate, true_positive_rate)\n",
    "print(roc_auc)\n",
    "print(' ')\n"
   ]
  },
  {
   "cell_type": "code",
   "execution_count": null,
   "metadata": {},
   "outputs": [],
   "source": []
  },
  {
   "cell_type": "markdown",
   "metadata": {},
   "source": [
    "### 2019 test data"
   ]
  },
  {
   "cell_type": "code",
   "execution_count": 10,
   "metadata": {},
   "outputs": [],
   "source": [
    "dogs2019 = db19[(db19['Line'] > 0)].dropna().reset_index()\n",
    "Ydogs2019 = db19[(db19['Line'] > 0)].dropna()['Result']"
   ]
  },
  {
   "cell_type": "code",
   "execution_count": 11,
   "metadata": {},
   "outputs": [
    {
     "name": "stdout",
     "output_type": "stream",
     "text": [
      "Using dog data[rolling 9 averages]: \n",
      "\n",
      "Using 9 game standard predictor: \n",
      "Dog picks: 0.6123019571295434\n",
      "Dog picks matrix:\n",
      " [[523 193]\n",
      " [223 134]]\n",
      "\n",
      "Using 3 game standard predictor: \n",
      "Dog picks: 0.6057781919850885\n",
      "Dog picks matrix:\n",
      " [[504 212]\n",
      " [211 146]]\n",
      "\n"
     ]
    }
   ],
   "source": [
    "print(\"Using dog data[rolling 9 averages]: \\n\")\n",
    "\n",
    "print(\"Using 9 game standard predictor: \")\n",
    "pred = clfgtb9.predict(dogs2019[feature9Cols])\n",
    "print('Dog picks:',clfgtb9.score(dogs2019[feature9Cols], Ydogs2019))\n",
    "print('Dog picks matrix:\\n',confusion_matrix(Ydogs2019, pred))\n",
    "print('')\n",
    "\n",
    "print(\"Using 3 game standard predictor: \")\n",
    "pred1 = clfgtb3.predict(dogs2019[feature9Cols])\n",
    "print('Dog picks:',clfgtb3.score(dogs2019[feature9Cols], Ydogs2019))\n",
    "print('Dog picks matrix:\\n',confusion_matrix(Ydogs2019, pred1))\n",
    "print('')\n"
   ]
  },
  {
   "cell_type": "code",
   "execution_count": 158,
   "metadata": {},
   "outputs": [
    {
     "data": {
      "text/plain": [
       "165"
      ]
     },
     "execution_count": 158,
     "metadata": {},
     "output_type": "execute_result"
    }
   ],
   "source": [
    "odds = []\n",
    "for i, n in enumerate(pred1):\n",
    "    if n == 1:\n",
    "        odds.append(dogs2019['Odds'][i])\n",
    "import statistics\n",
    "statistics.mean(odds)"
   ]
  },
  {
   "cell_type": "markdown",
   "metadata": {},
   "source": [
    "Nothing really great here.\n"
   ]
  },
  {
   "cell_type": "code",
   "execution_count": 159,
   "metadata": {},
   "outputs": [
    {
     "name": "stdout",
     "output_type": "stream",
     "text": [
      "Using rolling 3 averages: \n",
      "\n",
      "Using 9 game standard predictor: \n",
      "Dog picks: 0.6029822926374651\n",
      "Dog picks matrix:\n",
      " [[491 225]\n",
      " [201 156]]\n",
      "\n",
      "Using 3 game standard predictor: \n",
      "Dog picks: 0.6365330848089469\n",
      "Dog picks matrix:\n",
      " [[541 175]\n",
      " [215 142]]\n",
      "\n"
     ]
    }
   ],
   "source": [
    "print(\"Using rolling 3 averages: \\n\")\n",
    "\n",
    "print(\"Using 9 game standard predictor: \")\n",
    "pred1 = clfgtb9.predict(dogs2019[feature3Cols])\n",
    "print('Dog picks:',clfgtb9.score(dogs2019[feature3Cols], Ydogs2019))\n",
    "print('Dog picks matrix:\\n',confusion_matrix(Ydogs2019, pred1))\n",
    "print('')\n",
    "\n",
    "print(\"Using 3 game standard predictor: \")\n",
    "pred2 = clfgtb3.predict(dogs2019[feature3Cols])\n",
    "print('Dog picks:',clfgtb3.score(dogs2019[feature3Cols], Ydogs2019))\n",
    "print('Dog picks matrix:\\n',confusion_matrix(Ydogs2019, pred2))\n",
    "print('')\n"
   ]
  },
  {
   "cell_type": "code",
   "execution_count": 127,
   "metadata": {},
   "outputs": [
    {
     "name": "stdout",
     "output_type": "stream",
     "text": [
      "196\n",
      "160\n",
      "178\n",
      "155\n"
     ]
    }
   ],
   "source": [
    "odds = []\n",
    "for i, n in enumerate(pred1):\n",
    "    if n == 1:\n",
    "        odds.append(dogs2019['Odds'][i])\n",
    "        \n",
    "print(statistics.mean(odds))\n",
    "print(statistics.median(odds))\n",
    "\n",
    "odds = []\n",
    "for i, n in enumerate(pred2):\n",
    "    if n == 1:\n",
    "        odds.append(dogs2019['Odds'][i])\n",
    "        \n",
    "print(statistics.mean(odds))\n",
    "print(statistics.median(odds))"
   ]
  },
  {
   "cell_type": "markdown",
   "metadata": {},
   "source": [
    "#### Predictor 2 above goes 142-175 with an average odds of 178"
   ]
  },
  {
   "cell_type": "markdown",
   "metadata": {},
   "source": [
    "##### Now what I wanna do is build a model off 2018 data while continuously rolling in 2019 data as if the season was ongoing"
   ]
  },
  {
   "cell_type": "code",
   "execution_count": 162,
   "metadata": {},
   "outputs": [],
   "source": [
    "db = pd.read_csv('2018stats.csv')"
   ]
  },
  {
   "cell_type": "code",
   "execution_count": 163,
   "metadata": {},
   "outputs": [],
   "source": [
    "#feature3Cols = ['Location','Rolling3EFG','Rolling3TOV','Rolling3ORB','Rolling3FTR','Rolling3Pace','Opp R3Pace','Opp R3EFG','Opp R3TOV','Opp R3ORB','Opp R3FTR']\n",
    "#feature9Cols = ['Location','Rolling9EFG','Rolling9TOV','Rolling9ORB','Rolling9FTR','Rolling9Pace','Opp R9Pace','Opp R9EFG','Opp R9TOV','Opp R9ORB','Opp R9FTR']\n",
    "\n",
    "#target = ['Result']\n",
    "X3 = db.dropna()[feature3Cols]\n",
    "X9 = db.dropna()[feature9Cols]\n",
    "y = np.array(db.dropna()[target]).flatten()\n",
    "\n",
    "x9_train, x9_test, y9_train, y9_test = train_test_split(X9, y, test_size=0.3, random_state=8)\n",
    "x3_train, x3_test, y3_train, y3_test = train_test_split(X3, y, test_size=0.3, random_state=8)\n"
   ]
  },
  {
   "cell_type": "code",
   "execution_count": 164,
   "metadata": {},
   "outputs": [
    {
     "name": "stdout",
     "output_type": "stream",
     "text": [
      "All picks (R9): 0.6484018264840182\n",
      "All picks (R9) matrix:\n",
      " [[218 115]\n",
      " [116 208]]\n",
      " \n",
      "0.648314981648315\n",
      "All picks (R3): 0.624048706240487\n",
      "All picks (R3) matrix:\n",
      " [[208 125]\n",
      " [122 202]]\n",
      "0.6240407073740407\n",
      " \n"
     ]
    }
   ],
   "source": [
    "clfgtb9 = GradientBoostingClassifier(n_estimators=500, learning_rate=0.1, max_depth=1, random_state=1).fit(x9_train, y9_train)\n",
    "pred = clfgtb9.predict(x9_test)\n",
    "print('All picks (R9):',clfgtb9.score(x9_test, y9_test))\n",
    "print('All picks (R9) matrix:\\n',confusion_matrix(y9_test, pred))\n",
    "print(' ')\n",
    "false_positive_rate, true_positive_rate, thresholds = roc_curve(y9_test, pred)\n",
    "roc_auc = auc(false_positive_rate, true_positive_rate)\n",
    "print(roc_auc)\n",
    "\n",
    "clfgtb3 = GradientBoostingClassifier(n_estimators=500, learning_rate=0.1, max_depth=1, random_state=1).fit(x3_train, y3_train)\n",
    "pred = clfgtb3.predict(x3_test)\n",
    "print('All picks (R3):',clfgtb3.score(x3_test, y3_test))\n",
    "print('All picks (R3) matrix:\\n',confusion_matrix(y3_test, pred))\n",
    "false_positive_rate, true_positive_rate, thresholds = roc_curve(y3_test, pred)\n",
    "roc_auc = auc(false_positive_rate, true_positive_rate)\n",
    "print(roc_auc)\n",
    "print(' ')"
   ]
  },
  {
   "cell_type": "code",
   "execution_count": 165,
   "metadata": {},
   "outputs": [],
   "source": [
    "dogs2019 = db19[db19['Line'] > 0].dropna().reset_index()\n",
    "Ydogs2019 = db19[db19['Line'] > 0].dropna()['Result']"
   ]
  },
  {
   "cell_type": "code",
   "execution_count": 166,
   "metadata": {},
   "outputs": [
    {
     "name": "stdout",
     "output_type": "stream",
     "text": [
      "Using dog data[rolling 9 averages]: \n",
      "\n",
      "Using 9 game standard predictor: \n",
      "Dog picks: 0.6104380242311277\n",
      "Dog picks matrix:\n",
      " [[507 209]\n",
      " [209 148]]\n",
      "\n",
      "Using 3 game standard predictor: \n",
      "Dog picks: 0.6067101584342963\n",
      "Dog picks matrix:\n",
      " [[499 217]\n",
      " [205 152]]\n",
      "\n"
     ]
    }
   ],
   "source": [
    "print(\"Using dog data[rolling 9 averages]: \\n\")\n",
    "\n",
    "print(\"Using 9 game standard predictor: \")\n",
    "pred1 = clfgtb9.predict(dogs2019[feature9Cols])\n",
    "print('Dog picks:',clfgtb9.score(dogs2019[feature9Cols], Ydogs2019))\n",
    "print('Dog picks matrix:\\n',confusion_matrix(Ydogs2019, pred1))\n",
    "print('')\n",
    "\n",
    "print(\"Using 3 game standard predictor: \")\n",
    "pred2 = clfgtb3.predict(dogs2019[feature9Cols])\n",
    "print('Dog picks:',clfgtb3.score(dogs2019[feature9Cols], Ydogs2019))\n",
    "print('Dog picks matrix:\\n',confusion_matrix(Ydogs2019, pred2))\n",
    "print('')"
   ]
  },
  {
   "cell_type": "markdown",
   "metadata": {},
   "source": [
    "Second model is the best one"
   ]
  },
  {
   "cell_type": "code",
   "execution_count": 167,
   "metadata": {},
   "outputs": [
    {
     "name": "stdout",
     "output_type": "stream",
     "text": [
      "Average odds: 190\n",
      "Median odds: 155\n"
     ]
    }
   ],
   "source": [
    "odds = []\n",
    "for i, n in enumerate(pred2):\n",
    "    if n == 1:\n",
    "        odds.append(dogs2019['Odds'][i])\n",
    "        \n",
    "print(\"Average odds:\", statistics.mean(odds))\n",
    "print(\"Median odds:\", statistics.median(odds))\n"
   ]
  },
  {
   "cell_type": "code",
   "execution_count": 168,
   "metadata": {},
   "outputs": [
    {
     "name": "stdout",
     "output_type": "stream",
     "text": [
      "Using rolling 3 averages: \n",
      "\n",
      "Using 9 game standard predictor: \n",
      "Dog picks: 0.6197576887232059\n",
      "Dog picks matrix:\n",
      " [[500 216]\n",
      " [192 165]]\n",
      "\n",
      "Using 3 game standard predictor: \n",
      "Dog picks: 0.5983224603914259\n",
      "Dog picks matrix:\n",
      " [[461 255]\n",
      " [176 181]]\n",
      "\n"
     ]
    }
   ],
   "source": [
    "print(\"Using rolling 3 averages: \\n\")\n",
    "\n",
    "print(\"Using 9 game standard predictor: \")\n",
    "pred1 = clfgtb9.predict(dogs2019[feature3Cols])\n",
    "print('Dog picks:',clfgtb9.score(dogs2019[feature3Cols], Ydogs2019))\n",
    "print('Dog picks matrix:\\n',confusion_matrix(Ydogs2019, pred1))\n",
    "print('')\n",
    "\n",
    "print(\"Using 3 game standard predictor: \")\n",
    "pred2 = clfgtb3.predict(dogs2019[feature3Cols])\n",
    "print('Dog picks:',clfgtb3.score(dogs2019[feature3Cols], Ydogs2019))\n",
    "print('Dog picks matrix:\\n',confusion_matrix(Ydogs2019, pred2))\n",
    "print('')\n"
   ]
  },
  {
   "cell_type": "code",
   "execution_count": 169,
   "metadata": {},
   "outputs": [
    {
     "name": "stdout",
     "output_type": "stream",
     "text": [
      "Average odds: 199\n",
      "Median odds: 160\n",
      "Average odds: 206\n",
      "Median odds: 160.0\n"
     ]
    }
   ],
   "source": [
    "odds = []\n",
    "for i, n in enumerate(pred1):\n",
    "    if n == 1:\n",
    "        odds.append(dogs2019['Odds'][i])\n",
    "        \n",
    "print(\"Average odds:\", statistics.mean(odds))\n",
    "print(\"Median odds:\", statistics.median(odds))\n",
    "\n",
    "odds = []\n",
    "for i, n in enumerate(pred2):\n",
    "    if n == 1:\n",
    "        odds.append(dogs2019['Odds'][i])\n",
    "        \n",
    "print(\"Average odds:\", statistics.mean(odds))\n",
    "print(\"Median odds:\", statistics.median(odds))"
   ]
  },
  {
   "cell_type": "markdown",
   "metadata": {},
   "source": [
    "Above: model 1 goes 165-216 with average betting odds of 199; this is profitable\n"
   ]
  },
  {
   "cell_type": "code",
   "execution_count": 170,
   "metadata": {},
   "outputs": [],
   "source": [
    "db19 = pd.read_csv('2019stats.csv')\n",
    "db = pd.read_csv('2018stats.csv')"
   ]
  },
  {
   "cell_type": "code",
   "execution_count": 171,
   "metadata": {},
   "outputs": [],
   "source": [
    "#db19.drop(['Unnamed: 0', 'Unnamed: 0.1'], axis = 1, inplace = True)\n",
    "db19['Date'] = db19['Date'].apply(str)\n",
    "db19['Date'] = pd.to_datetime(db19.Date, format = \"%Y%m%d\")\n",
    "db19 = db19.sort_values(by = ['Date']).reset_index(drop = True)"
   ]
  },
  {
   "cell_type": "code",
   "execution_count": 172,
   "metadata": {},
   "outputs": [
    {
     "name": "stderr",
     "output_type": "stream",
     "text": [
      "C:\\Users\\helgeson\\AppData\\Local\\Continuum\\anaconda3\\lib\\site-packages\\ipykernel_launcher.py:4: FutureWarning: Sorting because non-concatenation axis is not aligned. A future version\n",
      "of pandas will change to not sort by default.\n",
      "\n",
      "To accept the future behavior, pass 'sort=False'.\n",
      "\n",
      "To retain the current behavior and silence the warning, pass 'sort=True'.\n",
      "\n",
      "  after removing the cwd from sys.path.\n"
     ]
    }
   ],
   "source": [
    "db['Date'] = db['Date'].apply(str)\n",
    "db['Date'] = pd.to_datetime(db.Date, format= \"%Y%m%d\")\n",
    "db = db.sort_values(by = ['Date']).reset_index(drop = True)\n",
    "test = pd.concat([db, db19[:int(len(db19)/2)]], ignore_index = True)"
   ]
  },
  {
   "cell_type": "code",
   "execution_count": 173,
   "metadata": {},
   "outputs": [],
   "source": [
    "# Leave in first half of prev season or cut it out?\n",
    "\n",
    "test = test.drop(test.index[:int(len(db19)/2)]) "
   ]
  },
  {
   "cell_type": "code",
   "execution_count": 174,
   "metadata": {},
   "outputs": [],
   "source": [
    "db = test.reset_index(drop = True) ### for simplicity"
   ]
  },
  {
   "cell_type": "code",
   "execution_count": 175,
   "metadata": {},
   "outputs": [],
   "source": [
    "db = db.drop(['Implied Prob','Implied Proba','Unnamed: 0'], axis = 1)"
   ]
  },
  {
   "cell_type": "markdown",
   "metadata": {},
   "source": [
    "### Here is a realistic expectation of what a running database may look like. I added half the season's worth of 2019 onto the 2018 db, and dropped the first half of 2018. The model now looks at the second half of 2018 and the first half of 2019."
   ]
  },
  {
   "cell_type": "code",
   "execution_count": 176,
   "metadata": {},
   "outputs": [],
   "source": [
    "#feature3Cols = ['Location','Rolling3EFG','Rolling3TOV','Rolling3ORB','Rolling3FTR','Rolling3Pace','Opp R3Pace','Opp R3EFG','Opp R3TOV','Opp R3ORB','Opp R3FTR']\n",
    "#feature9Cols = ['Location','Rolling9EFG','Rolling9TOV','Rolling9ORB','Rolling9FTR','Rolling9Pace','Opp R9Pace','Opp R9EFG','Opp R9TOV','Opp R9ORB','Opp R9FTR']\n",
    "\n",
    "target = ['Result']\n",
    "X3 = db.dropna()[feature3Cols]\n",
    "X9 = db.dropna()[feature9Cols]\n",
    "y = np.array(db.dropna()[target]).flatten()\n",
    "\n",
    "x9_train, x9_test, y9_train, y9_test = train_test_split(X9, y, test_size=0.3, random_state=3)\n",
    "x3_train, x3_test, y3_train, y3_test = train_test_split(X3, y, test_size=0.3, random_state=3)\n"
   ]
  },
  {
   "cell_type": "code",
   "execution_count": 177,
   "metadata": {},
   "outputs": [
    {
     "name": "stdout",
     "output_type": "stream",
     "text": [
      "All picks (R9): 0.6529680365296804\n",
      "All picks (R9) matrix:\n",
      " [[215 104]\n",
      " [124 214]]\n",
      "0.6535586429485634\n",
      " \n",
      "All picks (R3): 0.619482496194825\n",
      "All picks (R3) matrix:\n",
      " [[194 125]\n",
      " [125 213]]\n",
      "0.6191639925061676\n",
      " \n"
     ]
    }
   ],
   "source": [
    "clfgtb9 = GradientBoostingClassifier(n_estimators=500, learning_rate=0.1, max_depth=1, random_state=3).fit(x9_train, y9_train)\n",
    "pred = clfgtb9.predict(x9_test)\n",
    "print('All picks (R9):',clfgtb9.score(x9_test, y9_test))\n",
    "print('All picks (R9) matrix:\\n',confusion_matrix(y9_test, pred))\n",
    "false_positive_rate, true_positive_rate, thresholds = roc_curve(y9_test, pred)\n",
    "roc_auc = auc(false_positive_rate, true_positive_rate)\n",
    "print(roc_auc)\n",
    "print(' ')\n",
    "\n",
    "clfgtb3 = GradientBoostingClassifier(n_estimators=500, learning_rate=0.1, max_depth=1, random_state=3).fit(x3_train, y3_train)\n",
    "pred = clfgtb3.predict(x3_test)\n",
    "print('All picks (R3):',clfgtb3.score(x3_test, y3_test))\n",
    "print('All picks (R3) matrix:\\n',confusion_matrix(y3_test, pred))\n",
    "false_positive_rate, true_positive_rate, thresholds = roc_curve(y3_test, pred)\n",
    "roc_auc = auc(false_positive_rate, true_positive_rate)\n",
    "print(roc_auc)\n",
    "print(' ')\n"
   ]
  },
  {
   "cell_type": "code",
   "execution_count": 178,
   "metadata": {},
   "outputs": [
    {
     "name": "stderr",
     "output_type": "stream",
     "text": [
      "C:\\Users\\helgeson\\AppData\\Local\\Continuum\\anaconda3\\lib\\site-packages\\ipykernel_launcher.py:1: UserWarning: Boolean Series key will be reindexed to match DataFrame index.\n",
      "  \"\"\"Entry point for launching an IPython kernel.\n",
      "C:\\Users\\helgeson\\AppData\\Local\\Continuum\\anaconda3\\lib\\site-packages\\ipykernel_launcher.py:2: UserWarning: Boolean Series key will be reindexed to match DataFrame index.\n",
      "  \n"
     ]
    }
   ],
   "source": [
    "dogs2019 = db19[int(len(db19)/2):][db19['Line'] > 0].dropna().reset_index()\n",
    "Ydogs2019 = db19[int(len(db19)/2):][db19['Line'] > 0].dropna()['Result']"
   ]
  },
  {
   "cell_type": "markdown",
   "metadata": {},
   "source": [
    "### This is now predicting all underdog games for last half of season"
   ]
  },
  {
   "cell_type": "code",
   "execution_count": 179,
   "metadata": {},
   "outputs": [
    {
     "name": "stdout",
     "output_type": "stream",
     "text": [
      "Using dog data[rolling 9 averages]: \n",
      "\n",
      "Using 9 game standard predictor: \n",
      "Dog picks: 0.6595041322314049\n",
      "Dog picks matrix:\n",
      " [[330  82]\n",
      " [124  69]]\n",
      "\n",
      "Using 3 game standard predictor: \n",
      "Dog picks: 0.6247933884297521\n",
      "Dog picks matrix:\n",
      " [[311 101]\n",
      " [126  67]]\n",
      "\n"
     ]
    }
   ],
   "source": [
    "print(\"Using dog data[rolling 9 averages]: \\n\")\n",
    "\n",
    "print(\"Using 9 game standard predictor: \")\n",
    "pred1 = clfgtb9.predict(dogs2019[feature9Cols])\n",
    "print('Dog picks:',clfgtb9.score(dogs2019[feature9Cols], Ydogs2019))\n",
    "print('Dog picks matrix:\\n',confusion_matrix(Ydogs2019, pred1))\n",
    "print('')\n",
    "\n",
    "print(\"Using 3 game standard predictor: \")\n",
    "pred2 = clfgtb3.predict(dogs2019[feature9Cols])\n",
    "print('Dog picks:',clfgtb3.score(dogs2019[feature9Cols], Ydogs2019))\n",
    "print('Dog picks matrix:\\n',confusion_matrix(Ydogs2019, pred2))\n",
    "print('')"
   ]
  },
  {
   "cell_type": "code",
   "execution_count": 180,
   "metadata": {},
   "outputs": [
    {
     "name": "stdout",
     "output_type": "stream",
     "text": [
      "Average odds: 148\n",
      "Median odds: 160\n",
      "Average odds: 176\n",
      "Median odds: 160.0\n"
     ]
    }
   ],
   "source": [
    "odds = []\n",
    "for i, n in enumerate(pred1):\n",
    "    if n == 1:\n",
    "        odds.append(dogs2019['Odds'][i])\n",
    "\n",
    "print(\"Average odds:\", statistics.mean(odds))\n",
    "print(\"Median odds:\", statistics.median(odds))\n",
    "\n",
    "odds = []\n",
    "for i, n in enumerate(pred2):\n",
    "    if n == 1:\n",
    "        odds.append(dogs2019['Odds'][i])\n",
    "\n",
    "print(\"Average odds:\", statistics.mean(odds))\n",
    "print(\"Median odds:\", statistics.median(odds))"
   ]
  },
  {
   "cell_type": "code",
   "execution_count": 181,
   "metadata": {},
   "outputs": [
    {
     "name": "stdout",
     "output_type": "stream",
     "text": [
      "Using rolling 3 averages: \n",
      "\n",
      "Using 9 game standard predictor: \n",
      "Dog picks: 0.631404958677686\n",
      "Dog picks matrix:\n",
      " [[308 104]\n",
      " [119  74]]\n",
      "\n",
      "Using 3 game standard predictor: \n",
      "Dog picks: 0.6545454545454545\n",
      "Dog picks matrix:\n",
      " [[313  99]\n",
      " [110  83]]\n",
      "\n"
     ]
    }
   ],
   "source": [
    "print(\"Using rolling 3 averages: \\n\")\n",
    "\n",
    "print(\"Using 9 game standard predictor: \")\n",
    "pred1 = clfgtb9.predict(dogs2019[feature3Cols])\n",
    "print('Dog picks:',clfgtb9.score(dogs2019[feature3Cols], Ydogs2019))\n",
    "print('Dog picks matrix:\\n',confusion_matrix(Ydogs2019, pred1))\n",
    "print('')\n",
    "\n",
    "print(\"Using 3 game standard predictor: \")\n",
    "pred2 = clfgtb3.predict(dogs2019[feature3Cols])\n",
    "print('Dog picks:',clfgtb3.score(dogs2019[feature3Cols], Ydogs2019))\n",
    "print('Dog picks matrix:\\n',confusion_matrix(Ydogs2019, pred2))\n",
    "print('')\n"
   ]
  },
  {
   "cell_type": "code",
   "execution_count": 182,
   "metadata": {},
   "outputs": [
    {
     "name": "stdout",
     "output_type": "stream",
     "text": [
      "Average odds: 211\n",
      "Median odds: 175.0\n",
      "Average odds: 206\n",
      "Median odds: 165.0\n"
     ]
    }
   ],
   "source": [
    "odds = []\n",
    "for i, n in enumerate(pred1):\n",
    "    if n == 1:\n",
    "        odds.append(dogs2019['Odds'][i])\n",
    "\n",
    "print(\"Average odds:\", statistics.mean(odds))\n",
    "print(\"Median odds:\", statistics.median(odds))\n",
    "\n",
    "odds = []\n",
    "for i, n in enumerate(pred2):\n",
    "    if n == 1:\n",
    "        odds.append(dogs2019['Odds'][i])\n",
    "\n",
    "print(\"Average odds:\", statistics.mean(odds))\n",
    "print(\"Median odds:\", statistics.median(odds))"
   ]
  },
  {
   "cell_type": "code",
   "execution_count": 183,
   "metadata": {},
   "outputs": [],
   "source": [
    "pkl_filename = \"GBC9model.pkl\"  \n",
    "with open(pkl_filename, 'wb') as file:  \n",
    "    pickle.dump(clfgtb9, file)\n",
    "    \n",
    "pkl_filename = \"GBC3model.pkl\"  \n",
    "with open(pkl_filename, 'wb') as file:  \n",
    "    pickle.dump(clfgtb3, file)"
   ]
  },
  {
   "cell_type": "markdown",
   "metadata": {},
   "source": [
    "This model drops 2018 data when adding first half of 2019.\n",
    "\n",
    "The 9-game predictor goes 69-82 using 9-game average data, with average odds of 148.\n",
    "\n",
    "The 3-game predictor goes 83-99 using 3-game average data, with average odds of 206."
   ]
  },
  {
   "cell_type": "code",
   "execution_count": 58,
   "metadata": {},
   "outputs": [
    {
     "name": "stderr",
     "output_type": "stream",
     "text": [
      "/Users/ahelgeso/anaconda3/lib/python3.6/site-packages/sklearn/base.py:311: UserWarning: Trying to unpickle estimator DecisionTreeRegressor from version 0.20.3 when using version 0.19.1. This might lead to breaking code or invalid results. Use at your own risk.\n",
      "  UserWarning)\n",
      "/Users/ahelgeso/anaconda3/lib/python3.6/site-packages/sklearn/base.py:311: UserWarning: Trying to unpickle estimator GradientBoostingClassifier from version 0.20.3 when using version 0.19.1. This might lead to breaking code or invalid results. Use at your own risk.\n",
      "  UserWarning)\n"
     ]
    }
   ],
   "source": [
    "model3 = pickle.load(open('GBC3Model.pkl', 'rb'))\n",
    "model9 = pickle.load(open('GBC9Model.pkl','rb'))"
   ]
  },
  {
   "cell_type": "code",
   "execution_count": 59,
   "metadata": {},
   "outputs": [
    {
     "name": "stdout",
     "output_type": "stream",
     "text": [
      "Using dog data[rolling 9 averages]: \n",
      "\n",
      "Using 9 game standard predictor: \n",
      "Dog picks: 0.6264462809917355\n",
      "Dog picks matrix:\n",
      " [[309 103]\n",
      " [123  70]]\n",
      "\n",
      "Using 3 game standard predictor: \n",
      "Dog picks: 0.6264462809917355\n",
      "Dog picks matrix:\n",
      " [[316  96]\n",
      " [130  63]]\n",
      "\n",
      "Average odds: 191.9364161849711\n",
      "Median odds: 165.0\n",
      "Average odds: 192.0251572327044\n",
      "Median odds: 160.0\n",
      "\n",
      "Using rolling 3 averages: \n",
      "\n",
      "Using 9 game standard predictor: \n",
      "Dog picks: 0.6082644628099173\n",
      "Dog picks matrix:\n",
      " [[281 131]\n",
      " [106  87]]\n",
      "\n",
      "Using 3 game standard predictor: \n",
      "Dog picks: 0.6099173553719008\n",
      "Dog picks matrix:\n",
      " [[288 124]\n",
      " [112  81]]\n",
      "\n",
      "Average odds: 232.90825688073394\n",
      "Median odds: 175.0\n",
      "Average odds: 227.15121951219513\n",
      "Median odds: 175.0\n"
     ]
    }
   ],
   "source": [
    "print(\"Using dog data[rolling 9 averages]: \\n\")\n",
    "\n",
    "print(\"Using 9 game standard predictor: \")\n",
    "pred1 = model9.predict(dogs2019[feature9Cols])\n",
    "print('Dog picks:',model9.score(dogs2019[feature9Cols], Ydogs2019))\n",
    "print('Dog picks matrix:\\n',confusion_matrix(Ydogs2019, pred1))\n",
    "print('')\n",
    "\n",
    "print(\"Using 3 game standard predictor: \")\n",
    "pred2 = model3.predict(dogs2019[feature9Cols])\n",
    "print('Dog picks:',model3.score(dogs2019[feature9Cols], Ydogs2019))\n",
    "print('Dog picks matrix:\\n',confusion_matrix(Ydogs2019, pred2))\n",
    "print('')\n",
    "\n",
    "odds = []\n",
    "for i, n in enumerate(pred1):\n",
    "    if n == 1:\n",
    "        odds.append(dogs2019['Odds'][i])\n",
    "\n",
    "print(\"Average odds:\", statistics.mean(odds))\n",
    "print(\"Median odds:\", statistics.median(odds))\n",
    "\n",
    "odds = []\n",
    "for i, n in enumerate(pred2):\n",
    "    if n == 1:\n",
    "        odds.append(dogs2019['Odds'][i])\n",
    "\n",
    "print(\"Average odds:\", statistics.mean(odds))\n",
    "print(\"Median odds:\", statistics.median(odds))\n",
    "\n",
    "\n",
    "print(\"\\nUsing rolling 3 averages: \\n\")\n",
    "\n",
    "print(\"Using 9 game standard predictor: \")\n",
    "pred1 = model9.predict(dogs2019[feature3Cols])\n",
    "print('Dog picks:',model9.score(dogs2019[feature3Cols], Ydogs2019))\n",
    "print('Dog picks matrix:\\n',confusion_matrix(Ydogs2019, pred1))\n",
    "print('')\n",
    "\n",
    "print(\"Using 3 game standard predictor: \")\n",
    "pred2 = model3.predict(dogs2019[feature3Cols])\n",
    "print('Dog picks:',model3.score(dogs2019[feature3Cols], Ydogs2019))\n",
    "print('Dog picks matrix:\\n',confusion_matrix(Ydogs2019, pred2))\n",
    "print('')\n",
    "\n",
    "odds = []\n",
    "for i, n in enumerate(pred1):\n",
    "    if n == 1:\n",
    "        odds.append(dogs2019['Odds'][i])\n",
    "\n",
    "print(\"Average odds:\", statistics.mean(odds))\n",
    "print(\"Median odds:\", statistics.median(odds))\n",
    "\n",
    "odds = []\n",
    "for i, n in enumerate(pred2):\n",
    "    if n == 1:\n",
    "        odds.append(dogs2019['Odds'][i])\n",
    "\n",
    "print(\"Average odds:\", statistics.mean(odds))\n",
    "print(\"Median odds:\", statistics.median(odds))\n",
    "\n"
   ]
  },
  {
   "cell_type": "code",
   "execution_count": null,
   "metadata": {},
   "outputs": [],
   "source": []
  }
 ],
 "metadata": {
  "kernelspec": {
   "display_name": "Python 3",
   "language": "python",
   "name": "python3"
  },
  "language_info": {
   "codemirror_mode": {
    "name": "ipython",
    "version": 3
   },
   "file_extension": ".py",
   "mimetype": "text/x-python",
   "name": "python",
   "nbconvert_exporter": "python",
   "pygments_lexer": "ipython3",
   "version": "3.6.4"
  }
 },
 "nbformat": 4,
 "nbformat_minor": 2
}
