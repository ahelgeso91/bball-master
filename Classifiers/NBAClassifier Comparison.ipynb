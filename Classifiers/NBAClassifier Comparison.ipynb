{
 "cells": [
  {
   "cell_type": "code",
   "execution_count": 193,
   "metadata": {},
   "outputs": [],
   "source": [
    "import numpy as np\n",
    "import pandas as pd\n",
    "import matplotlib.pyplot as plt\n",
    "import seaborn as sns\n",
    "%matplotlib inline\n",
    "from sklearn.model_selection import train_test_split\n",
    "from sklearn import metrics\n",
    "from sklearn.model_selection import cross_val_score\n",
    "from sklearn import preprocessing\n",
    "import os\n",
    "import sys\n",
    "import statistics\n",
    "from sklearn.metrics import confusion_matrix\n",
    "from sklearn.feature_selection import SelectKBest, chi2\n",
    "from sklearn.metrics import r2_score\n",
    "from sklearn.metrics import accuracy_score, log_loss\n",
    "from sklearn.neighbors import KNeighborsClassifier\n",
    "from sklearn.neural_network import MLPClassifier\n",
    "from sklearn.svm import SVC, LinearSVC, NuSVC\n",
    "from sklearn.tree import DecisionTreeClassifier\n",
    "from sklearn.ensemble import RandomForestClassifier, AdaBoostClassifier, GradientBoostingClassifier, VotingClassifier\n",
    "from sklearn.naive_bayes import GaussianNB\n",
    "from sklearn.discriminant_analysis import LinearDiscriminantAnalysis\n",
    "from sklearn.discriminant_analysis import QuadraticDiscriminantAnalysis"
   ]
  },
  {
   "cell_type": "markdown",
   "metadata": {},
   "source": [
    "### Below charts 2019 results off 2015-2018 season data"
   ]
  },
  {
   "cell_type": "code",
   "execution_count": 194,
   "metadata": {},
   "outputs": [],
   "source": [
    "os.chdir('/Users/ahelgeso/Documents/GitHub/bball-master/Stat Sheets')"
   ]
  },
  {
   "cell_type": "code",
   "execution_count": 195,
   "metadata": {},
   "outputs": [],
   "source": [
    "np.set_printoptions(threshold=sys.maxsize)"
   ]
  },
  {
   "cell_type": "code",
   "execution_count": 196,
   "metadata": {},
   "outputs": [],
   "source": [
    "db19 = pd.read_csv('2019stats.csv')\n",
    "db15 = pd.read_csv('2015stats.csv')\n",
    "db16 = pd.read_csv('2016stats.csv')\n",
    "db17 = pd.read_csv('2017stats.csv')\n",
    "db18 = pd.read_csv('2018stats.csv')\n",
    "\n",
    "db = pd.concat([db15, db16, db17, db18])"
   ]
  },
  {
   "cell_type": "code",
   "execution_count": 197,
   "metadata": {},
   "outputs": [
    {
     "data": {
      "text/plain": [
       "Index(['Team', 'Location', 'Game Number', 'Team Points', 'Opp Points',\n",
       "       'Result', 'Date', 'Opponent', 'EFG%', 'TOV%', 'ORB%', 'FTR', 'Pace',\n",
       "       'OEff', 'DEff', 'Opp EFG', 'Opp TOV', 'Opp ORB', 'Opp FTR', 'Opp Pace',\n",
       "       'Opp OEff', 'Opp DEff', 'Rolling7EFG', 'Rolling7TOV', 'Rolling7ORB',\n",
       "       'Rolling7FTR', 'Rolling7Pace', 'Rolling7OEff', 'Rolling7DEff',\n",
       "       'Opp R7EFG', 'Opp R7TOV', 'Opp R7ORB', 'Opp R7FTR', 'Opp R7Pace',\n",
       "       'Opp R7 OEff', 'Opp R7 DEff', 'delEFG', 'delTOV', 'delORB', 'delFTR',\n",
       "       'delEff', 'Rolling10delEFG', 'Rolling10delTOV', 'Rolling10delORB',\n",
       "       'Rolling10delFTR', 'Rolling10delEff', 'Opp R10delEFG', 'Opp R10delTOV',\n",
       "       'Opp R10delORB', 'Opp R10delFTR', 'Opp R10 delEff', 'Season', 'Win Pct',\n",
       "       'Opp Win Pct', 'Rest', 'Odds', 'Line', 'Cover', 'Opp Rest',\n",
       "       'DecimalOdds', 'Implied Odds', 'SeasonEFG', 'SeasonTOV', 'SeasonORB',\n",
       "       'SeasonFTR', 'SeasonPace', 'SeasonOEff', 'SeasonDEff', 'Margin',\n",
       "       'Rolling7EFG_delLeague', 'Rolling7ORB_delLeague',\n",
       "       'Rolling7TOV_delLeague', 'Rolling7FTR_delLeague',\n",
       "       'Rolling7OEff_delLeague', 'Rolling7DEff_delLeague',\n",
       "       'SeasonEFG_delLeague', 'SeasonORB_delLeague', 'SeasonTOV_delLeague',\n",
       "       'SeasonFTR_delLeague', 'SeasonOEff_delLeague', 'SeasonDEff_delLeague'],\n",
       "      dtype='object')"
      ]
     },
     "execution_count": 197,
     "metadata": {},
     "output_type": "execute_result"
    }
   ],
   "source": [
    "db.columns"
   ]
  },
  {
   "cell_type": "code",
   "execution_count": 216,
   "metadata": {},
   "outputs": [],
   "source": [
    "cols = ['Team', 'Location', 'Game Number', 'Team Points', 'Opp Points',\n",
    "       'Result', 'Date', 'Opponent', 'Margin',\n",
    "       'Rolling7EFG_delLeague', 'Rolling7ORB_delLeague',\n",
    "       'Rolling7TOV_delLeague', 'Rolling7FTR_delLeague',\n",
    "       'Rolling7OEff_delLeague', 'Rolling7DEff_delLeague',\n",
    "       'SeasonEFG_delLeague', 'SeasonORB_delLeague', 'SeasonTOV_delLeague',\n",
    "       'SeasonFTR_delLeague', 'SeasonOEff_delLeague', 'SeasonDEff_delLeague', \n",
    "        'Opp R10delEFG', 'Opp R10delTOV',\n",
    "       'Opp R10delORB', 'Opp R10delFTR', 'Opp R10 delEff', 'Season', 'Win Pct',\n",
    "       'Opp Win Pct', 'Rest', 'Odds', 'Line', 'Cover', 'Opp Rest',\n",
    "       'DecimalOdds']\n",
    "\n",
    "featureCols = ['Rolling7EFG_delLeague', 'Rolling7ORB_delLeague',\n",
    "       'Rolling7TOV_delLeague', 'Rolling7FTR_delLeague',\n",
    "       'Rolling7OEff_delLeague', 'Rolling7DEff_delLeague',\n",
    "       'SeasonEFG_delLeague', 'SeasonORB_delLeague', 'SeasonTOV_delLeague',\n",
    "       'SeasonFTR_delLeague', 'SeasonOEff_delLeague', 'SeasonDEff_delLeague',\n",
    "        'Win Pct', 'Opp Win Pct', 'Rest', 'Opp Rest']\n",
    "\n",
    "db = db[cols]"
   ]
  },
  {
   "cell_type": "code",
   "execution_count": 199,
   "metadata": {},
   "outputs": [],
   "source": [
    "# cols = ['Rolling3Pace', 'Rolling3OEff', 'Rolling3DEff', 'Opp R3Pace', 'Opp R3 OEff', 'Opp R3 DEff',\n",
    "#         'Rolling5Pace', 'Rolling5OEff','Rolling5DEff','Opp R5Pace', 'Opp R5 OEff', 'Opp R5 DEff',\n",
    "#        'Rolling7Pace', 'Rolling7OEff', 'Rolling7DEff','Opp R7Pace', 'Opp R7 OEff', 'Opp R7 DEff']\n",
    "\n",
    "# for col in cols:\n",
    "#     db[col] = db[col]/100.0\n",
    "    \n",
    "# for col in cols:\n",
    "#     db19[col] = db19[col]/100.0"
   ]
  },
  {
   "cell_type": "code",
   "execution_count": 200,
   "metadata": {},
   "outputs": [],
   "source": [
    "X = db.dropna()[featureCols]\n",
    "y = db.dropna()['Result']"
   ]
  },
  {
   "cell_type": "code",
   "execution_count": 201,
   "metadata": {},
   "outputs": [],
   "source": [
    "db19 = db19.dropna().reset_index(drop = True)[cols]"
   ]
  },
  {
   "cell_type": "code",
   "execution_count": 202,
   "metadata": {},
   "outputs": [],
   "source": [
    "dogs = db19[db19['Line'] > 0].reset_index(drop = True)"
   ]
  },
  {
   "cell_type": "code",
   "execution_count": 203,
   "metadata": {},
   "outputs": [],
   "source": [
    "dogs = dogs.sort_values(by = 'Date').reset_index(drop = True)"
   ]
  },
  {
   "cell_type": "code",
   "execution_count": 204,
   "metadata": {},
   "outputs": [],
   "source": [
    "dogs = dogs.drop(list(dogs[dogs['Game Number']>59].index)).reset_index(drop = True)"
   ]
  },
  {
   "cell_type": "code",
   "execution_count": 205,
   "metadata": {},
   "outputs": [],
   "source": [
    "X_train, X_test, y_train, y_test = train_test_split(X, y, test_size=0.3)"
   ]
  },
  {
   "cell_type": "code",
   "execution_count": 206,
   "metadata": {},
   "outputs": [
    {
     "name": "stdout",
     "output_type": "stream",
     "text": [
      "==============================\n",
      "KNeighborsClassifier\n",
      "****Results****\n",
      "Accuracy: 61.4263%\n",
      "Confusion Matrix\n",
      " [[756 508]\n",
      " [471 803]]\n",
      "Cant see coefficients\n",
      "Cant see feature importance\n",
      "Log Loss: 0.6636246085304012\n",
      "==============================\n",
      "AdaBoostClassifier\n",
      "****Results****\n",
      "Accuracy: 64.3814%\n",
      "Confusion Matrix\n",
      " [[806 458]\n",
      " [446 828]]\n",
      "Cant see coefficients\n",
      "Feature Importances: \n",
      " [0.04 0.02 0.04 0.02 0.04 0.02 0.06 0.04 0.04 0.04 0.02 0.14 0.08 0.02\n",
      " 0.02 0.   0.06 0.14 0.12 0.02 0.02]\n",
      "Log Loss: 0.6899340371995921\n",
      "==============================\n",
      "GradientBoostingClassifier\n",
      "****Results****\n",
      "Accuracy: 65.0906%\n",
      "Confusion Matrix\n",
      " [[824 440]\n",
      " [446 828]]\n",
      "Cant see coefficients\n",
      "Feature Importances: \n",
      " [0.03160784 0.02019823 0.02460389 0.01332446 0.02658795 0.02222489\n",
      " 0.02778455 0.01481473 0.01838042 0.02047936 0.04354925 0.05573572\n",
      " 0.04860664 0.01228474 0.01643906 0.01815298 0.10459671 0.24645674\n",
      " 0.20504381 0.01684786 0.01228015]\n",
      "Log Loss: 0.6239478700059328\n",
      "==============================\n",
      "GaussianNB\n",
      "****Results****\n",
      "Accuracy: 64.4208%\n",
      "Confusion Matrix\n",
      " [[830 434]\n",
      " [469 805]]\n",
      "Cant see coefficients\n",
      "Cant see feature importance\n",
      "Log Loss: 0.8172350083607389\n",
      "==============================\n",
      "LinearDiscriminantAnalysis\n",
      "****Results****\n",
      "Accuracy: 65.2876%\n",
      "Confusion Matrix\n",
      " [[840 424]\n",
      " [457 817]]\n",
      "Coefficients: \n",
      " [[ 5.42800260e-02  2.81726224e-02 -4.06465131e-02  3.52404951e-03\n",
      "  -1.00014860e-02 -4.93970015e-03  1.01532359e-02 -1.72952805e-02\n",
      "   2.62847526e-02 -4.61485391e-03  5.82549178e-02 -6.18286045e-02\n",
      "  -6.06948320e-02  4.83136367e-02 -2.19195672e-02 -5.15300957e-03\n",
      "   2.12928564e-03  1.29042047e+00 -2.32582653e+00  6.51333230e-01\n",
      "  -6.15119710e-01]]\n",
      "Cant see feature importance\n",
      "Log Loss: 0.6171718420900066\n",
      "==============================\n",
      "MLPClassifier\n",
      "****Results****\n",
      "Accuracy: 58.7470%\n",
      "Confusion Matrix\n",
      " [[702 562]\n",
      " [485 789]]\n",
      "Cant see coefficients\n",
      "Cant see feature importance\n",
      "Log Loss: 0.7906492237386853\n",
      "==============================\n"
     ]
    }
   ],
   "source": [
    "classifiers = [\n",
    "    KNeighborsClassifier(20, weights = 'distance'),\n",
    "    #SVC(kernel=\"rbf\", C=0.025, probability=True),\n",
    "    #NuSVC(probability=True),\n",
    "    #DecisionTreeClassifier(),\n",
    "    #RandomForestClassifier(),\n",
    "    AdaBoostClassifier(),\n",
    "    GradientBoostingClassifier(),\n",
    "    GaussianNB(),\n",
    "    LinearDiscriminantAnalysis(),\n",
    "    #QuadraticDiscriminantAnalysis(),\n",
    "    MLPClassifier(max_iter = 400)]\n",
    "\n",
    "# Logging for Visual Comparison\n",
    "log_cols=[\"Classifier\", \"Accuracy\", \"Log Loss\"]\n",
    "log = pd.DataFrame(columns=log_cols)\n",
    "\n",
    "for clf in classifiers:\n",
    "    clf.fit(X_train, y_train)\n",
    "    name = clf.__class__.__name__\n",
    "    \n",
    "    print(\"=\"*30)\n",
    "    print(name)\n",
    "    \n",
    "    print('****Results****')\n",
    "    train_predictions = clf.predict(X_test)\n",
    "    acc = accuracy_score(y_test, train_predictions)\n",
    "    print(\"Accuracy: {:.4%}\".format(acc))\n",
    "    print('Confusion Matrix\\n',confusion_matrix(y_test, train_predictions))\n",
    "    try:\n",
    "        print('Coefficients: \\n', clf.coef_)\n",
    "    \n",
    "    except:\n",
    "        print('Cant see coefficients')\n",
    "        \n",
    "    try:\n",
    "        print('Feature Importances: \\n', clf.feature_importances_)\n",
    "    except:\n",
    "        print('Cant see feature importance')\n",
    "        \n",
    "    train_predictions = clf.predict_proba(X_test)\n",
    "    ll = log_loss(y_test, train_predictions)\n",
    "    print(\"Log Loss: {}\".format(ll))\n",
    "\n",
    "    \n",
    "        \n",
    "    log_entry = pd.DataFrame([[name, acc*100, ll]], columns=log_cols)\n",
    "    log = log.append(log_entry)\n",
    "    \n",
    "print(\"=\"*30)"
   ]
  },
  {
   "cell_type": "code",
   "execution_count": 208,
   "metadata": {},
   "outputs": [
    {
     "data": {
      "image/png": "[encoded data removed]",
      "text/plain": [
       "<Figure size 432x288 with 1 Axes>"
      ]
     },
     "metadata": {
      "needs_background": "light"
     },
     "output_type": "display_data"
    },
    {
     "data": {
      "image/png": "[encoded data removed]",
      "text/plain": [
       "<Figure size 432x288 with 1 Axes>"
      ]
     },
     "metadata": {
      "needs_background": "light"
     },
     "output_type": "display_data"
    }
   ],
   "source": [
    "sns.set_color_codes(\"muted\")\n",
    "sns.barplot(x='Accuracy', y='Classifier', data=log, color=\"b\")\n",
    "\n",
    "plt.xlabel('Accuracy %')\n",
    "plt.title('Classifier Accuracy')\n",
    "plt.show()\n",
    "\n",
    "sns.set_color_codes(\"muted\")\n",
    "sns.barplot(x='Log Loss', y='Classifier', data=log, color=\"g\")\n",
    "\n",
    "plt.xlabel('Log Loss')\n",
    "plt.title('Classifier Log Loss')\n",
    "plt.show()"
   ]
  },
  {
   "cell_type": "code",
   "execution_count": 209,
   "metadata": {},
   "outputs": [],
   "source": [
    "X_train, X_test, y_train, y_test = train_test_split(X, y, test_size=0.3)\n",
    "knn = KNeighborsClassifier(10, weights = 'distance')\n",
    "knn.fit(X_train, y_train)\n",
    "train_predictions = clf.predict(dogs[featureCols])"
   ]
  },
  {
   "cell_type": "code",
   "execution_count": null,
   "metadata": {},
   "outputs": [],
   "source": []
  },
  {
   "cell_type": "code",
   "execution_count": null,
   "metadata": {},
   "outputs": [],
   "source": []
  },
  {
   "cell_type": "code",
   "execution_count": 210,
   "metadata": {},
   "outputs": [
    {
     "data": {
      "text/plain": [
       "-0.7884615384615381"
      ]
     },
     "execution_count": 210,
     "metadata": {},
     "output_type": "execute_result"
    }
   ],
   "source": [
    "r2_score(dogs['Result'], train_predictions)"
   ]
  },
  {
   "cell_type": "code",
   "execution_count": 211,
   "metadata": {},
   "outputs": [],
   "source": [
    "preds = pd.DataFrame({\"Prediction\": train_predictions})"
   ]
  },
  {
   "cell_type": "code",
   "execution_count": 212,
   "metadata": {},
   "outputs": [
    {
     "name": "stdout",
     "output_type": "stream",
     "text": [
      "Confusion Matrix\n",
      " [[331 137]\n",
      " [142  92]]\n"
     ]
    }
   ],
   "source": [
    "print('Confusion Matrix\\n',confusion_matrix(dogs['Result'], train_predictions))"
   ]
  },
  {
   "cell_type": "code",
   "execution_count": null,
   "metadata": {},
   "outputs": [],
   "source": []
  },
  {
   "cell_type": "code",
   "execution_count": null,
   "metadata": {},
   "outputs": [],
   "source": []
  },
  {
   "cell_type": "code",
   "execution_count": null,
   "metadata": {},
   "outputs": [],
   "source": []
  },
  {
   "cell_type": "code",
   "execution_count": 213,
   "metadata": {},
   "outputs": [],
   "source": [
    "preds_avg = []\n",
    "preds = []\n",
    "for i in range(10):\n",
    "    x_train, x_test, y_train, y_test = train_test_split(X, y, test_size=0.4)\n",
    "    ada = AdaBoostClassifier()\n",
    "    gbc = GradientBoostingClassifier()\n",
    "    lda = LinearDiscriminantAnalysis()\n",
    "    \n",
    "    eclf1 = VotingClassifier(estimators=[('ada', ada), \n",
    "                                         ('gbc', gbc),\n",
    "                                         ('lda', lda)])\n",
    "    \n",
    "    eclf1 = eclf1.fit(x_train, y_train)\n",
    "\n",
    "    pred = eclf1.predict(dogs[featureCols])\n",
    "\n",
    "    preds_avg.append(pred)\n",
    "\n",
    "preds = [sum(i) for i in zip(*preds_avg)]\n",
    "preds = pd.DataFrame({\"Prediction\": preds})"
   ]
  },
  {
   "cell_type": "code",
   "execution_count": null,
   "metadata": {},
   "outputs": [],
   "source": []
  },
  {
   "cell_type": "code",
   "execution_count": null,
   "metadata": {},
   "outputs": [],
   "source": []
  },
  {
   "cell_type": "code",
   "execution_count": null,
   "metadata": {},
   "outputs": [],
   "source": []
  },
  {
   "cell_type": "code",
   "execution_count": 214,
   "metadata": {},
   "outputs": [
    {
     "name": "stdout",
     "output_type": "stream",
     "text": [
      "For staggered win predictions:\n",
      "ML wins: 64 ML losses: 88 Spread wins: 74 Spread losses: 76 pushes: 0 profit: -984.8426749340515 total risk: 15200 ROI: -0.06479228124566128\n",
      "\n"
     ]
    },
    {
     "data": {
      "text/plain": [
       "[<matplotlib.lines.Line2D at 0x1a18c87eb8>]"
      ]
     },
     "execution_count": 214,
     "metadata": {},
     "output_type": "execute_result"
    },
    {
     "data": {
      "image/png": "[encoded data removed]",
      "text/plain": [
       "<Figure size 1080x576 with 1 Axes>"
      ]
     },
     "metadata": {
      "needs_background": "light"
     },
     "output_type": "display_data"
    }
   ],
   "source": [
    "### Betting Spread and ML ###\n",
    "\n",
    "odds = []\n",
    "MLwins = []\n",
    "MLlosses = []\n",
    "spreadwins = []\n",
    "spreadlosses = []\n",
    "push = []\n",
    "profit = []\n",
    "t1 = 4\n",
    "t2 = 66\n",
    "t3 = 87\n",
    "\n",
    "for i, n in enumerate(preds['Prediction']):\n",
    "    ## 87% confidence, 3U bet for spread/ML#######\n",
    "#     if n >= t3 and dogs['Result'][i] == 1:\n",
    "#         MLwins.append(1)\n",
    "#         spreadwins.append(1)\n",
    "#         profit.append(3 * dogs['Odds'][i]) # ML Win\n",
    "#         profit.append(300)                     # Spread Win\n",
    "#         odds.append(dogs['Odds'][i])\n",
    "        \n",
    "#     elif n >= t3 and dogs['Result'][i] == 0:\n",
    "#         MLlosses.append(1)\n",
    "#         profit.append(-300)\n",
    "#         odds.append(dogs['Odds'][i])\n",
    "        \n",
    "#         if dogs['Cover'][i] == 1:\n",
    "#             profit.append(300)\n",
    "#             spreadwins.append(1)\n",
    "#         elif dogs['Cover'][i] == -1:\n",
    "#             profit.append(-330)\n",
    "#             spreadlosses.append(1)\n",
    "#         else:\n",
    "#             profit.append(0)\n",
    "#             push.append(1)\n",
    "    \n",
    "#     ###### 66% confidence, 2U bet#######\n",
    "#     elif n >= t2 and dogs['Result'][i] == 1:\n",
    "#         MLwins.append(1)\n",
    "#         spreadwins.append(1)\n",
    "#         profit.append(2 * dogs['Odds'][i])\n",
    "#         profit.append(200)\n",
    "#         odds.append(dogs['Odds'][i])\n",
    "        \n",
    "#     elif n >= t2 and dogs['Result'][i] == 0:\n",
    "#         MLlosses.append(1)\n",
    "#         profit.append(-200)\n",
    "#         odds.append(dogs['Odds'][i])\n",
    "        \n",
    "#         if dogs['Cover'][i] == 1:\n",
    "#             profit.append(200)\n",
    "#             spreadwins.append(1)\n",
    "#         elif dogs['Cover'][i] == -1:\n",
    "#             profit.append(-220)\n",
    "#             spreadlosses.append(1)\n",
    "#         else:\n",
    "#             profit.append(0)\n",
    "    \n",
    "    ####### 50% confidence, 1U bet #######\n",
    "    if n > t1 and dogs['Result'][i] == 1:\n",
    "        MLwins.append(1)\n",
    "        profit.append((100*dogs['DecimalOdds'][i]) - 100)\n",
    "        odds.append(dogs['DecimalOdds'][i])\n",
    "        \n",
    "        if dogs['Cover'][i] == 1:\n",
    "            profit.append(100)\n",
    "            spreadwins.append(1)\n",
    "        elif dogs['Cover'][i] == -1:\n",
    "            profit.append(-105)\n",
    "            spreadlosses.append(1)\n",
    "        else:\n",
    "            profit.append(0)\n",
    "        \n",
    "    elif n > t1 and dogs['Result'][i] == 0:\n",
    "        MLlosses.append(1)\n",
    "        profit.append(-100)\n",
    "        odds.append(dogs['DecimalOdds'][i])\n",
    "        \n",
    "        if dogs['Cover'][i] == 1:\n",
    "            profit.append(100)\n",
    "            spreadwins.append(1)\n",
    "        elif dogs['Cover'][i] == -1:\n",
    "            profit.append(-105)\n",
    "            spreadlosses.append(1)\n",
    "        else:\n",
    "            profit.append(0)\n",
    "            \n",
    "    else:\n",
    "        profit.append(0)\n",
    "        \n",
    "avg_odds = statistics.mean(odds)\n",
    "profits = sum(profit)\n",
    "total_bet = 100 * (len(MLwins) + len(MLlosses))\n",
    "ROI = profits/total_bet\n",
    "# winpct = len(wins)/(len(wins)+len(losses))\n",
    "\n",
    "print('For staggered win predictions:')\n",
    "print('ML wins:', len(MLwins), 'ML losses:', len(MLlosses),'Spread wins:', len(spreadwins), 'Spread losses:', len(spreadlosses), \n",
    "      'pushes:', len(push), 'profit:', profits, 'total risk:', total_bet, 'ROI:', ROI)\n",
    "print('')\n",
    "plt.figure().set_size_inches(15, 8)\n",
    "plt.plot(pd.DataFrame(profit).cumsum())\n"
   ]
  },
  {
   "cell_type": "code",
   "execution_count": null,
   "metadata": {},
   "outputs": [],
   "source": []
  },
  {
   "cell_type": "code",
   "execution_count": 215,
   "metadata": {},
   "outputs": [
    {
     "name": "stdout",
     "output_type": "stream",
     "text": [
      "For ML win predictions:\n",
      "ML wins: 64 ML losses: 88 profit: -404.8426749340515 total risk: 15200 ROI: -0.026634386508819177 avg odds: 2.3117433320415546\n",
      "\n"
     ]
    },
    {
     "data": {
      "text/plain": [
       "[<matplotlib.lines.Line2D at 0x1a1b2675c0>]"
      ]
     },
     "execution_count": 215,
     "metadata": {},
     "output_type": "execute_result"
    },
    {
     "data": {
      "image/png": "[encoded data removed]",
      "text/plain": [
       "<Figure size 1080x576 with 1 Axes>"
      ]
     },
     "metadata": {
      "needs_background": "light"
     },
     "output_type": "display_data"
    }
   ],
   "source": [
    "### Betting Only ML ###\n",
    "\n",
    "odds = []\n",
    "MLwins = []\n",
    "MLlosses = []\n",
    "profit = []\n",
    "\n",
    "for i, n in enumerate(preds['Prediction']):\n",
    "    ####### 50% confidence, 1U bet #######\n",
    "    if n > t1 and dogs['Result'][i] == 1:\n",
    "        MLwins.append(1)\n",
    "        profit.append((100 * dogs['DecimalOdds'][i]) - 100)\n",
    "        odds.append(dogs['DecimalOdds'][i])\n",
    "        \n",
    "    elif n > t1 and dogs['Result'][i] == 0:\n",
    "        MLlosses.append(1)\n",
    "        \n",
    "        profit.append(-100)\n",
    "            \n",
    "    else:\n",
    "        profit.append(0)\n",
    "        \n",
    "avg_odds = statistics.mean(odds)\n",
    "profits = sum(profit)\n",
    "total_bet = 100 * (len(MLwins) + len(MLlosses))\n",
    "ROI = profits/total_bet\n",
    "#winpct = len(wins)/(len(wins)+len(losses))\n",
    "\n",
    "print('For ML win predictions:')\n",
    "print('ML wins:', len(MLwins), 'ML losses:', len(MLlosses),\n",
    "      'profit:', profits, 'total risk:', total_bet, 'ROI:', ROI, 'avg odds:', avg_odds)\n",
    "print('')\n",
    "plt.figure().set_size_inches(15, 8)\n",
    "plt.plot(pd.DataFrame(profit).cumsum())"
   ]
  },
  {
   "cell_type": "code",
   "execution_count": null,
   "metadata": {},
   "outputs": [],
   "source": []
  },
  {
   "cell_type": "code",
   "execution_count": 38,
   "metadata": {},
   "outputs": [
    {
     "name": "stdout",
     "output_type": "stream",
     "text": [
      "For spread win predictions:\n",
      "Spread wins: 123 Spread losses: 124 pushes: 3 win pct: 0.4979757085020243 profit: -1340 total risk: 25000 ROI: -0.06063348416289593\n",
      "\n"
     ]
    },
    {
     "data": {
      "text/plain": [
       "[<matplotlib.lines.Line2D at 0x1a199d5f60>]"
      ]
     },
     "execution_count": 38,
     "metadata": {},
     "output_type": "execute_result"
    },
    {
     "data": {
      "image/png": "[encoded data removed]",
      "text/plain": [
       "<Figure size 1080x576 with 1 Axes>"
      ]
     },
     "metadata": {
      "needs_background": "light"
     },
     "output_type": "display_data"
    }
   ],
   "source": [
    "### Betting Only Spread ###\n",
    "\n",
    "spreadwins = []\n",
    "spreadlosses = []\n",
    "push = []\n",
    "profit = []\n",
    "\n",
    "for i, n in enumerate(preds['Prediction']):\n",
    "\n",
    "    ####### 50% confidence, 1U bet #######\n",
    "    if n >= t1 and dogs['Cover'][i] == 1:\n",
    "        spreadwins.append(1)\n",
    "        profit.append(100)                     # Spread Win\n",
    "\n",
    "    elif n >= t1 and dogs['Cover'][i] == -1:\n",
    "        profit.append(-110)\n",
    "        spreadlosses.append(1)\n",
    "        \n",
    "    elif n >= t1 and dogs['Cover'][i] == 0:\n",
    "            profit.append(0)\n",
    "            push.append(1)\n",
    "            \n",
    "    else:\n",
    "        profit.append(0)\n",
    "        \n",
    "profits = sum(profit)\n",
    "spreadtotal_bet = 100 * (len(spreadwins) + len(spreadlosses)+len(push))\n",
    "ROI = profits/total_bet\n",
    "spreadwinpct = len(spreadwins)/(len(spreadwins)+len(spreadlosses))\n",
    "\n",
    "print('For spread win predictions:')\n",
    "print('Spread wins:', len(spreadwins), 'Spread losses:', len(spreadlosses), \n",
    "      'pushes:', len(push),\"win pct:\", spreadwinpct, 'profit:', profits, 'total risk:', spreadtotal_bet, 'ROI:', ROI)\n",
    "print('')\n",
    "plt.figure().set_size_inches(15, 8)\n",
    "plt.plot(pd.DataFrame(profit).cumsum())"
   ]
  },
  {
   "cell_type": "code",
   "execution_count": null,
   "metadata": {},
   "outputs": [],
   "source": []
  },
  {
   "cell_type": "markdown",
   "metadata": {},
   "source": [
    "### Below charts 2018 results off 2016-2017 data (for comparison)"
   ]
  },
  {
   "cell_type": "code",
   "execution_count": 233,
   "metadata": {},
   "outputs": [
    {
     "name": "stderr",
     "output_type": "stream",
     "text": [
      "/Users/ahelgeso/anaconda3/lib/python3.6/site-packages/ipykernel_launcher.py:7: FutureWarning: Sorting because non-concatenation axis is not aligned. A future version\n",
      "of pandas will change to not sort by default.\n",
      "\n",
      "To accept the future behavior, pass 'sort=False'.\n",
      "\n",
      "To retain the current behavior and silence the warning, pass 'sort=True'.\n",
      "\n",
      "  import sys\n"
     ]
    }
   ],
   "source": [
    "db19 = pd.read_csv('2019stats.csv')\n",
    "db15 = pd.read_csv('2015stats.csv')\n",
    "db16 = pd.read_csv('2016stats.csv')\n",
    "db17 = pd.read_csv('2017stats.csv')\n",
    "db18 = pd.read_csv('2018stats.csv')\n",
    "\n",
    "db = pd.concat([db15, db16, db17])\n",
    "\n",
    "db18['Date'] = db18['Date'].apply(str)\n",
    "db18['Date'] = pd.to_datetime(db18.Date, format = \"%Y%m%d\")\n",
    "db18 = db18.sort_values(by = ['Date']).reset_index(drop = True)"
   ]
  },
  {
   "cell_type": "code",
   "execution_count": 237,
   "metadata": {},
   "outputs": [],
   "source": [
    "Cols = ['Result','Rolling3EFG','Rolling3TOV','Rolling3ORB','Rolling3FTR','Rolling3Pace','Opp R3Pace',\n",
    "        'Opp R3EFG','Opp R3TOV','Opp R3ORB','Opp R3FTR', 'Rolling3DEff', 'Opp R3 Deff', 'Rolling3OEff','Opp R3 Oeff',\n",
    "       'Rolling9EFG','Rolling9TOV','Rolling9ORB','Rolling9FTR','Rolling9Pace','Opp R9Pace',\n",
    "        'Opp R9EFG','Opp R9TOV','Opp R9ORB','Opp R9FTR', 'Rolling9DEff', 'Opp R9 Deff', 'Rolling9OEff','Opp R9 Oeff']\n",
    "\n",
    "feature3Cols = ['Rolling3EFG','Rolling3TOV','Rolling3ORB','Rolling3FTR','Rolling3Pace','Opp R3Pace',\n",
    "                'Opp R3EFG','Opp R3TOV','Opp R3ORB','Opp R3FTR', 'Rolling3DEff', 'Opp R3 Deff', 'Rolling3OEff','Opp R3 Oeff']\n",
    "feature9Cols = ['Rolling9EFG','Rolling9TOV','Rolling9ORB','Rolling9FTR','Rolling9Pace','Opp R9Pace',\n",
    "                'Opp R9EFG','Opp R9TOV','Opp R9ORB','Opp R9FTR', 'Rolling9DEff', 'Opp R9 Deff', 'Rolling9OEff','Opp R9 Oeff']\n",
    "\n",
    "\n",
    "db = db[Cols]"
   ]
  },
  {
   "cell_type": "code",
   "execution_count": null,
   "metadata": {},
   "outputs": [],
   "source": []
  },
  {
   "cell_type": "code",
   "execution_count": 196,
   "metadata": {},
   "outputs": [],
   "source": [
    "feature3Cols = ['Rolling3EFG','Rolling3TOV','Rolling3ORB','Rolling3FTR','Rolling3Pace','Opp R3Pace','Opp R3EFG','Opp R3TOV','Opp R3ORB','Opp R3FTR', 'Rolling3DEff', 'Opp R3 Deff', 'Rolling3OEff','Opp R3 Oeff']\n",
    "target = ['Result']\n",
    "\n",
    "X3 = db.dropna()[feature3Cols]\n",
    "y = np.array(db.dropna()[target]).flatten()\n",
    "\n",
    "x3_train, x3_test, y3_train, y3_test = train_test_split(X3, y, test_size=0.3)\n",
    "\n",
    "dogs2019 = db18[(db18['Line'] > 0)].dropna().reset_index()\n",
    "Ydogs2019 = db18[(db18['Line'] > 0)].dropna()['Result']"
   ]
  },
  {
   "cell_type": "code",
   "execution_count": 197,
   "metadata": {},
   "outputs": [
    {
     "name": "stdout",
     "output_type": "stream",
     "text": [
      "Dog picks: 0.6555246053853296\n",
      "All picks (R3) matrix:\n",
      " [[288 195]\n",
      " [180 285]]\n"
     ]
    }
   ],
   "source": [
    "x3_train, x3_test, y3_train, y3_test = train_test_split(X3, y, test_size=0.2)\n",
    "ada3 = AdaBoostClassifier(n_estimators=100, learning_rate=0.1).fit(x3_train, y3_train)\n",
    "pred = ada3.predict(x3_test)\n",
    "print('Dog picks:',ada3.score(dogs2019[feature3Cols], Ydogs2019))\n",
    "print('All picks (R3) matrix:\\n',confusion_matrix(y3_test, pred))\n"
   ]
  },
  {
   "cell_type": "code",
   "execution_count": 198,
   "metadata": {},
   "outputs": [
    {
     "name": "stdout",
     "output_type": "stream",
     "text": [
      "Model #: 0\n",
      "Model #: 10\n",
      "Model #: 20\n",
      "Model #: 30\n",
      "Model #: 40\n",
      "Model #: 50\n",
      "Model #: 60\n",
      "Model #: 70\n",
      "Model #: 80\n",
      "Model #: 90\n"
     ]
    }
   ],
   "source": [
    "preds_avg = []\n",
    "probs_avg = []\n",
    "\n",
    "for i in range(100):\n",
    "    x3_train, x3_test, y3_train, y3_test = train_test_split(X3, y, test_size=0.2)\n",
    "    ada3 = AdaBoostClassifier(n_estimators=50, learning_rate=0.1).fit(x3_train, y3_train)\n",
    "\n",
    "    x3_train, x3_test, y3_train, y3_test = train_test_split(X3, y, test_size=0.2)\n",
    "    gbc3 = GradientBoostingClassifier(n_estimators=50, learning_rate=0.1, max_depth = 1).fit(x3_train, y3_train)\n",
    "\n",
    "    x3_train, x3_test, y3_train, y3_test = train_test_split(X3, y, test_size=0.2)\n",
    "    eclf1 = VotingClassifier(estimators=[('ada', ada3), ('gbc', gbc3)], voting='soft')\n",
    "    eclf1 = eclf1.fit(x3_train, y3_train)\n",
    "    pred = eclf1.predict(dogs2019[feature3Cols])\n",
    "    \n",
    "    preds_avg.append(pred)\n",
    "    if i%10 == 0:\n",
    "        print(\"Model #:\", i)\n",
    "        \n",
    "preds = [sum(i) for i in zip(*preds_avg)]\n",
    "\n"
   ]
  },
  {
   "cell_type": "code",
   "execution_count": 199,
   "metadata": {},
   "outputs": [
    {
     "name": "stdout",
     "output_type": "stream",
     "text": [
      "For staggered win predictions:\n",
      "ML wins: 123 ML losses: 189 Spread wins: 154 Spread losses: 149 pushes: 4 profit: -6874 total risk: 31200 ROI: -0.22032051282051282\n",
      "\n"
     ]
    },
    {
     "data": {
      "text/plain": [
       "<matplotlib.axes._subplots.AxesSubplot at 0x1a23d6e9e8>"
      ]
     },
     "execution_count": 199,
     "metadata": {},
     "output_type": "execute_result"
    },
    {
     "data": {
      "image/png": "[encoded data removed]",
      "text/plain": [
       "<Figure size 432x288 with 1 Axes>"
      ]
     },
     "metadata": {
      "needs_background": "light"
     },
     "output_type": "display_data"
    }
   ],
   "source": [
    "### Betting Spread and ML ###\n",
    "\n",
    "odds = []\n",
    "MLwins = []\n",
    "MLlosses = []\n",
    "spreadwins = []\n",
    "spreadlosses = []\n",
    "push = []\n",
    "profit = []\n",
    "t3 = 90\n",
    "t2 = 70\n",
    "t1 = 50\n",
    "\n",
    "for i, n in enumerate(preds):\n",
    "    ## 87% confidence, 3U bet for spread/ML#######\n",
    "    if n >= t3 and dogs2019['Result'][i] == 1:\n",
    "        MLwins.append(1)\n",
    "        spreadwins.append(1)\n",
    "        profit.append(3 * dogs2019['Odds'][i]) # ML Win\n",
    "        profit.append(300)                     # Spread Win\n",
    "        odds.append(dogs2019['Odds'][i])\n",
    "        \n",
    "    elif n >= t3 and dogs2019['Result'][i] == 0:\n",
    "        MLlosses.append(1)\n",
    "        profit.append(-300)\n",
    "        odds.append(dogs2019['Odds'][i])\n",
    "        \n",
    "        if dogs2019['Cover'][i] == 1:\n",
    "            profit.append(300)\n",
    "            spreadwins.append(1)\n",
    "        elif dogs2019['Cover'][i] == -1:\n",
    "            profit.append(-330)\n",
    "            spreadlosses.append(1)\n",
    "        else:\n",
    "            profit.append(0)\n",
    "            push.append(1)\n",
    "    \n",
    "    ###### 66% confidence, 2U bet#######\n",
    "    elif n >= t2 and dogs2019['Result'][i] == 1:\n",
    "        MLwins.append(1)\n",
    "        spreadwins.append(1)\n",
    "        profit.append(2 * dogs2019['Odds'][i])\n",
    "        profit.append(200)\n",
    "        odds.append(dogs2019['Odds'][i])\n",
    "        \n",
    "    elif n >= t2 and dogs2019['Result'][i] == 0:\n",
    "        MLlosses.append(1)\n",
    "        profit.append(-200)\n",
    "        odds.append(dogs2019['Odds'][i])\n",
    "        \n",
    "        if dogs2019['Cover'][i] == 1:\n",
    "            profit.append(200)\n",
    "            spreadwins.append(1)\n",
    "        elif dogs2019['Cover'][i] == -1:\n",
    "            profit.append(-220)\n",
    "            spreadlosses.append(1)\n",
    "        else:\n",
    "            profit.append(0)\n",
    "    \n",
    "    ####### 50% confidence, 1U bet #######\n",
    "    elif n >= t1 and dogs2019['Result'][i] == 1:\n",
    "        MLwins.append(1)\n",
    "        spreadwins.append(1)\n",
    "        profit.append(dogs2019['Odds'][i])\n",
    "        odds.append(dogs2019['Odds'][i])\n",
    "        \n",
    "    elif n >= t1 and dogs2019['Result'][i] == 0:\n",
    "        MLlosses.append(1)\n",
    "        profit.append(-100)\n",
    "        odds.append(dogs2019['Odds'][i])\n",
    "        \n",
    "        if dogs2019['Cover'][i] == 1:\n",
    "            profit.append(100)\n",
    "            spreadwins.append(1)\n",
    "        elif dogs2019['Cover'][i] == -1:\n",
    "            profit.append(-110)\n",
    "            spreadlosses.append(1)\n",
    "        else:\n",
    "            profit.append(0)\n",
    "            \n",
    "    else:\n",
    "        profit.append(0)\n",
    "        \n",
    "#     if n >= t1 and dogs2019['Result'][i] == 1:\n",
    "#         MLwins.append(1)\n",
    "#         spreadwins.append(1)\n",
    "#         profit.append(dogs2019['Odds'][i])\n",
    "#         odds.append(dogs2019['Odds'][i])\n",
    "        \n",
    "#     elif n >= t1 and dogs2019['Result'][i] == 0:\n",
    "#         MLlosses.append(1)\n",
    "#         profit.append(-100)\n",
    "#         odds.append(dogs2019['Odds'][i])\n",
    "        \n",
    "#         if dogs2019['Cover'][i] == 1:\n",
    "#             profit.append(100)\n",
    "#             spreadwins.append(1)\n",
    "#         elif dogs2019['Cover'][i] == -1:\n",
    "#             profit.append(-110)\n",
    "#             spreadlosses.append(1)\n",
    "#         else:\n",
    "#             profit.append(0)\n",
    "            \n",
    "#     else:\n",
    "#         profit.append(0)\n",
    "        \n",
    "avg_odds = statistics.mean(odds)\n",
    "profits = sum(profit)\n",
    "total_bet = 100 * (len(MLwins) + len(MLlosses))\n",
    "ROI = profits/total_bet\n",
    "#winpct = len(wins)/(len(wins)+len(losses))\n",
    "\n",
    "print('For staggered win predictions:')\n",
    "print('ML wins:', len(MLwins), 'ML losses:', len(MLlosses),'Spread wins:', len(spreadwins), 'Spread losses:', len(spreadlosses), \n",
    "      'pushes:', len(push), 'profit:', profits, 'total risk:', total_bet, 'ROI:', ROI)\n",
    "print('')\n",
    "pd.DataFrame(profit).cumsum().plot()"
   ]
  },
  {
   "cell_type": "code",
   "execution_count": null,
   "metadata": {},
   "outputs": [],
   "source": []
  },
  {
   "cell_type": "code",
   "execution_count": 129,
   "metadata": {},
   "outputs": [
    {
     "ename": "StatisticsError",
     "evalue": "mean requires at least one data point",
     "output_type": "error",
     "traceback": [
      "\u001b[0;31m---------------------------------------------------------------------------\u001b[0m",
      "\u001b[0;31mStatisticsError\u001b[0m                           Traceback (most recent call last)",
      "\u001b[0;32m<ipython-input-129-e3962f5f8421>\u001b[0m in \u001b[0;36m<module>\u001b[0;34m\u001b[0m\n\u001b[1;32m     43\u001b[0m         \u001b[0mprofit\u001b[0m\u001b[0;34m.\u001b[0m\u001b[0mappend\u001b[0m\u001b[0;34m(\u001b[0m\u001b[0;36m0\u001b[0m\u001b[0;34m)\u001b[0m\u001b[0;34m\u001b[0m\u001b[0;34m\u001b[0m\u001b[0m\n\u001b[1;32m     44\u001b[0m \u001b[0;34m\u001b[0m\u001b[0m\n\u001b[0;32m---> 45\u001b[0;31m \u001b[0mavg_odds\u001b[0m \u001b[0;34m=\u001b[0m \u001b[0mstatistics\u001b[0m\u001b[0;34m.\u001b[0m\u001b[0mmean\u001b[0m\u001b[0;34m(\u001b[0m\u001b[0modds\u001b[0m\u001b[0;34m)\u001b[0m\u001b[0;34m\u001b[0m\u001b[0;34m\u001b[0m\u001b[0m\n\u001b[0m\u001b[1;32m     46\u001b[0m \u001b[0mprofits\u001b[0m \u001b[0;34m=\u001b[0m \u001b[0msum\u001b[0m\u001b[0;34m(\u001b[0m\u001b[0mprofit\u001b[0m\u001b[0;34m)\u001b[0m\u001b[0;34m\u001b[0m\u001b[0;34m\u001b[0m\u001b[0m\n\u001b[1;32m     47\u001b[0m \u001b[0mtotal_bet\u001b[0m \u001b[0;34m=\u001b[0m \u001b[0;36m100\u001b[0m \u001b[0;34m*\u001b[0m \u001b[0;34m(\u001b[0m\u001b[0mlen\u001b[0m\u001b[0;34m(\u001b[0m\u001b[0mMLwins\u001b[0m\u001b[0;34m)\u001b[0m \u001b[0;34m+\u001b[0m \u001b[0mlen\u001b[0m\u001b[0;34m(\u001b[0m\u001b[0mMLlosses\u001b[0m\u001b[0;34m)\u001b[0m\u001b[0;34m)\u001b[0m\u001b[0;34m\u001b[0m\u001b[0;34m\u001b[0m\u001b[0m\n",
      "\u001b[0;32m~/anaconda3/lib/python3.6/statistics.py\u001b[0m in \u001b[0;36mmean\u001b[0;34m(data)\u001b[0m\n\u001b[1;32m    309\u001b[0m     \u001b[0mn\u001b[0m \u001b[0;34m=\u001b[0m \u001b[0mlen\u001b[0m\u001b[0;34m(\u001b[0m\u001b[0mdata\u001b[0m\u001b[0;34m)\u001b[0m\u001b[0;34m\u001b[0m\u001b[0;34m\u001b[0m\u001b[0m\n\u001b[1;32m    310\u001b[0m     \u001b[0;32mif\u001b[0m \u001b[0mn\u001b[0m \u001b[0;34m<\u001b[0m \u001b[0;36m1\u001b[0m\u001b[0;34m:\u001b[0m\u001b[0;34m\u001b[0m\u001b[0;34m\u001b[0m\u001b[0m\n\u001b[0;32m--> 311\u001b[0;31m         \u001b[0;32mraise\u001b[0m \u001b[0mStatisticsError\u001b[0m\u001b[0;34m(\u001b[0m\u001b[0;34m'mean requires at least one data point'\u001b[0m\u001b[0;34m)\u001b[0m\u001b[0;34m\u001b[0m\u001b[0;34m\u001b[0m\u001b[0m\n\u001b[0m\u001b[1;32m    312\u001b[0m     \u001b[0mT\u001b[0m\u001b[0;34m,\u001b[0m \u001b[0mtotal\u001b[0m\u001b[0;34m,\u001b[0m \u001b[0mcount\u001b[0m \u001b[0;34m=\u001b[0m \u001b[0m_sum\u001b[0m\u001b[0;34m(\u001b[0m\u001b[0mdata\u001b[0m\u001b[0;34m)\u001b[0m\u001b[0;34m\u001b[0m\u001b[0;34m\u001b[0m\u001b[0m\n\u001b[1;32m    313\u001b[0m     \u001b[0;32massert\u001b[0m \u001b[0mcount\u001b[0m \u001b[0;34m==\u001b[0m \u001b[0mn\u001b[0m\u001b[0;34m\u001b[0m\u001b[0;34m\u001b[0m\u001b[0m\n",
      "\u001b[0;31mStatisticsError\u001b[0m: mean requires at least one data point"
     ]
    }
   ],
   "source": [
    "### Betting Only ML ###\n",
    "\n",
    "odds = []\n",
    "MLwins = []\n",
    "MLlosses = []\n",
    "profit = []\n",
    "\n",
    "for i, n in enumerate(preds):\n",
    "    ## 87% confidence, 3U bet for spread/ML#######\n",
    "    if n >= 416 and dogs2019['Result'][i] == 1:\n",
    "        MLwins.append(1)\n",
    "        profit.append(3 * dogs2019['Odds'][i]) # ML Win\n",
    "        odds.append(dogs2019['Odds'][i])\n",
    "        \n",
    "    elif n >= 416 and dogs2019['Result'][i] == 0:\n",
    "        MLlosses.append(1)\n",
    "        profit.append(-300)\n",
    "        odds.append(dogs2019['Odds'][i])\n",
    "    \n",
    "    ###### 66% confidence, 2U bet#######\n",
    "    elif n >= 333 and dogs2019['Result'][i] == 1:\n",
    "        MLwins.append(1)\n",
    "        profit.append(2 * dogs2019['Odds'][i])\n",
    "        odds.append(dogs2019['Odds'][i])\n",
    "        \n",
    "    elif n >= 333 and dogs2019['Result'][i] == 0:\n",
    "        MLlosses.append(1)\n",
    "        profit.append(-200)\n",
    "        odds.append(dogs2019['Odds'][i])\n",
    "    \n",
    "    ####### 50% confidence, 1U bet #######\n",
    "    elif n >= 250 and dogs2019['Result'][i] == 1:\n",
    "        MLwins.append(1)\n",
    "        profit.append(dogs2019['Odds'][i])\n",
    "        odds.append(dogs2019['Odds'][i])\n",
    "        \n",
    "    elif n >= 250 and dogs2019['Result'][i] == 0:\n",
    "        MLlosses.append(1)\n",
    "        profit.append(-100)\n",
    "        odds.append(dogs2019['Odds'][i])\n",
    "            \n",
    "    else:\n",
    "        profit.append(0)\n",
    "        \n",
    "avg_odds = statistics.mean(odds)\n",
    "profits = sum(profit)\n",
    "total_bet = 100 * (len(MLwins) + len(MLlosses))\n",
    "ROI = profits/total_bet\n",
    "#winpct = len(wins)/(len(wins)+len(losses))\n",
    "\n",
    "print('For ML win predictions:')\n",
    "print('ML wins:', len(MLwins), 'ML losses:', len(MLlosses),\n",
    "      'profit:', profits, 'total risk:', total_bet, 'ROI:', ROI, 'avg odds:', avg_odds)\n",
    "print('')\n",
    "pd.DataFrame(profit).cumsum().plot()"
   ]
  },
  {
   "cell_type": "code",
   "execution_count": 62,
   "metadata": {},
   "outputs": [
    {
     "name": "stdout",
     "output_type": "stream",
     "text": [
      "For spread win predictions:\n",
      "Spread wins: 146 Spread losses: 156 pushes: 6 win pct: 0.48344370860927155 profit: -7680 total risk: 30800 ROI: -0.22857142857142856\n",
      "\n"
     ]
    },
    {
     "data": {
      "text/plain": [
       "<matplotlib.axes._subplots.AxesSubplot at 0x1a2161e710>"
      ]
     },
     "execution_count": 62,
     "metadata": {},
     "output_type": "execute_result"
    },
    {
     "data": {
      "image/png": "[encoded data removed]",
      "text/plain": [
       "<Figure size 432x288 with 1 Axes>"
      ]
     },
     "metadata": {
      "needs_background": "light"
     },
     "output_type": "display_data"
    }
   ],
   "source": [
    "### Betting Only Spread ###\n",
    "\n",
    "spreadwins = []\n",
    "spreadlosses = []\n",
    "push = []\n",
    "profit = []\n",
    "\n",
    "for i, n in enumerate(preds):\n",
    "    ## 87% confidence, 3U bet for spread/ML#######\n",
    "    if n >= 416 and dogs2019['Cover'][i] == 1:\n",
    "        spreadwins.append(1)\n",
    "        profit.append(300)                     # Spread Win\n",
    "\n",
    "    elif n >= 416 and dogs2019['Cover'][i] == -1:\n",
    "        profit.append(-330)\n",
    "        spreadlosses.append(1)\n",
    "        \n",
    "    elif n >= 416 and dogs2019['Cover'][i] == 0:\n",
    "            profit.append(0)\n",
    "            push.append(1)\n",
    "            \n",
    "    ###### 66% confidence, 2U bet#######\n",
    "    elif n >= 333 and dogs2019['Cover'][i] == 1:\n",
    "        spreadwins.append(1)\n",
    "        profit.append(300)                     # Spread Win\n",
    "\n",
    "    elif n >= 333 and dogs2019['Cover'][i] == -1:\n",
    "        profit.append(-330)\n",
    "        spreadlosses.append(1)\n",
    "        \n",
    "    elif n >= 333 and dogs2019['Cover'][i] == 0:\n",
    "            profit.append(0)\n",
    "            push.append(1)\n",
    "    \n",
    "    ####### 50% confidence, 1U bet #######\n",
    "    elif n >= 333 and dogs2019['Cover'][i] == 1:\n",
    "        spreadwins.append(1)\n",
    "        profit.append(300)                     # Spread Win\n",
    "\n",
    "    elif n >= 333 and dogs2019['Cover'][i] == -1:\n",
    "        profit.append(-330)\n",
    "        spreadlosses.append(1)\n",
    "        \n",
    "    elif n >= 333 and dogs2019['Cover'][i] == 0:\n",
    "            profit.append(0)\n",
    "            push.append(1)\n",
    "            \n",
    "    else:\n",
    "        profit.append(0)\n",
    "        \n",
    "profits = sum(profit)\n",
    "spreadtotal_bet = 100 * (len(spreadwins) + len(spreadlosses)+len(push))\n",
    "ROI = profits/total_bet\n",
    "spreadwinpct = len(spreadwins)/(len(spreadwins)+len(spreadlosses))\n",
    "\n",
    "print('For spread win predictions:')\n",
    "print('Spread wins:', len(spreadwins), 'Spread losses:', len(spreadlosses), \n",
    "      'pushes:', len(push),\"win pct:\", spreadwinpct, 'profit:', profits, 'total risk:', spreadtotal_bet, 'ROI:', ROI)\n",
    "print('')\n",
    "pd.DataFrame(profit).cumsum().plot()"
   ]
  },
  {
   "cell_type": "code",
   "execution_count": 422,
   "metadata": {},
   "outputs": [],
   "source": []
  },
  {
   "cell_type": "code",
   "execution_count": null,
   "metadata": {},
   "outputs": [],
   "source": []
  },
  {
   "cell_type": "code",
   "execution_count": null,
   "metadata": {},
   "outputs": [],
   "source": []
  },
  {
   "cell_type": "code",
   "execution_count": null,
   "metadata": {},
   "outputs": [],
   "source": []
  },
  {
   "cell_type": "code",
   "execution_count": null,
   "metadata": {},
   "outputs": [],
   "source": []
  },
  {
   "cell_type": "code",
   "execution_count": null,
   "metadata": {},
   "outputs": [],
   "source": []
  },
  {
   "cell_type": "code",
   "execution_count": null,
   "metadata": {},
   "outputs": [],
   "source": []
  }
 ],
 "metadata": {
  "kernelspec": {
   "display_name": "Python 3",
   "language": "python",
   "name": "python3"
  },
  "language_info": {
   "codemirror_mode": {
    "name": "ipython",
    "version": 3
   },
   "file_extension": ".py",
   "mimetype": "text/x-python",
   "name": "python",
   "nbconvert_exporter": "python",
   "pygments_lexer": "ipython3",
   "version": "3.6.8"
  }
 },
 "nbformat": 4,
 "nbformat_minor": 2
}
