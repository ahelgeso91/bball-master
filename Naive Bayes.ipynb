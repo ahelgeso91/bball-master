{
 "cells": [
  {
   "cell_type": "code",
   "execution_count": 34,
   "metadata": {},
   "outputs": [],
   "source": [
    "import numpy as np\n",
    "import pandas as pd\n",
    "import matplotlib.pyplot as plt\n",
    "import seaborn as sns\n",
    "%matplotlib inline\n",
    "from sklearn import svm\n",
    "from sklearn.linear_model import LogisticRegression\n",
    "from sklearn.svm import LinearSVC\n",
    "from sklearn.neighbors import KNeighborsClassifier\n",
    "from sklearn.model_selection import train_test_split\n",
    "from sklearn import metrics\n",
    "from sklearn.model_selection import cross_val_score\n",
    "from sklearn import preprocessing\n",
    "from sklearn.feature_selection import RFE\n",
    "from sklearn.ensemble import RandomForestClassifier\n",
    "from sklearn.ensemble import GradientBoostingClassifier\n",
    "from sklearn.naive_bayes import GaussianNB\n",
    "from sklearn.feature_selection import SelectKBest\n",
    "from sklearn.feature_selection import chi2\n",
    "import os\n",
    "import pickle\n",
    "from sklearn.metrics import confusion_matrix\n",
    "import requests, bs4\n",
    "from sklearn.metrics import roc_curve, auc"
   ]
  },
  {
   "cell_type": "code",
   "execution_count": 35,
   "metadata": {},
   "outputs": [],
   "source": [
    "db = pd.read_csv('2017_2018stats.csv')"
   ]
  },
  {
   "cell_type": "code",
   "execution_count": 36,
   "metadata": {},
   "outputs": [],
   "source": [
    "db19 = pd.read_csv('2019stats.csv')"
   ]
  },
  {
   "cell_type": "code",
   "execution_count": null,
   "metadata": {},
   "outputs": [],
   "source": []
  },
  {
   "cell_type": "markdown",
   "metadata": {},
   "source": [
    "### Training Naive Bayes classifier on 2016-2018 data ###\n",
    "Model Variations: 3 game rolling averages, 9 game rolling averages"
   ]
  },
  {
   "cell_type": "code",
   "execution_count": 37,
   "metadata": {},
   "outputs": [],
   "source": [
    "feature3Cols = ['Location','Rolling3EFG','Rolling3TOV','Rolling3ORB','Rolling3FTR','Rolling3Pace','Opp R3Pace','Opp R3EFG','Opp R3TOV','Opp R3ORB','Opp R3FTR', 'Rolling3DEff', 'Opp R3 Deff']\n",
    "feature9Cols = ['Location','Rolling9EFG','Rolling9TOV','Rolling9ORB','Rolling9FTR','Rolling9Pace','Opp R9Pace','Opp R9EFG','Opp R9TOV','Opp R9ORB','Opp R9FTR', 'Rolling9DEff', 'Opp R9 Deff']\n",
    "\n",
    "target = ['Result']\n",
    "X3 = db.dropna()[feature3Cols]\n",
    "X9 = db.dropna()[feature9Cols]\n",
    "y = np.array(db.dropna()[target]).flatten()\n",
    "\n",
    "x9_train, x9_test, y9_train, y9_test = train_test_split(X9, y, test_size=0.3, random_state=1)\n",
    "x3_train, x3_test, y3_train, y3_test = train_test_split(X3, y, test_size=0.3, random_state=1)"
   ]
  },
  {
   "cell_type": "code",
   "execution_count": 29,
   "metadata": {},
   "outputs": [
    {
     "name": "stdout",
     "output_type": "stream",
     "text": [
      "All picks (R9): 0.6514459665144596\n",
      "All picks (R9) matrix:\n",
      " [[423 227]\n",
      " [231 433]]\n",
      " \n",
      "All picks (R3): 0.6423135464231354\n",
      "All picks (R3) matrix:\n",
      " [[420 230]\n",
      " [240 424]]\n",
      " \n"
     ]
    }
   ],
   "source": [
    "GNB9 = GaussianNB().fit(x9_train, y9_train)\n",
    "pred = GNB9.predict(x9_test)\n",
    "print('All picks (R9):',GNB9.score(x9_test, y9_test))\n",
    "print('All picks (R9) matrix:\\n',confusion_matrix(y9_test, pred))\n",
    "print(' ')\n",
    "\n",
    "GNB3 = GaussianNB().fit(x3_train, y3_train)\n",
    "pred = GNB3.predict(x3_test)\n",
    "print('All picks (R3):',GNB3.score(x3_test, y3_test))\n",
    "print('All picks (R3) matrix:\\n',confusion_matrix(y3_test, pred))\n",
    "print(' ')\n"
   ]
  },
  {
   "cell_type": "code",
   "execution_count": 30,
   "metadata": {},
   "outputs": [],
   "source": [
    "dogs2019 = db19[db19['Line'] > 0].dropna().reset_index(drop = True)\n",
    "Ydogs2019 = db19[db19['Line'] > 0].dropna()['Result'].reset_index(drop=True)"
   ]
  },
  {
   "cell_type": "code",
   "execution_count": 10,
   "metadata": {},
   "outputs": [
    {
     "data": {
      "text/plain": [
       "0    0\n",
       "1    0\n",
       "2    0\n",
       "3    1\n",
       "4    0\n",
       "Name: Result, dtype: int64"
      ]
     },
     "execution_count": 10,
     "metadata": {},
     "output_type": "execute_result"
    }
   ],
   "source": [
    "Ydogs2019.head()"
   ]
  },
  {
   "cell_type": "code",
   "execution_count": 31,
   "metadata": {},
   "outputs": [
    {
     "name": "stdout",
     "output_type": "stream",
     "text": [
      "Using dog data[rolling 9 averages]: \n",
      "\n",
      "Using 9 game standard predictor: \n",
      "Dog picks: 0.6234855545200373\n",
      "Dog picks matrix:\n",
      " [[548 168]\n",
      " [236 121]]\n",
      "\n",
      "Using 3 game standard predictor: \n",
      "Dog picks: 0.6328052190121156\n",
      "Dog picks matrix:\n",
      " [[563 153]\n",
      " [241 116]]\n",
      "\n"
     ]
    }
   ],
   "source": [
    "print(\"Using dog data[rolling 9 averages]: \\n\")\n",
    "\n",
    "print(\"Using 9 game standard predictor: \")\n",
    "pred1 = GNB9.predict(dogs2019[feature9Cols])\n",
    "print('Dog picks:',GNB9.score(dogs2019[feature9Cols], Ydogs2019))\n",
    "print('Dog picks matrix:\\n',confusion_matrix(Ydogs2019, pred1))\n",
    "print('')\n",
    "\n",
    "print(\"Using 3 game standard predictor: \")\n",
    "pred = GNB3.predict(dogs2019[feature9Cols])\n",
    "print('Dog picks:',GNB3.score(dogs2019[feature9Cols], Ydogs2019))\n",
    "print('Dog picks matrix:\\n',confusion_matrix(Ydogs2019, pred))\n",
    "print('')\n"
   ]
  },
  {
   "cell_type": "code",
   "execution_count": 32,
   "metadata": {},
   "outputs": [
    {
     "data": {
      "text/plain": [
       "155"
      ]
     },
     "execution_count": 32,
     "metadata": {},
     "output_type": "execute_result"
    }
   ],
   "source": [
    "odds = []\n",
    "for i, n in enumerate(pred1):\n",
    "    if n == 1:\n",
    "        odds.append(dogs2019['Odds'][i])\n",
    "import statistics\n",
    "statistics.mean(odds)"
   ]
  },
  {
   "cell_type": "code",
   "execution_count": null,
   "metadata": {},
   "outputs": [],
   "source": []
  },
  {
   "cell_type": "code",
   "execution_count": null,
   "metadata": {},
   "outputs": [],
   "source": []
  },
  {
   "cell_type": "code",
   "execution_count": 33,
   "metadata": {},
   "outputs": [
    {
     "name": "stdout",
     "output_type": "stream",
     "text": [
      "Using rolling 3 averages: \n",
      "\n",
      "Using 9 game standard predictor: \n",
      "Dog picks: 0.608574091332712\n",
      "Dog picks matrix:\n",
      " [[488 228]\n",
      " [192 165]]\n",
      "\n",
      "Using 3 game standard predictor: \n",
      "Dog picks: 0.6244175209692451\n",
      "Dog picks matrix:\n",
      " [[525 191]\n",
      " [212 145]]\n",
      "\n"
     ]
    }
   ],
   "source": [
    "print(\"Using rolling 3 averages: \\n\")\n",
    "\n",
    "print(\"Using 9 game standard predictor: \")\n",
    "pred = GNB9.predict(dogs2019[feature3Cols])\n",
    "print('Dog picks:',GNB9.score(dogs2019[feature3Cols], Ydogs2019))\n",
    "print('Dog picks matrix:\\n',confusion_matrix(Ydogs2019, pred))\n",
    "print('')\n",
    "\n",
    "print(\"Using 3 game standard predictor: \")\n",
    "pred = GNB3.predict(dogs2019[feature3Cols])\n",
    "print('Dog picks:',GNB3.score(dogs2019[feature3Cols], Ydogs2019))\n",
    "print('Dog picks matrix:\\n',confusion_matrix(Ydogs2019, pred))\n",
    "print('')\n"
   ]
  },
  {
   "cell_type": "markdown",
   "metadata": {},
   "source": [
    "3 game sampler is not great"
   ]
  },
  {
   "cell_type": "code",
   "execution_count": 21,
   "metadata": {},
   "outputs": [
    {
     "data": {
      "text/plain": [
       "155"
      ]
     },
     "execution_count": 21,
     "metadata": {},
     "output_type": "execute_result"
    }
   ],
   "source": [
    "odds = []\n",
    "for i, n in enumerate(pred1):\n",
    "    if n == 1:\n",
    "        odds.append(dogs2019['Odds'][i])\n",
    "statistics.mean(odds)"
   ]
  },
  {
   "cell_type": "code",
   "execution_count": 23,
   "metadata": {},
   "outputs": [],
   "source": [
    "pred_prob = GNB9.predict_proba(dogs2019[feature9Cols])"
   ]
  },
  {
   "cell_type": "code",
   "execution_count": 40,
   "metadata": {},
   "outputs": [],
   "source": []
  },
  {
   "cell_type": "code",
   "execution_count": null,
   "metadata": {},
   "outputs": [],
   "source": []
  },
  {
   "cell_type": "markdown",
   "metadata": {},
   "source": [
    "Average odds for all dog predictions was +166\n",
    "\n",
    "Betting 100 on each 'yes' prediction is 28600 spent on total bets, with 166 returned on each win.\n",
    "\n",
    "#### Winnings: 20584    Losses: 16200    Profits: 4384    15% ROI"
   ]
  },
  {
   "cell_type": "code",
   "execution_count": 55,
   "metadata": {},
   "outputs": [],
   "source": [
    "pkl_filename = \"GNB9model.pkl\"  \n",
    "with open(pkl_filename, 'wb') as file:  \n",
    "    pickle.dump(GNB9, file)"
   ]
  },
  {
   "cell_type": "code",
   "execution_count": 12,
   "metadata": {},
   "outputs": [],
   "source": [
    "db = pd.read_csv('2017_2018stats.csv')"
   ]
  },
  {
   "cell_type": "code",
   "execution_count": 13,
   "metadata": {},
   "outputs": [],
   "source": [
    "feature3Cols = ['Location','Rolling3EFG','Rolling3TOV','Rolling3ORB','Rolling3FTR','Rolling3Pace','Opp R3Pace','Opp R3EFG','Opp R3TOV','Opp R3ORB','Opp R3FTR']\n",
    "feature9Cols = ['Location','Rolling9EFG','Rolling9TOV','Rolling9ORB','Rolling9FTR','Rolling9Pace','Opp R9Pace','Opp R9EFG','Opp R9TOV','Opp R9ORB','Opp R9FTR']\n",
    "\n",
    "target = ['Result']\n",
    "X3 = db.dropna()[feature3Cols]\n",
    "X9 = db.dropna()[feature9Cols]\n",
    "y = np.array(db.dropna()[target]).flatten()\n",
    "\n",
    "x9_train, x9_test, y9_train, y9_test = train_test_split(X9, y, test_size=0.3, random_state=1)\n",
    "x3_train, x3_test, y3_train, y3_test = train_test_split(X3, y, test_size=0.3, random_state=2)\n"
   ]
  },
  {
   "cell_type": "markdown",
   "metadata": {},
   "source": [
    "### Training models"
   ]
  },
  {
   "cell_type": "code",
   "execution_count": null,
   "metadata": {},
   "outputs": [],
   "source": [
    "pkl_filename = \"GNB9model.pkl\"  \n",
    "with open(pkl_filename, 'wb') as file:  \n",
    "    pickle.dump(GNB9, file)"
   ]
  },
  {
   "cell_type": "code",
   "execution_count": null,
   "metadata": {},
   "outputs": [],
   "source": []
  }
 ],
 "metadata": {
  "kernelspec": {
   "display_name": "Python 3",
   "language": "python",
   "name": "python3"
  },
  "language_info": {
   "codemirror_mode": {
    "name": "ipython",
    "version": 3
   },
   "file_extension": ".py",
   "mimetype": "text/x-python",
   "name": "python",
   "nbconvert_exporter": "python",
   "pygments_lexer": "ipython3",
   "version": "3.6.8"
  }
 },
 "nbformat": 4,
 "nbformat_minor": 2
}
