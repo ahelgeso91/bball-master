{
 "cells": [
  {
   "cell_type": "code",
   "execution_count": 1,
   "metadata": {},
   "outputs": [],
   "source": [
    "import numpy as np\n",
    "import pandas as pd\n",
    "import matplotlib.pyplot as plt\n",
    "import seaborn as sns\n",
    "%matplotlib inline\n",
    "from sklearn.svm import SVC\n",
    "from sklearn.linear_model import LogisticRegression\n",
    "from sklearn.svm import LinearSVC\n",
    "from sklearn.neighbors import KNeighborsClassifier\n",
    "from sklearn.model_selection import train_test_split\n",
    "from sklearn import metrics\n",
    "from sklearn.model_selection import cross_val_score\n",
    "from sklearn import preprocessing\n",
    "from sklearn.feature_selection import RFE\n",
    "from sklearn.ensemble import GradientBoostingClassifier, VotingClassifier\n",
    "from sklearn.ensemble import AdaBoostClassifier\n",
    "from sklearn.feature_selection import SelectKBest\n",
    "from sklearn.feature_selection import chi2\n",
    "import os\n",
    "import itertools\n",
    "import pickle\n",
    "import statistics\n",
    "from sklearn.metrics import confusion_matrix\n",
    "import requests, bs4\n",
    "from sklearn.metrics import roc_curve, auc"
   ]
  },
  {
   "cell_type": "markdown",
   "metadata": {},
   "source": [
    "I need a better way to scrape the next day's games and generate predictions before lines come out\n"
   ]
  },
  {
   "cell_type": "code",
   "execution_count": 2,
   "metadata": {},
   "outputs": [],
   "source": [
    "db14 = pd.read_csv('WNBA14.csv')\n",
    "db15 = pd.read_csv('WNBA15.csv')\n",
    "db16 = pd.read_csv('WNBA16.csv')\n",
    "db17 = pd.read_csv('WNBA17.csv')\n",
    "db18 = pd.read_csv('WNBA18.csv')"
   ]
  },
  {
   "cell_type": "code",
   "execution_count": 3,
   "metadata": {},
   "outputs": [
    {
     "name": "stderr",
     "output_type": "stream",
     "text": [
      "/Users/ahelgeso/anaconda3/lib/python3.6/site-packages/ipykernel_launcher.py:1: FutureWarning: Sorting because non-concatenation axis is not aligned. A future version\n",
      "of pandas will change to not sort by default.\n",
      "\n",
      "To accept the future behavior, pass 'sort=False'.\n",
      "\n",
      "To retain the current behavior and silence the warning, pass 'sort=True'.\n",
      "\n",
      "  \"\"\"Entry point for launching an IPython kernel.\n"
     ]
    }
   ],
   "source": [
    "db = pd.concat([db14, db15, db16, db17]).reset_index(drop = True)"
   ]
  },
  {
   "cell_type": "code",
   "execution_count": null,
   "metadata": {},
   "outputs": [],
   "source": []
  },
  {
   "cell_type": "code",
   "execution_count": 4,
   "metadata": {},
   "outputs": [],
   "source": [
    "cols =  ['Result', 'Location','Rolling4TSP','Rolling4TOV','Rolling4ORB','Rolling4FTR','Rolling4Poss','Opp R4Poss','Opp R4TSP','Opp R4TOV','Opp R4ORB','Opp R4FTR', 'Rolling4DEff', 'Opp R4DEff', 'Rolling4OEff','Opp R4OEff']\n",
    "featureCols = ['Location','Rolling4TSP','Rolling4TOV','Rolling4ORB','Rolling4FTR','Rolling4Poss','Opp R4Poss','Opp R4TSP','Opp R4TOV','Opp R4ORB','Opp R4FTR', 'Rolling4DEff', 'Opp R4DEff', 'Rolling4OEff','Opp R4OEff']\n",
    "target = ['Result']\n",
    "\n",
    "db = db[cols].dropna()\n",
    "\n",
    "X = db[featureCols]\n",
    "y = np.array(db[target]).flatten()\n",
    "\n",
    "x_train, x_test, y_train, y_test = train_test_split(X, y, test_size=0.3)\n",
    "\n",
    "db18['Date'] = db18['Date'].apply(str)\n",
    "db18['Date'] = pd.to_datetime(db18.Date, format = \"%Y%m%d\")\n",
    "db18 = db18.sort_values(by = ['Date']).reset_index(drop = True)\n",
    "dogs2018 = db18[(db18['Odds'] > 0)].dropna().reset_index(drop = True)\n",
    "Ydogs2018 = db18[(db18['Odds'] > 0)].dropna()['Result']"
   ]
  },
  {
   "cell_type": "code",
   "execution_count": null,
   "metadata": {},
   "outputs": [],
   "source": []
  },
  {
   "cell_type": "markdown",
   "metadata": {},
   "source": [
    "Below is a voting classifier which combies an Adabooster and a gradient boosting classifier"
   ]
  },
  {
   "cell_type": "code",
   "execution_count": 37,
   "metadata": {},
   "outputs": [
    {
     "name": "stdout",
     "output_type": "stream",
     "text": [
      "Lowest wins: 17 Lowest losses: 20 Lowest ROI 0.26680549770928785 Lowest Profit 1307.3469387755104\n",
      "Avg wins: 19 Avg losses: 25 Avg ROI 0.4013669600649318 Avg Profits 1802.9669192073707\n"
     ]
    }
   ],
   "source": [
    "wins = []\n",
    "losses = []\n",
    "ROIs = []\n",
    "profits = []\n",
    "\n",
    "for i in range(20):\n",
    "    x_train, x_test, y_train, y_test = train_test_split(X, y, test_size=0.2)\n",
    "    ada = AdaBoostClassifier(n_estimators=100, learning_rate=0.1).fit(x_train, y_train)\n",
    "\n",
    "    x_train, x_test, y_train, y_test = train_test_split(X, y, test_size=0.2)\n",
    "    gbc = GradientBoostingClassifier(n_estimators=500, learning_rate=0.1, max_depth=1).fit(x_train, y_train)\n",
    "\n",
    "    x_train, x_test, y_train, y_test = train_test_split(X, y, test_size=0.2)\n",
    "    eclf1 = VotingClassifier(estimators=[('ada', ada), ('gbc', gbc)], voting='soft')\n",
    "    eclf1 = eclf1.fit(x_train, y_train)\n",
    "\n",
    "    pred = eclf1.predict(dogs2018[featureCols])\n",
    "    win = confusion_matrix(Ydogs2018, pred)[1][1]\n",
    "    loss = confusion_matrix(Ydogs2018,pred)[0][1]\n",
    "\n",
    "    odds = []\n",
    "    for i, n in enumerate(pred):\n",
    "        if n == 1:\n",
    "            odds.append(dogs2018['Odds'][i])\n",
    "    avg_odds = statistics.mean(odds)\n",
    "\n",
    "    profit = (win * avg_odds) - (100 * loss)\n",
    "    total_bet = 100 * (win + loss)\n",
    "    ROI = profit/total_bet\n",
    "    win = confusion_matrix(Ydogs2018, pred)[1][1]\n",
    "    loss = confusion_matrix(Ydogs2018, pred)[0][1]\n",
    "    \n",
    "    wins.append(win)\n",
    "    losses.append(loss)\n",
    "    ROIs.append(ROI)\n",
    "    profits.append(profit)\n",
    "\n",
    "print(\"Lowest wins:\", min(wins), \"Lowest losses:\", min(losses), 'Lowest ROI', min(ROIs), 'Lowest Profit', min(profits))\n",
    "print(\"Avg wins:\", statistics.mean(wins), \"Avg losses:\", statistics.mean(losses), 'Avg ROI', statistics.mean(ROIs), 'Avg Profits', statistics.mean(profits))"
   ]
  },
  {
   "cell_type": "markdown",
   "metadata": {},
   "source": [
    "Voting Classifier can predict probabilities. The [:, 1] probability prediction column is probability of wins. The classifier is pretty aggressive picking dogs, so if you have a high probability difference it does a decent job of picking really heavy dogs."
   ]
  },
  {
   "cell_type": "code",
   "execution_count": 27,
   "metadata": {},
   "outputs": [],
   "source": [
    "x_train, x_test, y_train, y_test = train_test_split(X, y, test_size=0.2)\n",
    "ada = AdaBoostClassifier(n_estimators=100, learning_rate=0.1).fit(x_train, y_train)\n",
    "\n",
    "x_train, x_test, y_train, y_test = train_test_split(X, y, test_size=0.2)\n",
    "gbc = GradientBoostingClassifier(n_estimators=500, learning_rate=0.1, max_depth=1).fit(x_train, y_train)\n",
    "\n",
    "x_train, x_test, y_train, y_test = train_test_split(X, y, test_size=0.2)\n",
    "eclf1 = VotingClassifier(estimators=[('ada', ada), ('gbc', gbc)], voting='soft')\n",
    "eclf1 = eclf1.fit(x_train, y_train)\n",
    "\n",
    "pred = eclf1.predict(dogs2018[featureCols])\n",
    "\n",
    "earnings = []\n",
    "\n",
    "for i, n in enumerate(pred):\n",
    "    if n == 1 and dogs2018['Result'][i] == 1:\n",
    "        earnings.append(dogs2018['Odds'][i])\n",
    "    elif n == 1 and dogs2018['Result'][i] == 0:\n",
    "        earnings.append(-100)\n",
    "    else:\n",
    "        earnings.append(0)"
   ]
  },
  {
   "cell_type": "code",
   "execution_count": 28,
   "metadata": {},
   "outputs": [
    {
     "data": {
      "text/plain": [
       "<matplotlib.axes._subplots.AxesSubplot at 0x1a22ee63c8>"
      ]
     },
     "execution_count": 28,
     "metadata": {},
     "output_type": "execute_result"
    },
    {
     "data": {
      "image/png": "[encoded data removed]",
      "text/plain": [
       "<Figure size 432x288 with 1 Axes>"
      ]
     },
     "metadata": {
      "needs_background": "light"
     },
     "output_type": "display_data"
    }
   ],
   "source": [
    "pd.DataFrame(earnings).cumsum().plot()"
   ]
  },
  {
   "cell_type": "code",
   "execution_count": null,
   "metadata": {},
   "outputs": [],
   "source": []
  },
  {
   "cell_type": "code",
   "execution_count": 29,
   "metadata": {},
   "outputs": [
    {
     "name": "stdout",
     "output_type": "stream",
     "text": [
      "31\n",
      "74\n",
      "390.55238095238093\n"
     ]
    },
    {
     "data": {
      "image/png": "[encoded data removed]",
      "text/plain": [
       "<Figure size 432x288 with 1 Axes>"
      ]
     },
     "metadata": {
      "needs_background": "light"
     },
     "output_type": "display_data"
    }
   ],
   "source": [
    "probs = eclf1.predict_proba(dogs2018[featureCols])[:,1]\n",
    "diffs = (probs*100) - dogs2018['0']*100.0\n",
    "\n",
    "wins = []\n",
    "losses = []\n",
    "profit = []\n",
    "odds = []\n",
    "\n",
    "for i, n in enumerate(dogs2018['Odds']):\n",
    "    if diffs[i] > 10 and dogs2018['Result'][i] == 1:\n",
    "        wins.append(1)\n",
    "        profit.append(n)\n",
    "        odds.append(n)\n",
    "    elif diffs[i] > 10 and dogs2018['Result'][i] == 0:\n",
    "        profit.append(-100)\n",
    "        losses.append(1)\n",
    "        odds.append(n)\n",
    "    else:\n",
    "        profit.append(0)\n",
    "        \n",
    "pd.DataFrame(profit).cumsum().plot()\n",
    "print(len(wins))\n",
    "print(len(losses))\n",
    "print(statistics.mean(odds))"
   ]
  },
  {
   "cell_type": "markdown",
   "metadata": {},
   "source": [
    "### Below is probably the best way to do this, minimizing risk of having a bad model.\n",
    "#### This creates 20 models, sums up their predictions, and if the majority of them agree on a pick, you make that pick. Significantly reduces volatility of individual models"
   ]
  },
  {
   "cell_type": "code",
   "execution_count": 5,
   "metadata": {},
   "outputs": [],
   "source": [
    "preds_avg = []\n",
    "\n",
    "for i in range(20):\n",
    "    x_train, x_test, y_train, y_test = train_test_split(X, y, test_size=0.2)\n",
    "    ada = AdaBoostClassifier(n_estimators=100, learning_rate=0.1).fit(x_train, y_train)\n",
    "\n",
    "    x_train, x_test, y_train, y_test = train_test_split(X, y, test_size=0.2)\n",
    "    gbc = GradientBoostingClassifier(n_estimators=500, learning_rate=0.1, max_depth=1).fit(x_train, y_train)\n",
    "\n",
    "    x_train, x_test, y_train, y_test = train_test_split(X, y, test_size=0.2)\n",
    "    eclf1 = VotingClassifier(estimators=[('ada', ada), ('gbc', gbc)], voting='soft')\n",
    "    eclf1 = eclf1.fit(x_train, y_train)\n",
    "\n",
    "    pred = eclf1.predict(dogs2018[featureCols])\n",
    "    \n",
    "    preds_avg.append(pred)\n",
    "    \n"
   ]
  },
  {
   "cell_type": "code",
   "execution_count": 6,
   "metadata": {},
   "outputs": [],
   "source": [
    "preds = [sum(i) for i in zip(*preds_avg)]"
   ]
  },
  {
   "cell_type": "code",
   "execution_count": 7,
   "metadata": {},
   "outputs": [
    {
     "name": "stdout",
     "output_type": "stream",
     "text": [
      "wins: 20  losses: 22 profit: 1582.0 total risk: 4200 ROI: 0.37666666666666665\n"
     ]
    }
   ],
   "source": [
    "odds = []\n",
    "wins = []\n",
    "losses = []\n",
    "profit = []\n",
    "\n",
    "for i, n in enumerate(preds):\n",
    "    if n >= 10 and dogs2018['Result'][i] == 1:\n",
    "        wins.append(1)\n",
    "        profit.append(dogs2018['Odds'][i])\n",
    "        odds.append(dogs2018['Odds'][i])\n",
    "    elif n >= 10 and dogs2018['Result'][i] == 0:\n",
    "        losses.append(1)\n",
    "        profit.append(-100)\n",
    "        odds.append(dogs2018['Odds'][i])\n",
    "    else:\n",
    "        profit.append(0)\n",
    "        \n",
    "avg_odds = statistics.mean(odds)\n",
    "profits = sum(profit)\n",
    "total_bet = 100 * (len(wins) + len(losses))\n",
    "ROI = profits/total_bet\n",
    "    \n",
    "print('wins:', len(wins), ' losses:', len(losses), 'profit:', profits, 'total risk:', total_bet, 'ROI:', ROI)"
   ]
  },
  {
   "cell_type": "code",
   "execution_count": 8,
   "metadata": {},
   "outputs": [
    {
     "data": {
      "text/plain": [
       "<matplotlib.axes._subplots.AxesSubplot at 0x10b8eb3c8>"
      ]
     },
     "execution_count": 8,
     "metadata": {},
     "output_type": "execute_result"
    },
    {
     "data": {
      "image/png": "[encoded data removed]",
      "text/plain": [
       "<Figure size 432x288 with 1 Axes>"
      ]
     },
     "metadata": {
      "needs_background": "light"
     },
     "output_type": "display_data"
    }
   ],
   "source": [
    "pd.DataFrame(profit).cumsum().plot()"
   ]
  },
  {
   "cell_type": "code",
   "execution_count": 420,
   "metadata": {},
   "outputs": [],
   "source": []
  },
  {
   "cell_type": "code",
   "execution_count": 421,
   "metadata": {},
   "outputs": [],
   "source": []
  },
  {
   "cell_type": "code",
   "execution_count": 422,
   "metadata": {},
   "outputs": [],
   "source": []
  },
  {
   "cell_type": "markdown",
   "metadata": {},
   "source": []
  },
  {
   "cell_type": "code",
   "execution_count": null,
   "metadata": {},
   "outputs": [],
   "source": []
  },
  {
   "cell_type": "code",
   "execution_count": null,
   "metadata": {},
   "outputs": [],
   "source": []
  },
  {
   "cell_type": "code",
   "execution_count": null,
   "metadata": {},
   "outputs": [],
   "source": []
  },
  {
   "cell_type": "code",
   "execution_count": null,
   "metadata": {},
   "outputs": [],
   "source": []
  },
  {
   "cell_type": "code",
   "execution_count": null,
   "metadata": {},
   "outputs": [],
   "source": []
  },
  {
   "cell_type": "code",
   "execution_count": null,
   "metadata": {},
   "outputs": [],
   "source": []
  }
 ],
 "metadata": {
  "kernelspec": {
   "display_name": "Python 3",
   "language": "python",
   "name": "python3"
  },
  "language_info": {
   "codemirror_mode": {
    "name": "ipython",
    "version": 3
   },
   "file_extension": ".py",
   "mimetype": "text/x-python",
   "name": "python",
   "nbconvert_exporter": "python",
   "pygments_lexer": "ipython3",
   "version": "3.6.8"
  }
 },
 "nbformat": 4,
 "nbformat_minor": 2
}
