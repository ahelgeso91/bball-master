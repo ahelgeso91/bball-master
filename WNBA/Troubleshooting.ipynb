{
 "cells": [
  {
   "cell_type": "code",
   "execution_count": 235,
   "metadata": {},
   "outputs": [],
   "source": [
    "import numpy as np\n",
    "import pandas as pd\n",
    "import os\n",
    "from sklearn import preprocessing\n",
    "from sklearn.model_selection import train_test_split\n",
    "from sklearn import metrics\n",
    "from sklearn.ensemble import GradientBoostingClassifier, VotingClassifier\n",
    "from sklearn.ensemble import AdaBoostClassifier\n",
    "from sklearn.metrics import confusion_matrix\n",
    "import statistics\n",
    "import matplotlib.pyplot as plt\n",
    "import seaborn as sns\n",
    "%matplotlib inline"
   ]
  },
  {
   "cell_type": "code",
   "execution_count": 226,
   "metadata": {},
   "outputs": [
    {
     "name": "stderr",
     "output_type": "stream",
     "text": [
      "/Users/ahelgeso/anaconda3/lib/python3.6/site-packages/ipykernel_launcher.py:8: FutureWarning: Sorting because non-concatenation axis is not aligned. A future version\n",
      "of pandas will change to not sort by default.\n",
      "\n",
      "To accept the future behavior, pass 'sort=False'.\n",
      "\n",
      "To retain the current behavior and silence the warning, pass 'sort=True'.\n",
      "\n",
      "  \n"
     ]
    }
   ],
   "source": [
    "db14 = pd.read_csv('WNBA14.csv')\n",
    "db15 = pd.read_csv('WNBA15.csv')\n",
    "db16 = pd.read_csv('WNBA16.csv')\n",
    "db17 = pd.read_csv('WNBA17.csv')\n",
    "db18 = pd.read_csv('WNBA18.csv')\n",
    "db19 = pd.read_csv('WNBA19.csv')\n",
    "\n",
    "db = pd.concat([db17, db16, db15, db14]).reset_index(drop = True)"
   ]
  },
  {
   "cell_type": "code",
   "execution_count": 227,
   "metadata": {},
   "outputs": [],
   "source": [
    "cols =  ['Result','Rolling4TSP','Rolling4TOV','Rolling4ORB','Rolling4FTR','Rolling4Poss','Opp R4Poss','Opp R4TSP','Opp R4TOV','Opp R4ORB','Opp R4FTR', 'Rolling4DEff', 'Opp R4DEff', 'Rolling4OEff','Opp R4OEff']\n",
    "featureCols = ['Rolling4TSP','Rolling4TOV','Rolling4ORB',\n",
    "                   'Rolling4FTR','Rolling4Poss','Opp R4Poss','Opp R4TSP',\n",
    "                   'Opp R4TOV','Opp R4ORB','Opp R4FTR', 'Rolling4DEff', \n",
    "                   'Opp R4DEff', 'Rolling4OEff','Opp R4OEff']\n",
    "target = ['Result']\n",
    "db = db[cols].dropna()"
   ]
  },
  {
   "cell_type": "code",
   "execution_count": 228,
   "metadata": {},
   "outputs": [],
   "source": [
    "X = preprocessing.scale(db[featureCols])\n",
    "X = pd.DataFrame(X, columns = featureCols)\n",
    "y = np.array(db[target]).flatten()"
   ]
  },
  {
   "cell_type": "code",
   "execution_count": 229,
   "metadata": {},
   "outputs": [],
   "source": [
    "dogs2018 = db18[db18['Line'] > 0]"
   ]
  },
  {
   "cell_type": "code",
   "execution_count": 230,
   "metadata": {},
   "outputs": [],
   "source": [
    "cols18 =  ['Result','Rolling4TSP','Rolling4TOV','Rolling4ORB','Rolling4FTR','Rolling4Poss','Opp R4Poss','Opp R4TSP','Opp R4TOV','Opp R4ORB','Opp R4FTR', 'Rolling4DEff', 'Opp R4DEff', 'Rolling4OEff','Opp R4OEff','Odds']\n",
    "dogs2018 = dogs2018[cols18].dropna().reset_index()"
   ]
  },
  {
   "cell_type": "code",
   "execution_count": 231,
   "metadata": {},
   "outputs": [],
   "source": [
    "dogs2018_feat = preprocessing.scale(dogs2018[featureCols])\n",
    "dogs2018_feat = pd.DataFrame(dogs2018_feat, columns = featureCols)\n",
    "dogs2018_y = np.array(dogs2018[target]).flatten()"
   ]
  },
  {
   "cell_type": "code",
   "execution_count": 216,
   "metadata": {},
   "outputs": [
    {
     "name": "stdout",
     "output_type": "stream",
     "text": [
      "Model #: 0\n",
      "Model #: 10\n",
      "Model #: 20\n",
      "Model #: 30\n",
      "Model #: 40\n",
      "Model #: 50\n",
      "Model #: 60\n",
      "Model #: 70\n",
      "Model #: 80\n",
      "Model #: 90\n"
     ]
    }
   ],
   "source": [
    "preds_avg = []\n",
    "n = 100\n",
    "\n",
    "for i in range(n):\n",
    "    x_train, x_test, y_train, y_test = train_test_split(X, y, test_size=0.2)\n",
    "    ada = AdaBoostClassifier(n_estimators=100, learning_rate=0.1).fit(x_train, y_train)\n",
    "\n",
    "    x_train, x_test, y_train, y_test = train_test_split(X, y, test_size=0.2)\n",
    "    gbc = GradientBoostingClassifier(n_estimators=500, learning_rate=0.1, max_depth=1).fit(x_train, y_train)\n",
    "\n",
    "    x_train, x_test, y_train, y_test = train_test_split(X, y, test_size=0.2)\n",
    "    eclf1 = VotingClassifier(estimators=[('ada', ada), ('gbc', gbc)], voting='soft')\n",
    "    eclf1 = eclf1.fit(x_train, y_train)\n",
    "\n",
    "    pred = eclf1.predict(dogs2018_feat)\n",
    "    \n",
    "    preds_avg.append(pred)\n",
    "    \n",
    "    if i%10 == 0:\n",
    "        print(\"Model #:\", i)\n",
    "\n",
    "preds = [sum(i) for i in zip(*preds_avg)]"
   ]
  },
  {
   "cell_type": "code",
   "execution_count": 232,
   "metadata": {},
   "outputs": [
    {
     "name": "stdout",
     "output_type": "stream",
     "text": [
      "wins: 37  losses: 51 profit: 2356.0 total risk: 8800 avg odds: 238.57954545454547 ROI: 0.2677272727272727\n"
     ]
    }
   ],
   "source": [
    "odds = []\n",
    "wins = []\n",
    "losses = []\n",
    "profit = []\n",
    "t3l = []\n",
    "t2l = []\n",
    "t1l = []\n",
    "t3 = 0.82 * n\n",
    "t2 = 0.66 * n\n",
    "t1 = 0.5 * n\n",
    "\n",
    "for i, n in enumerate(preds):\n",
    "    if n >= t1 and dogs2018['Result'][i] == 1:\n",
    "        wins.append(1)\n",
    "        profit.append(dogs2018['Odds'][i])\n",
    "        odds.append(dogs2018['Odds'][i])\n",
    "        t3l.append(1)\n",
    "    elif n >= t1 and dogs2018['Result'][i] == 0:\n",
    "        losses.append(1)\n",
    "        profit.append(-100)\n",
    "        odds.append(dogs2018['Odds'][i])\n",
    "        t3l.append(1)\n",
    "#     elif n >= t1 and dogs2018['Result'][i] == 1:\n",
    "#         wins.append(1)\n",
    "#         profit.append(2 * dogs2018['Odds'][i])\n",
    "#         odds.append(dogs2018['Odds'][i])\n",
    "#         t2l.append(1)\n",
    "#     elif n >= t1 and dogs2018['Result'][i] == 0:\n",
    "#         losses.append(1)\n",
    "#         profit.append(-200)\n",
    "#         odds.append(dogs2018['Odds'][i])\n",
    "#         t2l.append(1)\n",
    "#     elif n >= t1 and dogs2018['Result'][i] == 1:\n",
    "#         wins.append(1)\n",
    "#         profit.append(dogs2018['Odds'][i])\n",
    "#         odds.append(dogs2018['Odds'][i])\n",
    "#         t1l.append(1)\n",
    "#     elif n >= t1 and dogs2018['Result'][i] == 0:\n",
    "#         losses.append(1)\n",
    "#         profit.append(-100)\n",
    "#         odds.append(dogs2018['Odds'][i])\n",
    "#         t1l.append(1)\n",
    "    else:\n",
    "        profit.append(0)\n",
    "        \n",
    "avg_odds = statistics.mean(odds)\n",
    "profits = sum(profit)\n",
    "total_bet = 100 * (len(wins) + len(losses))\n",
    "ROI = profits/total_bet\n",
    "    \n",
    "print('wins:', len(wins), ' losses:', len(losses), 'profit:', profits, 'total risk:', total_bet, 'avg odds:', avg_odds, 'ROI:', ROI)"
   ]
  },
  {
   "cell_type": "code",
   "execution_count": 236,
   "metadata": {},
   "outputs": [
    {
     "data": {
      "text/plain": [
       "<matplotlib.axes._subplots.AxesSubplot at 0x1a2a405908>"
      ]
     },
     "execution_count": 236,
     "metadata": {},
     "output_type": "execute_result"
    },
    {
     "data": {
      "image/png": "[encoded data removed]",
      "text/plain": [
       "<Figure size 432x288 with 1 Axes>"
      ]
     },
     "metadata": {
      "needs_background": "light"
     },
     "output_type": "display_data"
    }
   ],
   "source": [
    "pd.DataFrame(profit).cumsum().plot()"
   ]
  },
  {
   "cell_type": "code",
   "execution_count": 45,
   "metadata": {},
   "outputs": [],
   "source": []
  },
  {
   "cell_type": "code",
   "execution_count": null,
   "metadata": {},
   "outputs": [],
   "source": []
  }
 ],
 "metadata": {
  "kernelspec": {
   "display_name": "Python 3",
   "language": "python",
   "name": "python3"
  },
  "language_info": {
   "codemirror_mode": {
    "name": "ipython",
    "version": 3
   },
   "file_extension": ".py",
   "mimetype": "text/x-python",
   "name": "python",
   "nbconvert_exporter": "python",
   "pygments_lexer": "ipython3",
   "version": "3.6.8"
  }
 },
 "nbformat": 4,
 "nbformat_minor": 2
}
