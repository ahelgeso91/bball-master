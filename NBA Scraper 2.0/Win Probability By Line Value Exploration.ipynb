{
 "cells": [
  {
   "cell_type": "markdown",
   "metadata": {},
   "source": [
    "#### In betting, a spread line represents the predicted difference in score between two teams in a given event. It is also correlated with the \"straight-up\" moneyline price, which is either team to win outright. This quick study will attempt to find a true moneyline price for NBA sides based on the line against the spread.\n",
    "\n",
    "We will look at spreads from -10 to 10.\n",
    "\n",
    "Data was manually assembled from <link>www.killersports.com</link>.\n",
    "\n",
    "Additionally, we can check out how efficient NBA spreads are."
   ]
  },
  {
   "cell_type": "code",
   "execution_count": 23,
   "metadata": {},
   "outputs": [],
   "source": [
    "import pandas as pd\n",
    "import numpy as np\n",
    "from sklearn.utils import resample\n",
    "import matplotlib.pyplot as plt\n",
    "import seaborn as sns\n",
    "%matplotlib inline\n",
    "from scipy.stats import pearsonr\n",
    "from statistics import stdev\n",
    "import os\n",
    "\n",
    "sns.set_palette('GnBu_d')\n",
    "sns.set_style('whitegrid')"
   ]
  },
  {
   "cell_type": "code",
   "execution_count": 166,
   "metadata": {},
   "outputs": [],
   "source": [
    "lines = [-10, -9, -8, -7, -6, -5, -4, -3, -2, -1, 1, 2, 3, 4, 5, 6, 7, 8, 9, 10]\n",
    "margins_neg = [(804,151,10.36), (1019, 224, 9.7), (1123, 306, 8.16), (1305, 452, 6.58), (1346, 547, 5.38),\n",
    "          (1314, 692, 4.25), (1218, 778, 3.06), (1196, 893, 1.85), (972, 859, 1.05), (576, 584, .21)]\n",
    "\n",
    "margins_pos = [(x[1],x[0],-x[2]) for x in margins_neg]\n",
    "margins_pos.reverse()"
   ]
  },
  {
   "cell_type": "code",
   "execution_count": 167,
   "metadata": {},
   "outputs": [],
   "source": [
    "margins_neg.extend(margins_pos)"
   ]
  },
  {
   "cell_type": "code",
   "execution_count": 168,
   "metadata": {},
   "outputs": [],
   "source": [
    "margins = margins_neg"
   ]
  },
  {
   "cell_type": "code",
   "execution_count": 169,
   "metadata": {},
   "outputs": [
    {
     "data": {
      "text/plain": [
       "[(804, 151, 10.36),\n",
       " (1019, 224, 9.7),\n",
       " (1123, 306, 8.16),\n",
       " (1305, 452, 6.58),\n",
       " (1346, 547, 5.38),\n",
       " (1314, 692, 4.25),\n",
       " (1218, 778, 3.06),\n",
       " (1196, 893, 1.85),\n",
       " (972, 859, 1.05),\n",
       " (576, 584, 0.21),\n",
       " (584, 576, -0.21),\n",
       " (859, 972, -1.05),\n",
       " (893, 1196, -1.85),\n",
       " (778, 1218, -3.06),\n",
       " (692, 1314, -4.25),\n",
       " (547, 1346, -5.38),\n",
       " (452, 1305, -6.58),\n",
       " (306, 1123, -8.16),\n",
       " (224, 1019, -9.7),\n",
       " (151, 804, -10.36)]"
      ]
     },
     "execution_count": 169,
     "metadata": {},
     "output_type": "execute_result"
    }
   ],
   "source": [
    "margins"
   ]
  },
  {
   "cell_type": "code",
   "execution_count": 170,
   "metadata": {},
   "outputs": [],
   "source": [
    "wins = []\n",
    "losses = []\n",
    "totals = []\n",
    "avg_margins = []\n",
    "\n",
    "for i, line in enumerate(lines):\n",
    "    wins.append(margins[i][0])\n",
    "    losses.append(margins[i][1])\n",
    "    avg_margins.append(margins[i][2])"
   ]
  },
  {
   "cell_type": "code",
   "execution_count": 171,
   "metadata": {},
   "outputs": [],
   "source": [
    "margins = pd.DataFrame({'line':lines,'wins':wins,'losses':losses,'avg_margins':avg_margins})"
   ]
  },
  {
   "cell_type": "code",
   "execution_count": 172,
   "metadata": {},
   "outputs": [
    {
     "data": {
      "text/html": [
       "<div>\n",
       "<style scoped>\n",
       "    .dataframe tbody tr th:only-of-type {\n",
       "        vertical-align: middle;\n",
       "    }\n",
       "\n",
       "    .dataframe tbody tr th {\n",
       "        vertical-align: top;\n",
       "    }\n",
       "\n",
       "    .dataframe thead th {\n",
       "        text-align: right;\n",
       "    }\n",
       "</style>\n",
       "<table border=\"1\" class=\"dataframe\">\n",
       "  <thead>\n",
       "    <tr style=\"text-align: right;\">\n",
       "      <th></th>\n",
       "      <th>line</th>\n",
       "      <th>wins</th>\n",
       "      <th>losses</th>\n",
       "      <th>avg_margins</th>\n",
       "    </tr>\n",
       "  </thead>\n",
       "  <tbody>\n",
       "    <tr>\n",
       "      <th>0</th>\n",
       "      <td>-10</td>\n",
       "      <td>804</td>\n",
       "      <td>151</td>\n",
       "      <td>10.36</td>\n",
       "    </tr>\n",
       "    <tr>\n",
       "      <th>1</th>\n",
       "      <td>-9</td>\n",
       "      <td>1019</td>\n",
       "      <td>224</td>\n",
       "      <td>9.70</td>\n",
       "    </tr>\n",
       "    <tr>\n",
       "      <th>2</th>\n",
       "      <td>-8</td>\n",
       "      <td>1123</td>\n",
       "      <td>306</td>\n",
       "      <td>8.16</td>\n",
       "    </tr>\n",
       "    <tr>\n",
       "      <th>3</th>\n",
       "      <td>-7</td>\n",
       "      <td>1305</td>\n",
       "      <td>452</td>\n",
       "      <td>6.58</td>\n",
       "    </tr>\n",
       "    <tr>\n",
       "      <th>4</th>\n",
       "      <td>-6</td>\n",
       "      <td>1346</td>\n",
       "      <td>547</td>\n",
       "      <td>5.38</td>\n",
       "    </tr>\n",
       "  </tbody>\n",
       "</table>\n",
       "</div>"
      ],
      "text/plain": [
       "   line  wins  losses  avg_margins\n",
       "0   -10   804     151        10.36\n",
       "1    -9  1019     224         9.70\n",
       "2    -8  1123     306         8.16\n",
       "3    -7  1305     452         6.58\n",
       "4    -6  1346     547         5.38"
      ]
     },
     "execution_count": 172,
     "metadata": {},
     "output_type": "execute_result"
    }
   ],
   "source": [
    "margins.head()"
   ]
  },
  {
   "cell_type": "code",
   "execution_count": 173,
   "metadata": {},
   "outputs": [],
   "source": [
    "margins['win_pct'] = margins['wins']/(margins['wins']+margins['losses'])"
   ]
  },
  {
   "cell_type": "code",
   "execution_count": 174,
   "metadata": {},
   "outputs": [
    {
     "data": {
      "text/plain": [
       "<seaborn.axisgrid.FacetGrid at 0x1a26f983c8>"
      ]
     },
     "execution_count": 174,
     "metadata": {},
     "output_type": "execute_result"
    },
    {
     "data": {
      "image/png": "[encoded data removed]",
      "text/plain": [
       "<Figure size 360x360 with 1 Axes>"
      ]
     },
     "metadata": {},
     "output_type": "display_data"
    }
   ],
   "source": [
    "sns.lmplot(x='line', y='avg_margins', data=margins)"
   ]
  },
  {
   "cell_type": "code",
   "execution_count": 179,
   "metadata": {},
   "outputs": [],
   "source": [
    "margins['fair_ml_price'] = round(1/margins['win_pct'],2)"
   ]
  },
  {
   "cell_type": "code",
   "execution_count": 181,
   "metadata": {},
   "outputs": [],
   "source": [
    "def dec_to_am(price):\n",
    "    if price>=2.0:\n",
    "        price = (price-1) * 100\n",
    "    else:\n",
    "        price = -100/(price-1)\n",
    "    return price"
   ]
  },
  {
   "cell_type": "code",
   "execution_count": 183,
   "metadata": {},
   "outputs": [],
   "source": [
    "margins['fair_am_price'] = margins['fair_ml_price'].apply(dec_to_am)"
   ]
  },
  {
   "cell_type": "code",
   "execution_count": 185,
   "metadata": {},
   "outputs": [
    {
     "data": {
      "text/plain": [
       "(-0.9928761519159817, 4.373431896519981e-18)"
      ]
     },
     "execution_count": 185,
     "metadata": {},
     "output_type": "execute_result"
    }
   ],
   "source": [
    "pearsonr(margins['line'], margins['avg_margins'])"
   ]
  },
  {
   "cell_type": "code",
   "execution_count": 187,
   "metadata": {},
   "outputs": [
    {
     "data": {
      "text/html": [
       "<div>\n",
       "<style scoped>\n",
       "    .dataframe tbody tr th:only-of-type {\n",
       "        vertical-align: middle;\n",
       "    }\n",
       "\n",
       "    .dataframe tbody tr th {\n",
       "        vertical-align: top;\n",
       "    }\n",
       "\n",
       "    .dataframe thead th {\n",
       "        text-align: right;\n",
       "    }\n",
       "</style>\n",
       "<table border=\"1\" class=\"dataframe\">\n",
       "  <thead>\n",
       "    <tr style=\"text-align: right;\">\n",
       "      <th></th>\n",
       "      <th>line</th>\n",
       "      <th>wins</th>\n",
       "      <th>losses</th>\n",
       "      <th>avg_margins</th>\n",
       "      <th>win_pct</th>\n",
       "      <th>fair_ml_price</th>\n",
       "      <th>fair_am_price</th>\n",
       "    </tr>\n",
       "  </thead>\n",
       "  <tbody>\n",
       "    <tr>\n",
       "      <th>0</th>\n",
       "      <td>-10</td>\n",
       "      <td>804</td>\n",
       "      <td>151</td>\n",
       "      <td>10.36</td>\n",
       "      <td>0.841885</td>\n",
       "      <td>1.19</td>\n",
       "      <td>-526.315789</td>\n",
       "    </tr>\n",
       "    <tr>\n",
       "      <th>1</th>\n",
       "      <td>-9</td>\n",
       "      <td>1019</td>\n",
       "      <td>224</td>\n",
       "      <td>9.70</td>\n",
       "      <td>0.819791</td>\n",
       "      <td>1.22</td>\n",
       "      <td>-454.545455</td>\n",
       "    </tr>\n",
       "    <tr>\n",
       "      <th>2</th>\n",
       "      <td>-8</td>\n",
       "      <td>1123</td>\n",
       "      <td>306</td>\n",
       "      <td>8.16</td>\n",
       "      <td>0.785864</td>\n",
       "      <td>1.27</td>\n",
       "      <td>-370.370370</td>\n",
       "    </tr>\n",
       "    <tr>\n",
       "      <th>3</th>\n",
       "      <td>-7</td>\n",
       "      <td>1305</td>\n",
       "      <td>452</td>\n",
       "      <td>6.58</td>\n",
       "      <td>0.742743</td>\n",
       "      <td>1.35</td>\n",
       "      <td>-285.714286</td>\n",
       "    </tr>\n",
       "    <tr>\n",
       "      <th>4</th>\n",
       "      <td>-6</td>\n",
       "      <td>1346</td>\n",
       "      <td>547</td>\n",
       "      <td>5.38</td>\n",
       "      <td>0.711041</td>\n",
       "      <td>1.41</td>\n",
       "      <td>-243.902439</td>\n",
       "    </tr>\n",
       "    <tr>\n",
       "      <th>5</th>\n",
       "      <td>-5</td>\n",
       "      <td>1314</td>\n",
       "      <td>692</td>\n",
       "      <td>4.25</td>\n",
       "      <td>0.655035</td>\n",
       "      <td>1.53</td>\n",
       "      <td>-188.679245</td>\n",
       "    </tr>\n",
       "    <tr>\n",
       "      <th>6</th>\n",
       "      <td>-4</td>\n",
       "      <td>1218</td>\n",
       "      <td>778</td>\n",
       "      <td>3.06</td>\n",
       "      <td>0.610220</td>\n",
       "      <td>1.64</td>\n",
       "      <td>-156.250000</td>\n",
       "    </tr>\n",
       "    <tr>\n",
       "      <th>7</th>\n",
       "      <td>-3</td>\n",
       "      <td>1196</td>\n",
       "      <td>893</td>\n",
       "      <td>1.85</td>\n",
       "      <td>0.572523</td>\n",
       "      <td>1.75</td>\n",
       "      <td>-133.333333</td>\n",
       "    </tr>\n",
       "    <tr>\n",
       "      <th>8</th>\n",
       "      <td>-2</td>\n",
       "      <td>972</td>\n",
       "      <td>859</td>\n",
       "      <td>1.05</td>\n",
       "      <td>0.530857</td>\n",
       "      <td>1.88</td>\n",
       "      <td>-113.636364</td>\n",
       "    </tr>\n",
       "    <tr>\n",
       "      <th>9</th>\n",
       "      <td>-1</td>\n",
       "      <td>576</td>\n",
       "      <td>584</td>\n",
       "      <td>0.21</td>\n",
       "      <td>0.496552</td>\n",
       "      <td>2.01</td>\n",
       "      <td>101.000000</td>\n",
       "    </tr>\n",
       "    <tr>\n",
       "      <th>10</th>\n",
       "      <td>1</td>\n",
       "      <td>584</td>\n",
       "      <td>576</td>\n",
       "      <td>-0.21</td>\n",
       "      <td>0.503448</td>\n",
       "      <td>1.99</td>\n",
       "      <td>-101.010101</td>\n",
       "    </tr>\n",
       "    <tr>\n",
       "      <th>11</th>\n",
       "      <td>2</td>\n",
       "      <td>859</td>\n",
       "      <td>972</td>\n",
       "      <td>-1.05</td>\n",
       "      <td>0.469143</td>\n",
       "      <td>2.13</td>\n",
       "      <td>113.000000</td>\n",
       "    </tr>\n",
       "    <tr>\n",
       "      <th>12</th>\n",
       "      <td>3</td>\n",
       "      <td>893</td>\n",
       "      <td>1196</td>\n",
       "      <td>-1.85</td>\n",
       "      <td>0.427477</td>\n",
       "      <td>2.34</td>\n",
       "      <td>134.000000</td>\n",
       "    </tr>\n",
       "    <tr>\n",
       "      <th>13</th>\n",
       "      <td>4</td>\n",
       "      <td>778</td>\n",
       "      <td>1218</td>\n",
       "      <td>-3.06</td>\n",
       "      <td>0.389780</td>\n",
       "      <td>2.57</td>\n",
       "      <td>157.000000</td>\n",
       "    </tr>\n",
       "    <tr>\n",
       "      <th>14</th>\n",
       "      <td>5</td>\n",
       "      <td>692</td>\n",
       "      <td>1314</td>\n",
       "      <td>-4.25</td>\n",
       "      <td>0.344965</td>\n",
       "      <td>2.90</td>\n",
       "      <td>190.000000</td>\n",
       "    </tr>\n",
       "    <tr>\n",
       "      <th>15</th>\n",
       "      <td>6</td>\n",
       "      <td>547</td>\n",
       "      <td>1346</td>\n",
       "      <td>-5.38</td>\n",
       "      <td>0.288959</td>\n",
       "      <td>3.46</td>\n",
       "      <td>246.000000</td>\n",
       "    </tr>\n",
       "    <tr>\n",
       "      <th>16</th>\n",
       "      <td>7</td>\n",
       "      <td>452</td>\n",
       "      <td>1305</td>\n",
       "      <td>-6.58</td>\n",
       "      <td>0.257257</td>\n",
       "      <td>3.89</td>\n",
       "      <td>289.000000</td>\n",
       "    </tr>\n",
       "    <tr>\n",
       "      <th>17</th>\n",
       "      <td>8</td>\n",
       "      <td>306</td>\n",
       "      <td>1123</td>\n",
       "      <td>-8.16</td>\n",
       "      <td>0.214136</td>\n",
       "      <td>4.67</td>\n",
       "      <td>367.000000</td>\n",
       "    </tr>\n",
       "    <tr>\n",
       "      <th>18</th>\n",
       "      <td>9</td>\n",
       "      <td>224</td>\n",
       "      <td>1019</td>\n",
       "      <td>-9.70</td>\n",
       "      <td>0.180209</td>\n",
       "      <td>5.55</td>\n",
       "      <td>455.000000</td>\n",
       "    </tr>\n",
       "    <tr>\n",
       "      <th>19</th>\n",
       "      <td>10</td>\n",
       "      <td>151</td>\n",
       "      <td>804</td>\n",
       "      <td>-10.36</td>\n",
       "      <td>0.158115</td>\n",
       "      <td>6.32</td>\n",
       "      <td>532.000000</td>\n",
       "    </tr>\n",
       "  </tbody>\n",
       "</table>\n",
       "</div>"
      ],
      "text/plain": [
       "    line  wins  losses  avg_margins   win_pct  fair_ml_price  fair_am_price\n",
       "0    -10   804     151        10.36  0.841885           1.19    -526.315789\n",
       "1     -9  1019     224         9.70  0.819791           1.22    -454.545455\n",
       "2     -8  1123     306         8.16  0.785864           1.27    -370.370370\n",
       "3     -7  1305     452         6.58  0.742743           1.35    -285.714286\n",
       "4     -6  1346     547         5.38  0.711041           1.41    -243.902439\n",
       "5     -5  1314     692         4.25  0.655035           1.53    -188.679245\n",
       "6     -4  1218     778         3.06  0.610220           1.64    -156.250000\n",
       "7     -3  1196     893         1.85  0.572523           1.75    -133.333333\n",
       "8     -2   972     859         1.05  0.530857           1.88    -113.636364\n",
       "9     -1   576     584         0.21  0.496552           2.01     101.000000\n",
       "10     1   584     576        -0.21  0.503448           1.99    -101.010101\n",
       "11     2   859     972        -1.05  0.469143           2.13     113.000000\n",
       "12     3   893    1196        -1.85  0.427477           2.34     134.000000\n",
       "13     4   778    1218        -3.06  0.389780           2.57     157.000000\n",
       "14     5   692    1314        -4.25  0.344965           2.90     190.000000\n",
       "15     6   547    1346        -5.38  0.288959           3.46     246.000000\n",
       "16     7   452    1305        -6.58  0.257257           3.89     289.000000\n",
       "17     8   306    1123        -8.16  0.214136           4.67     367.000000\n",
       "18     9   224    1019        -9.70  0.180209           5.55     455.000000\n",
       "19    10   151     804       -10.36  0.158115           6.32     532.000000"
      ]
     },
     "execution_count": 187,
     "metadata": {},
     "output_type": "execute_result"
    }
   ],
   "source": [
    "margins"
   ]
  },
  {
   "cell_type": "code",
   "execution_count": null,
   "metadata": {},
   "outputs": [],
   "source": []
  },
  {
   "cell_type": "code",
   "execution_count": null,
   "metadata": {},
   "outputs": [],
   "source": []
  },
  {
   "cell_type": "code",
   "execution_count": null,
   "metadata": {},
   "outputs": [],
   "source": []
  },
  {
   "cell_type": "code",
   "execution_count": null,
   "metadata": {},
   "outputs": [],
   "source": []
  },
  {
   "cell_type": "markdown",
   "metadata": {},
   "source": [
    "    "
   ]
  },
  {
   "cell_type": "code",
   "execution_count": null,
   "metadata": {},
   "outputs": [],
   "source": []
  },
  {
   "cell_type": "code",
   "execution_count": null,
   "metadata": {},
   "outputs": [],
   "source": []
  }
 ],
 "metadata": {
  "kernelspec": {
   "display_name": "Python 3",
   "language": "python",
   "name": "python3"
  },
  "language_info": {
   "codemirror_mode": {
    "name": "ipython",
    "version": 3
   },
   "file_extension": ".py",
   "mimetype": "text/x-python",
   "name": "python",
   "nbconvert_exporter": "python",
   "pygments_lexer": "ipython3",
   "version": "3.6.10"
  }
 },
 "nbformat": 4,
 "nbformat_minor": 4
}
